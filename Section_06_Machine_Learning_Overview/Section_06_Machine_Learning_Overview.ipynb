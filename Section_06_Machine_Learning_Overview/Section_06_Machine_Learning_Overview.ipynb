{
 "cells": [
  {
   "cell_type": "markdown",
   "metadata": {},
   "source": [
    "# Machine Learning Overview"
   ]
  },
  {
   "cell_type": "markdown",
   "metadata": {},
   "source": [
    "În cadrul acestei părți o să învățăm despre ce tipuri de probleme rezolvă Machine Learning, care sunt tipurile de machine learning. În mare parte o să ne focusăm pe partea de Supervised Machine Learning deoarece cei mai mulți algoritmi cu care se începe sunt cei din categoria de Supervised Learning. Ceea ce o să se discute în această Secțiune reprezintă doar partea de teorie, scrierea de cod o să înceapă doar din secțiunea următoare."
   ]
  },
  {
   "cell_type": "markdown",
   "metadata": {},
   "source": [
    "Majoritatea algoritmilor o să fie învățați în următorul model:\n",
    "\n",
    "- Intuiție și teorie matematică\n",
    "\n",
    "- Exemplu de cod pentru modelul respectiv\n",
    "\n",
    "- Expansiunea algoritmului \n",
    "\n",
    "- Exerciții de proiect\n",
    "\n",
    "- Soluțile pentru exerciții"
   ]
  },
  {
   "cell_type": "markdown",
   "metadata": {},
   "source": [
    "O să începem cu o serie de întrebări:\n",
    "\n",
    "- De ce folosim Machine Learning?\n",
    "\n",
    "- La ce este util Machine Learning?\n",
    "\n",
    "- Ce anume este Machine Learning?"
   ]
  },
  {
   "cell_type": "markdown",
   "metadata": {},
   "source": [
    "În comparație cu un algoritm normal care așteaptă input de la utilizator pentru a vedea ce decizie să ia, un algoritm de Machine Learning o să ia el această decizie în funcție de datele pe care i le oferim. Ce tipuri de probleme poate să rezolve un astfel de algoritm? Oferirea de credite, partea de asigurare, predicția unor prețuri, filtru de spam, segmentarea clienților în funcție de anumite pattern-uri, plus multe altele."
   ]
  },
  {
   "cell_type": "markdown",
   "metadata": {},
   "source": [
    "După cum spuneam, prima jumătate a algoritmilor de Machine Learning pe care o să îi învățăm sunt cei din categoria de Supervised Learning, prin urmare o să ne focusăm pe pshiologia și detalii ce țin de acești algoritmi. O să facem acest lucru deoarece atunci când vedem codul de Python sau de Scikit-learn să știm la ce anume ne referim. Cum se preciza la începutul cursului, partea de Data Analysis am parcurs-o până în acest moment prin învățarea librăriilor precum Numpy, Pandas și cele de vizualizare a datelor (Matplotlib, Seaborn). În continuare, în ceea ce privește partea de Machine Learning avem la dispoziție o librărie extrem de puternnică denumită Scikit-learn."
   ]
  },
  {
   "cell_type": "markdown",
   "metadata": {},
   "source": [
    "Pentru a înțelege cum funcționează un algoritm de Machine Leaning o să aruncăm o privire peste exemplul prin care încercăm să prezicem cu ce preț se va vinde o anumită casă."
   ]
  },
  {
   "cell_type": "markdown",
   "metadata": {},
   "source": [
    "| Area m2 | Bedrooms | Bathrooms | Price |\n",
    "| --- | --- | --- | --- |\n",
    "| 200   | 3 | 2 | 500.000 $|\n",
    "| 190   | 2 | 1 | 450.000 $|\n",
    "| 230   | 3 | 3 | 650.000 $|\n",
    "| 180   | 1 | 1 | 400.000 $|\n",
    "| 210   | 2 | 2 | 550.000 $|"
   ]
  },
  {
   "cell_type": "markdown",
   "metadata": {},
   "source": [
    "Avem datele de mai sus, date referitoare la prețurtile de vânzare ale unor care împreună cu caracteristicile acestor case (numărul de metri pătrați, de dormitoare și de băi). În funcție de data set-ul pe care îl avem mai sus, atunci când apare o nouă casă și știm ce caracteristici are, putem să îi prezicem prețul în funcție de aceste caracteristici. Data setul de mai sus poartă denumirea de 'historical labeled'. Pentru un anumit produs, tot timpul trebuie să avem un anumit input și un anumit output. Ca și input pentru acest caz reprezintă caracteristicile noii case, iar ca și output o să avem predicția de preț pentru casa respectivă."
   ]
  },
  {
   "cell_type": "markdown",
   "metadata": {},
   "source": [
    "Până în acest moment avem setul de date procurat. Ce trebuie să facem pentru acest data set este să împărțim setul acesta de date în Features și Labels "
   ]
  },
  {
   "cell_type": "markdown",
   "metadata": {},
   "source": [
    "X = features\n",
    "\n",
    "y = labels"
   ]
  },
  {
   "cell_type": "markdown",
   "metadata": {},
   "source": [
    "Notația pentru acestea este de regulă X=feature și y=labels (o să vedem imediat ce reprezintă acestea). Ce reprezintă features și labels în cadrul unui set de date? Într-un data set, un label reprezintă pentru ce anume dorim să facem predicția, iar în cazul de față dorim să facem o predicție pentru prețul unei case, asta înseamnă că coloana de Price o să reprezinte label-ul pentru acest set de date. Features reprezintă componentele dintr-un data set pe baza cărora se va face această predicție, iar în acest caz reprezintă toate caracteristicile casei (toate coloanele prezente)"
   ]
  },
  {
   "cell_type": "markdown",
   "metadata": {},
   "source": [
    "În acest moment am luat data set-ul și am asignat featerurile după care prezicem și label-ul, adică ceea ce dorim să prezicem. În acest fel avem historical labeled data. Următorul pas care este crucial pentru partea de Machine Learning este partea de training-test split. Din moment ce am împărțit setul de date în features și label trebuie să împărțim acest set de date în training set și test set. Întrebarea este de ce să facem acest split și cum anume se face acesta?"
   ]
  },
  {
   "cell_type": "markdown",
   "metadata": {},
   "source": [
    "Să zicem că avem setul de date de mai sus și îl oferim ca și parte de trainig pentru un algoritm. Urmează procesul de predicție al unei noi instanțe, dar cum anume se poate măsura calitatea acestei predicții? Nu putem să calculăm această predicție pentru o casă nouă deoarece nu știm care este prețul de cumpărare, deoarece acesta nu s-a vândut. Nu putem să verificăm această acuratețe nici pe baza setului de date pe care a fost antrenat, deoarece acesta le-a memorat pe toate și nu ar fi o predicție, ar fi o repetare. Aici intră în calcul partea de train-test split. Până în acest moment am împărțit setul de date în Features (X) și labels (y). În continuare o să împărțim setul de date în training set și test set"
   ]
  },
  {
   "cell_type": "markdown",
   "metadata": {},
   "source": [
    "### Training set"
   ]
  },
  {
   "cell_type": "markdown",
   "metadata": {},
   "source": [
    "| Area m2 | Bedrooms | Bathrooms | Price |\n",
    "| --- | --- | --- | --- |\n",
    "| 200   | 3 | 2 | 500.000 $|\n",
    "| 190   | 2 | 1 | 450.000 $|\n",
    "| 230   | 3 | 3 | 650.000 $|"
   ]
  },
  {
   "cell_type": "markdown",
   "metadata": {},
   "source": [
    "Pentru partea de training set o să alegem primele trei instanțe ale data setului. O să antrenăm un model pe acest training set și pentru partea de verificare o să verificăm cu a rămas în partea de test set, date care de asemenea au atât features cât și labels"
   ]
  },
  {
   "cell_type": "markdown",
   "metadata": {},
   "source": [
    "### Test set"
   ]
  },
  {
   "cell_type": "markdown",
   "metadata": {},
   "source": [
    "| Area m2 | Bedrooms | Bathrooms | Price |\n",
    "| --- | --- | --- | --- |\n",
    "| 180   | 1 | 1 | 400.000 $|\n",
    "| 210   | 2 | 2 | 550.000 $|"
   ]
  },
  {
   "cell_type": "markdown",
   "metadata": {},
   "source": [
    "Dacă stăm să ne gândim mai bine, avem patru componente în această parte de train-test split, și anume X_train, X_test, y_train și y_test, unde X_train reprezintă feateres de la setul de antrenare, y_train reprezintă label-urile pentru setul de antrenare."
   ]
  },
  {
   "cell_type": "markdown",
   "metadata": {},
   "source": [
    "Pentru partea de training o să îi dăm acces la features și labels și partea de tarining set, iar pentru partea de testare o algoritmul o să primească doar features din partea de test (adică X_test). După ce primește aceste features o să facă anumite predicții (pe baza antrenării) și aceste predicții o să fie comparate cu labels din test set (y_test). Dacă diferența dintre aceste valori este una destul de mare și nu suntem mulțumiți de preformanța algoritmului, atunci putem să ajustăm algoritmul prin intermediul hyperparameters. Acești hyperparameters reprezintă parametrii din cadrul algoritmului a căror valorea poate fi modificată pentru a modifica algoritmul. După ajustarea lui, se poate reantrena un algoritm și se verifică din nou performanța acestuia."
   ]
  },
  {
   "cell_type": "markdown",
   "metadata": {},
   "source": [
    " "
   ]
  }
 ],
 "metadata": {
  "kernelspec": {
   "display_name": "Python 3.10.5 64-bit",
   "language": "python",
   "name": "python3"
  },
  "language_info": {
   "name": "python",
   "version": "3.10.5"
  },
  "orig_nbformat": 4,
  "vscode": {
   "interpreter": {
    "hash": "aee8b7b246df8f9039afb4144a1f6fd8d2ca17a180786b69acc140d282b71a49"
   }
  }
 },
 "nbformat": 4,
 "nbformat_minor": 2
}
