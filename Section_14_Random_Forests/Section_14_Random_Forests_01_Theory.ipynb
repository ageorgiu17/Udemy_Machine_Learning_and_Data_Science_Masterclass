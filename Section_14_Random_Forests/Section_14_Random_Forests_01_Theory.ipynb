{
 "cells": [
  {
   "cell_type": "markdown",
   "metadata": {},
   "source": [
    "# Random Forests"
   ]
  },
  {
   "attachments": {},
   "cell_type": "markdown",
   "metadata": {},
   "source": [
    "În această secțiune o să ne bazăm pe un alt algoritm de Machine Learning, și anume Random Forests. Acest algoritm are abilitatea de a crește performața unui model pornind de la algoritmul de Decision Tree. Random Forests este un model de tip 'ensemble' deoarece lucrează cu mai mulți algoritmi de Machine Learning, și anume mai mulți algoritmi de Decision Tree."
   ]
  },
  {
   "attachments": {},
   "cell_type": "markdown",
   "metadata": {},
   "source": [
    "De ce anume s-a creat acest model de Random Forest și de ce nu s-a continuat cu Decision Tree? Un model de Decision Tree este impus de acel gini impurity, iar din această cauză se folosesc doar anumite features, nu se utilizează toate care există în setul de date (am putut vedea asta și când am afișat model.feature_importances_). O altă problemă la Decision Tree este faptul că pentru un anumit set de date și un anumit set de reguli, de cele mai multe ori când se creează un model, acel Root Node o să fie tot timpul același, iar acesta este extrem de important deoarece pe baza acestuia se împarte întreg setul de date."
   ]
  },
  {
   "attachments": {},
   "cell_type": "markdown",
   "metadata": {},
   "source": [
    "Ideea din spate a Random Forests este a crea subseturi ale diferitelor features alese la întâmplare pentru fiecare potențial Splitting care există. Pentru a înțelege asta mai bine o să ne luăm un exemplu. Să zicem că avem un set de date cu 5 features și un label"
   ]
  },
  {
   "attachments": {},
   "cell_type": "markdown",
   "metadata": {},
   "source": [
    "| Feature1 | Feature2 | Feature3 | Feature4 | Feature5 | Label\n",
    "| --- | --- | --- | --- | --- | --- |\n",
    "| 10 | 10  | 10 | 10 | 10 | Yes |\n",
    "| 10 | 10  | 10 | 10 | 10 | Yes |\n",
    "| 10 | 10  | 10 | 10 | 10 | Yes |"
   ]
  },
  {
   "attachments": {},
   "cell_type": "markdown",
   "metadata": {},
   "source": [
    "Avem setul de date de mai sus (datele care sunt în tabel nu sunt irelevante). După cum spuneam avem un set de date cu 5 features și un label. Cum anume funcționează Random Forest? După cum știm, un model de Decision Tree funcționează prin Nodes unde se iau anumite decizii. Pentru fiecare Node, Random Forest ia la întâmplare un subset de features, iar din acel subset alege un feature care să fie selectat pentru Splitting. O să începem de la Root Node. Pentru Root Node să zicem că avem ca și subset coloanele Feature1, Feature4 și Feature5. Din acest subset, algoritmul alege un feature (să zicem Feature4). Creează acel splitting prin care se mai creează două Nodes. Merge la următorul Node și acuma alege din nou un subset de Feature la întâmplare, iar din acest subset alege un Feature. Continuă cu această idee până ce se creează acel Decision Tree. Prin acest procedeu o să creem mai mulți algoritmi de Decision Tree"
   ]
  },
  {
   "attachments": {},
   "cell_type": "markdown",
   "metadata": {},
   "source": [
    "Întrebarea care apare este cum putem să primim un răspuns concret de predicție din moment ce utilizăm atâtea modele? Pentru partea de clasificare o să facem un calcul a valorilor oferite de către fiecare model de Decision Tree. Dacă avem un Random Forest cu 3 Decision Tree, iar dintre acestea două prezic clasa 1 pentru un feature, iar alt model precize clasa 0, atunci avem un scor de 2-1 pentru clasa 1, ceea ce înseamnă că o să se aleagă în final valoarea 1 pentru acele date. pe baza acestei ecuații 2/1 o să calculăm și probabilitatea de aparținere într-o anumită clasă.\n",
    "\n",
    "În ceea ce privește modelele de Regresie, acolo se va face o medie aritmetică a valorile rezultate din fiecare Decison Tree"
   ]
  },
  {
   "attachments": {},
   "cell_type": "markdown",
   "metadata": {},
   "source": [
    "Pentru partea de hyperparametrii, un model de Random Forest are doar câțiva parametrii în plus, și anume:\n",
    "\n",
    "1. Number of estimators - prin acest parametru alegem câte modele de Decision Tree să folosească în total Random Forests\n",
    "\n",
    "2. Number of features - câte features să includă în fiecare subset\n",
    "\n",
    "3. Bootstrap Sample - dacă permite bootstrap sampling pentru fiecare subset (o să vedem ce anume reprezintă bootstrap sampling)\n",
    "\n",
    "4. Out-of-Bag Error - Să calculeze eroarea aceasta în partea de antrenare?"
   ]
  },
  {
   "attachments": {},
   "cell_type": "markdown",
   "metadata": {},
   "source": [
    "În ceea ce privește hyperparametrul de number of estimators acesta se recomandă să aibă o valoare cuprinsă între 50 și 200. De cele mai multe ori sunt destule atâtea modele de Decision Trees pentru a crea un model cu o precizie cât mai mare. Se poate alege și un număr mai mare de Trees, însă la un număr extrem de mare, aceștia o să fie uneori identici, o să se repete. Partea bună este că acest tip de algoritm (Random Forests) nu are tendința de a face overfit, orice valoare s-ar alege pentru acest hyperparametru. Totuși este recomandat să se utilizeze valorile recomandate sau să se facă un grid search pentru a găsi valoarea optimă."
   ]
  },
  {
   "attachments": {},
   "cell_type": "markdown",
   "metadata": {},
   "source": [
    "Câte features ar trebui să includem în acel subset când se face Splitting pe un Node? Pentru partea de Regression se recomandă să se ia sqrt(N) unde N este numărul de features sau chiar N/3. În ceea ce privește partea de clasificare, acolo formula este log2(N-1)"
   ]
  },
  {
   "attachments": {},
   "cell_type": "markdown",
   "metadata": {},
   "source": [
    "Prin hyperparametrul de bootstraping sample îi spunem algoritmului dacă îi permitem să facă bootstraping sau nu? Ce este acest bootstraping? Acesta poate fi descris prin eșantionarea aleatorie cu înlocuire (random sampling with replacement). Să luăm un exemplu pentru a putea înțelege"
   ]
  },
  {
   "attachments": {},
   "cell_type": "markdown",
   "metadata": {},
   "source": [
    "| Letters |\n",
    "| --- |\n",
    "| A |\n",
    "| B |\n",
    "| C |\n",
    "| D |\n",
    "| E |"
   ]
  },
  {
   "attachments": {},
   "cell_type": "markdown",
   "metadata": {},
   "source": [
    "Avem cele 5 litere, iar din aceste 5 litere o să alegem random câte 10 valori"
   ]
  },
  {
   "attachments": {},
   "cell_type": "markdown",
   "metadata": {},
   "source": [
    "| 1 |  2 |  3 |  4 |  5 |  6 |  7 |  8 |  9 |  10 |\n",
    "| --- | --- | --- | --- | --- | --- | --- | --- | --- | --- |\n",
    "| C | A | D | C | E | D | A | B | B | C |"
   ]
  },
  {
   "attachments": {},
   "cell_type": "markdown",
   "metadata": {},
   "source": [
    "Singurul mod de a alege 10 valori dintr-un set de 5 valori este prin repetarea anumitor valori (după cum se poate observa în exemplul de mai sus). Asta înseamnă bootstraping, că alegem valori random dintr-un set de valori și permitem ca acele valori să fie selectate de mai multe ori. După cum știm, atunci când se creează un model de Random Forest, la partea de Splitting se alege un număr random de Features din care este selectat un anumit Feature pentru a se face acel Splitting în acel Node. Partea de Bootstraping permite ca din acele Features să se selecteze un anumit număr de rânduri la întâmplare. Acest hyperparametru ne permite să reducem corelația dintre Trees și să generalizăm mai bine modelul, astfel încât să se comporte mai bine în cazul datelor noi venite."
   ]
  },
  {
   "attachments": {},
   "cell_type": "markdown",
   "metadata": {},
   "source": [
    "Out-of-Bag Error? Pentru a înțelege acest hyperparametru a fost necesar să știm ce este bootstraping. Atunci când utilizăm bootstraping, anumite rânduri din setul de date nu au fost folosite pentru partea de antrenare. Datele acelea care nu au fost utilizate pentru partea de antrenare s-ar putea utiliza pentru partea de validare a performanței modelului. Aceste date ce nu au fost folosite poartă denumirea de Out-of-Bag Samples, iar acea eroare este eroarea calculată pentru acest set de date"
   ]
  },
  {
   "cell_type": "markdown",
   "metadata": {},
   "source": []
  }
 ],
 "metadata": {
  "kernelspec": {
   "display_name": "Python 3",
   "language": "python",
   "name": "python3"
  },
  "language_info": {
   "codemirror_mode": {
    "name": "ipython",
    "version": 3
   },
   "file_extension": ".py",
   "mimetype": "text/x-python",
   "name": "python",
   "nbconvert_exporter": "python",
   "pygments_lexer": "ipython3",
   "version": "3.10.5"
  },
  "orig_nbformat": 4,
  "vscode": {
   "interpreter": {
    "hash": "aee8b7b246df8f9039afb4144a1f6fd8d2ca17a180786b69acc140d282b71a49"
   }
  }
 },
 "nbformat": 4,
 "nbformat_minor": 2
}
