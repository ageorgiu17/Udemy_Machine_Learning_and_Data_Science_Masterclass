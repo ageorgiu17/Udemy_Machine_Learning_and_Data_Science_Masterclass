{
 "cells": [
  {
   "cell_type": "markdown",
   "metadata": {},
   "source": [
    "# Naive Bayes and Natural Language Processing"
   ]
  },
  {
   "attachments": {},
   "cell_type": "markdown",
   "metadata": {},
   "source": [
    "În cadrul acestei secțiuni o să discutăm despre procesul prin care putem utiliza texte (string-uri) pentru algoritmii de Machine Learning. Acest procedeu poartă denumirea de Natural Language Processing. Această secțiune face parte tot din categoria de Supervised Learning, prin urmare aceste informații pe care o să le extragem din texte trebuie să aibă un anumit label la ele. O să interacționăm cu anumite review-uri cărora o să le aplicăm un anumit label de positive sau negative review. De cele mai multe ori aceste informații de tip text nu sunt cu label și intră în categoria de Unsupervised learning, iar aceasta o să  fie următoarea secțiune. Până atunci o să ne concetrăm pe Supervised Learning în ceea ce privește NLP."
   ]
  },
  {
   "cell_type": "code",
   "execution_count": 1,
   "metadata": {},
   "outputs": [
    {
     "name": "stdout",
     "output_type": "stream",
     "text": [
      "zsh:fg:1: no job control in this shell.\n"
     ]
    }
   ],
   "source": [
    "! %history"
   ]
  },
  {
   "cell_type": "markdown",
   "metadata": {},
   "source": []
  }
 ],
 "metadata": {
  "kernelspec": {
   "display_name": "Python 3",
   "language": "python",
   "name": "python3"
  },
  "language_info": {
   "codemirror_mode": {
    "name": "ipython",
    "version": 3
   },
   "file_extension": ".py",
   "mimetype": "text/x-python",
   "name": "python",
   "nbconvert_exporter": "python",
   "pygments_lexer": "ipython3",
   "version": "3.10.5"
  },
  "orig_nbformat": 4,
  "vscode": {
   "interpreter": {
    "hash": "aee8b7b246df8f9039afb4144a1f6fd8d2ca17a180786b69acc140d282b71a49"
   }
  }
 },
 "nbformat": 4,
 "nbformat_minor": 2
}
