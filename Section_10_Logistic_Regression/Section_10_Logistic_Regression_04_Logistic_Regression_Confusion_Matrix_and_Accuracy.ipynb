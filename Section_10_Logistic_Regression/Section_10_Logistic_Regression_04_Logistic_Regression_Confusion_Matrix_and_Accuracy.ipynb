{
 "cells": [
  {
   "cell_type": "markdown",
   "metadata": {},
   "source": [
    "# Logistic Regression - Classification Metrics - Confusion Matrix and Accuracy"
   ]
  },
  {
   "cell_type": "markdown",
   "metadata": {},
   "source": [
    "Am reușit în partea precedentă să facem predicții utilizând un model de Logistic Regression. Acest model returnează ca și predicții clasa din care face parte o anumită instanță. Acum trebuie să evaluăm aceste predicții, iar pentru început o să începem cu partea de Confusion Matrix"
   ]
  },
  {
   "cell_type": "markdown",
   "metadata": {},
   "source": [
    "Probabil că până acuma s-a mai auzit de termenii de false positives și false negatives sau de acuratețe (accuracy). Din punct de vedere matematic ce reprezintă acești termeni? Să luăm exemplul unde dorim să facem o predicție dacă o persoană este infectată cu un anumit virus pe baza unor features biologice. Putem să tratăm acest exemplu cu un model de Logistic Regression unde valoarea 0 reprezintă non-infecție (Tests Negative), iar 1 reprezintă infecție (Tests Positive)"
   ]
  },
  {
   "cell_type": "markdown",
   "metadata": {},
   "source": [
    "În viața reală este foarte improbabil ca modelul să funcționeze perfect. Din acest motiv (din cauza faptului că modelul nu funcționează perfect) o să avem ca și rezultat patru cazuri. Primele două ar fi:\n",
    "\n",
    "- o persoană care este infectată este testată pozitiv\n",
    "\n",
    "- o persoană care nu este infectată este testată negativ\n",
    "\n",
    "Acesta este rezultatul pe care l-am dorim de fiecare dată. Din moment ce modelul nu funcționează perfect, mai există două posibilități:\n",
    "\n",
    "- o persoană care este infectată este testată negativ\n",
    "\n",
    "- o persoană care nu este infectată este testată pozitiv"
   ]
  },
  {
   "cell_type": "markdown",
   "metadata": {},
   "source": [
    "Cu aceste patru posibilități putem să construim o matrice. Să începem să construim această matrice de la 0"
   ]
  },
  {
   "cell_type": "markdown",
   "metadata": {},
   "source": [
    "|  | Actual | Data |\n",
    "| --- | --- | --- |\n",
    "| Predicted | Infected   | Healthy |\n",
    "|  Infected  |  | |\n",
    "|  Healthy  |  | |"
   ]
  },
  {
   "cell_type": "markdown",
   "metadata": {},
   "source": [
    "Avem matricea de mai sus. Unde avem partea de Actual Data acolo ne folosim de datele pe care le avem deja, de datele pe care antrenăm modelul. Știm de la început dacă acea persoană este infectată sau nu cu acel virus. La coloana de Predicted acolo o să fie predicția pe care o face modelul respectiv. Să luăm primul exemplu prin care avem o persoană infectată pentru care s-a făcut o predicție că ar fi întradevăr infectată. Din moment ce predicția este la fel cu ceea ce este adevărat, atunci putem spune că s-a făcut o predicție corectă (True). La intersecția dintre Actual Infected și Predicted Infected o să trecem valoarea de True Positive deoarece persoana a fost testată și prezisă ca fiind pozitivă."
   ]
  },
  {
   "cell_type": "markdown",
   "metadata": {},
   "source": [
    "|  | Actual | Data |\n",
    "| --- | --- | --- |\n",
    "| Predicted | Infected   | Healthy |\n",
    "|  Infected  | True Positive | |\n",
    "|  Healthy  |  | |"
   ]
  },
  {
   "cell_type": "markdown",
   "metadata": {},
   "source": [
    "La capătul celălalt al matricii, dacă avem o persoană care a fost testată negativ și predicția a fost tot negativă atunci putem să spunem că pentru persoanele de la intersecția dintre Actua Healthy și Predicted Healty au ambele valoarea de Negative (ceea ce este adevărat deoarece au fost testate negativ și au fost și prezice ca fiind negativ) atunci o să avem categoria de True Negative. Să completăm cu această valoare în matricea respectivă"
   ]
  },
  {
   "cell_type": "markdown",
   "metadata": {},
   "source": [
    "|  | Actual | Data |\n",
    "| --- | --- | --- |\n",
    "| Predicted | Infected   | Healthy |\n",
    "|  Infected  | True Positive | |\n",
    "|  Healthy  |  | True Negative |"
   ]
  },
  {
   "cell_type": "markdown",
   "metadata": {},
   "source": [
    "Aceste două categorii sunt categorii care reprezintă adevărul. Aceste două categorii dorim să fie maximizate pe cât posibil în cadrul unui model de Machine Learning ce folosește Logistic Regression. Acum să trecem la partea falsă a detecțiilor. Să presupunem că avem un pacient care știm că este negativ. Modelul cum spuneam nu funcționează perfect și detectează ca fiind testat pozitiv. Aceast tip de detecție este în primul rând falsă (deoarece un pacient care era sănătos a fost detectat ca fiind testat pozitiv cu virusul), False, iar din moment ce această peroană a fost testată ca fiind Flase Positive o să și avem categoria de False Positive"
   ]
  },
  {
   "cell_type": "markdown",
   "metadata": {},
   "source": [
    "|  | Actual | Data |\n",
    "| --- | --- | --- |\n",
    "| Predicted | Infected   | Healthy |\n",
    "|  Infected  | True Positive | False Positive |\n",
    "|  Healthy  |  | True Negative |"
   ]
  },
  {
   "cell_type": "markdown",
   "metadata": {},
   "source": [
    "În cazul invers, în care avem o persoană infectată, dar pentru care s-a făcut o predicție ca fiind sănătoasă (Healty) avem o predicție falsă iar (False). Din moment ce tipul predicției a reprezentat faptul că persoana a fost testată fals negativ, avem categoria de False Negative"
   ]
  },
  {
   "cell_type": "markdown",
   "metadata": {},
   "source": [
    "|  | Actual | Data |\n",
    "| --- | --- | --- |\n",
    "| Predicted | Infected   | Healthy |\n",
    "|  Infected  | True Positive | False Positive |\n",
    "|  Healthy  | False Negative | True Negative |"
   ]
  },
  {
   "cell_type": "markdown",
   "metadata": {},
   "source": [
    "Având aceste patru categorii (True Positive, True Negative, False Positive, False Negativ) putem crea diferite calcule pentru a avea mai multe metode de a evalua performața unui model. Să luăm exemplul prin care testăm 100 de persoane pentru care știm dinainte dacă sunt pozitive sau negative și o să și facem predicții pentru aceste persoane. Știm că avem 5 persoane testate pozitiv, iar restul de 95 sunt sănătoase (testate negativ), iar în urma predicțiilor avem următoarea matrice:"
   ]
  },
  {
   "cell_type": "markdown",
   "metadata": {},
   "source": [
    "|  | Actual | Data |\n",
    "| --- | --- | --- |\n",
    "| Predicted | Infected   | Healthy |\n",
    "|  Infected  | 4  | 2  |\n",
    "|  Healthy  |  1 | 93  |"
   ]
  },
  {
   "cell_type": "markdown",
   "metadata": {},
   "source": [
    "Având aceste date putem să calcuăm diferite metrice de evaluare a performanței. Prima metodă de evaluare poartă denumirea de accuracy. De foarte multe ori auzim că avem o acuratețe de 99%, dar matematic ce înseamnă această acuratețe. Acuratețea (accuracy) înseamnă de câte ori a fost modelul corect și are următoarea formulă:\n",
    "\n",
    "Acc = (TP + TN) / Total\n",
    "\n",
    "TP = True Positive\n",
    "\n",
    "TN = True Negative\n",
    "\n",
    "Total = Numărul total de instanțe"
   ]
  },
  {
   "cell_type": "markdown",
   "metadata": {},
   "source": [
    "Pentru cazul de mai sus avem următoarele date:\n",
    "\n",
    "TP = 4\n",
    "\n",
    "TN = 93\n",
    "\n",
    "Total = 100"
   ]
  },
  {
   "cell_type": "markdown",
   "metadata": {},
   "source": [
    "Dacă aplicăm formula de mai sus Acc = (TP + TN) / Total o să avem (4 + 93) / 100"
   ]
  },
  {
   "cell_type": "code",
   "execution_count": 2,
   "metadata": {},
   "outputs": [
    {
     "data": {
      "text/plain": [
       "0.97"
      ]
     },
     "execution_count": 2,
     "metadata": {},
     "output_type": "execute_result"
    }
   ],
   "source": [
    "(4 + 93) / 100"
   ]
  },
  {
   "cell_type": "markdown",
   "metadata": {},
   "source": [
    "În urma ecuație de mai sus am aflat că modelul respectiv are o probabilitate de 97%. Întrebarea care se poate pune acuma? Este această valoare o valoare bună pentru accuracy? La întrebarea aceasta intră în calcul paradoxul acurateții. Multe teste returenază doar acuratețea ca și rezultat, dar de multe ori valoarea aceasta poate duce la un paradox atunci când avem un label nebalansat (care are extrem de multe valori într-o clasă)"
   ]
  },
  {
   "cell_type": "markdown",
   "metadata": {},
   "source": [
    "Pentru a putea înțelege acest paradox o să luăm exemplul în care o să oferim ca și rezultat doar valoarea de Healthy. În cadrul acestui set de date spunem că fiecare persoană este Healthy. Prin urmare nu o să mai avem date în partea de Infected, ci o să avem doar date în categoria de Healthy. Știm că în setul de date avem 100 de persoane dintre care 95 sunt Healthy, iar restul de 5 sunt Infected. O să avem 5 cazuri pentru False Negatives și retul de 95 sunt de tipul True Negative"
   ]
  },
  {
   "cell_type": "markdown",
   "metadata": {},
   "source": [
    "|  | Actual | Data |\n",
    "| --- | --- | --- |\n",
    "| Predicted | Infected   | Healthy |\n",
    "|  Infected  | 0  | 0  |\n",
    "|  Healthy  |  5 | 95  |"
   ]
  },
  {
   "cell_type": "markdown",
   "metadata": {},
   "source": [
    "Din moment ce am zis că o să returneze doar partea de Healthy, tot ce era trecut la Infected se adună cu ce era înainte la Healthy. În acest moment acuma nu mai avem valori pentru secțiunea de Infected. În acest caz dacă aplicăm funcția pe valorile de mai sus tot o să avem o valoarea destul de mare pentru partea de accuracy"
   ]
  },
  {
   "cell_type": "code",
   "execution_count": 3,
   "metadata": {},
   "outputs": [
    {
     "data": {
      "text/plain": [
       "0.95"
      ]
     },
     "execution_count": 3,
     "metadata": {},
     "output_type": "execute_result"
    }
   ],
   "source": [
    "(0 + 95) / 100"
   ]
  },
  {
   "cell_type": "markdown",
   "metadata": {},
   "source": [
    "Se pare că avem o acuratețe de 95% chiar dacă modelul respectiv returnează mereu faptul că persoana respectivă este sănătoasă și nu ține cont de altceva. Acest lucru se întâmplă deoarece în setul de date am avut un număr de 95 de persoane care am știu că sunt Healthy. Aici apare paradoxul de accuracy, știm că acest model este clar greșit (din moment ce returnează numai Healthy) și totuși avem o acuratețe de 95%. Probabil putem spune că acesta este un caz inventat pentru a prezenta acest tip de paradox la accuracy, dar adevărul este că acest tip de date este destul de des întâlnit în seturile de date din lumea reală în care avem un imbalas de clase. Un bun exemplu ar fi un model care detectează fraudă la tranzacții cu card de credit. Există atât de multe tranzacții cu card de credit încât extremde puține din ele sunt adevărate fraude. Dacă avem un procentaj în care doar 3% din totalul de tranzacții sunt fraude, atunci dacă creem un model care să ne spună tot timpul că nu am avut fraudă (indiferent dacă chiar a fost sau nu) atunci o să avem un model care are o acuratețe de 97%, ceea ce nu este tocmai bun, mai ales pentru situații de tranzacții. Din această cauză, atunci când avem de a face cu un set de date ce are un imbalans între clase nu este recomandat să utilizăm doar partea de accuracy. Pentru a rezolva această problemă apar în calcul conceptele de precision, recall și f1 score"
   ]
  },
  {
   "cell_type": "markdown",
   "metadata": {},
   "source": []
  }
 ],
 "metadata": {
  "kernelspec": {
   "display_name": "Python 3.9.12 ('base')",
   "language": "python",
   "name": "python3"
  },
  "language_info": {
   "codemirror_mode": {
    "name": "ipython",
    "version": 3
   },
   "file_extension": ".py",
   "mimetype": "text/x-python",
   "name": "python",
   "nbconvert_exporter": "python",
   "pygments_lexer": "ipython3",
   "version": "3.9.12"
  },
  "orig_nbformat": 4,
  "vscode": {
   "interpreter": {
    "hash": "40d3a090f54c6569ab1632332b64b2c03c39dcf918b08424e98f38b5ae0af88f"
   }
  }
 },
 "nbformat": 4,
 "nbformat_minor": 2
}
