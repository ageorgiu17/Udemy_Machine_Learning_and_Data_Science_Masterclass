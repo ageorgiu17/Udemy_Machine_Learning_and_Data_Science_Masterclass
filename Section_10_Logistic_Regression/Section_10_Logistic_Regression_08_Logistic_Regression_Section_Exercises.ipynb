{
 "cells": [
  {
   "attachments": {},
   "cell_type": "markdown",
   "metadata": {},
   "source": [
    "# Logistic Regression Section Exercises"
   ]
  },
  {
   "attachments": {},
   "cell_type": "markdown",
   "metadata": {},
   "source": [
    "Import the necessary libraries"
   ]
  },
  {
   "attachments": {},
   "cell_type": "markdown",
   "metadata": {},
   "source": [
    "Setul de date conține 14 atribute fizice ale unoor pacienți. Aceste atribute fizice spun dacă un anumit pacient suferă de o boală de inimă. Valoarea 0 ne spune că pacientul nu suferă de acea boală, iar valoarea 1 ne spune că persoana respectivă suferă de o boală de inimă.\n",
    "\n",
    "Atributele sunt:\n",
    "\n",
    "- age\n",
    "\n",
    "- sex\n",
    "\n",
    "- chest pain (4 values)\n",
    "\n",
    "- resting blood presure\n",
    "\n",
    "- serun cholestoral in mg/dl\n",
    "\n",
    "- fasting blood sugar > 120 mg/dl\n",
    "\n",
    "- resting electrocardiographic results (values 0, 1, 2)\n",
    "\n",
    "- maximum heart rate achieved\n",
    "\n",
    "- exercise induce anigina\n",
    "\n",
    "- oldpeak = ST depresion induced by exercise relative to rest\n",
    "\n",
    "- the slope of the peak exercise ST segment\n",
    "\n",
    "- number of major vessels (0-3) colored by flourosopy\n",
    "\n",
    "- thal: 3 = normal, 6 = fixed defect, 7 = reversable defect\n",
    "\n",
    "- target: 0 for no presence of heart disease, 1 for presence of heart disease"
   ]
  },
  {
   "attachments": {},
   "cell_type": "markdown",
   "metadata": {},
   "source": [
    "1. Read the data"
   ]
  },
  {
   "attachments": {},
   "cell_type": "markdown",
   "metadata": {},
   "source": [
    "### Exploratory Data Analysis and Visualization"
   ]
  },
  {
   "attachments": {},
   "cell_type": "markdown",
   "metadata": {},
   "source": [
    "2. Print the head of the data"
   ]
  },
  {
   "attachments": {},
   "cell_type": "markdown",
   "metadata": {},
   "source": [
    "3. Explore if Dataset has missing values"
   ]
  },
  {
   "attachments": {},
   "cell_type": "markdown",
   "metadata": {},
   "source": [
    "4. Describe all the numeric data from the Data set (min, max, std, etc)"
   ]
  },
  {
   "attachments": {},
   "cell_type": "markdown",
   "metadata": {},
   "source": [
    "5. Create a bar plot that shows the total counts per target value"
   ]
  },
  {
   "attachments": {},
   "cell_type": "markdown",
   "metadata": {},
   "source": [
    "6. Create a pair plot to display the relationship between the following columns: age, trestbpd, chol, thalach, target"
   ]
  },
  {
   "attachments": {},
   "cell_type": "markdown",
   "metadata": {},
   "source": [
    "7. Create a heatmap of the correlations"
   ]
  },
  {
   "attachments": {},
   "cell_type": "markdown",
   "metadata": {},
   "source": [
    "### Machine Learning"
   ]
  },
  {
   "attachments": {},
   "cell_type": "markdown",
   "metadata": {},
   "source": [
    "8. Separate the data into Features and labels"
   ]
  },
  {
   "attachments": {},
   "cell_type": "markdown",
   "metadata": {},
   "source": [
    "9. Split the data into train-test-split with a 10% test size and a 101 random state"
   ]
  },
  {
   "attachments": {},
   "cell_type": "markdown",
   "metadata": {},
   "source": [
    "10. Scale the data"
   ]
  },
  {
   "attachments": {},
   "cell_type": "markdown",
   "metadata": {},
   "source": [
    "### Logistic Regression Model"
   ]
  },
  {
   "attachments": {},
   "cell_type": "markdown",
   "metadata": {},
   "source": [
    "11. Create a Logistic Regression model"
   ]
  },
  {
   "attachments": {},
   "cell_type": "markdown",
   "metadata": {},
   "source": [
    "12. Perform Cross-Validation and GridSearch"
   ]
  },
  {
   "attachments": {},
   "cell_type": "markdown",
   "metadata": {},
   "source": [
    "13. Report back the best parameters of the model"
   ]
  },
  {
   "attachments": {},
   "cell_type": "markdown",
   "metadata": {},
   "source": [
    "14. Report back the model's coefficients"
   ]
  },
  {
   "attachments": {},
   "cell_type": "markdown",
   "metadata": {},
   "source": [
    "15. Create a barplot of the coefficients and sort those values in the plot"
   ]
  },
  {
   "attachments": {},
   "cell_type": "markdown",
   "metadata": {},
   "source": [
    "### Model Performance evaluation"
   ]
  },
  {
   "attachments": {},
   "cell_type": "markdown",
   "metadata": {},
   "source": [
    "16. Create the model performance evaluation metrics (confusion matrix, plot, classification report)"
   ]
  },
  {
   "attachments": {},
   "cell_type": "markdown",
   "metadata": {},
   "source": [
    "17. Plot the ROC curve and the precision-recall curve"
   ]
  },
  {
   "attachments": {},
   "cell_type": "markdown",
   "metadata": {},
   "source": [
    "### Predict for a new patient"
   ]
  },
  {
   "attachments": {},
   "cell_type": "markdown",
   "metadata": {},
   "source": [
    "18  Predict if a patient has a heart disease. The patient has the following Features:\n",
    "\n",
    "1. age = 48.0\n",
    "\n",
    "2. sex = 0.0\n",
    "\n",
    "3. cp = 2.0 \n",
    "\n",
    "4. trestbpd = 130.0\n",
    "\n",
    "5. chol = 275.0\n",
    "\n",
    "6. fbs = 0.0 \n",
    "\n",
    "7. restecg = 1.0 \n",
    "\n",
    "8. thalach = 139.0\n",
    "\n",
    "9. exang = 0.0 \n",
    "\n",
    "10. oldpeak = 0.2\n",
    "\n",
    "11. slope = 2.0\n",
    "\n",
    "12. ca = 0.0\n",
    "\n",
    "13. thal = 2.0"
   ]
  },
  {
   "cell_type": "markdown",
   "metadata": {},
   "source": []
  }
 ],
 "metadata": {
  "kernelspec": {
   "display_name": "Python 3.9.12 ('venv': venv)",
   "language": "python",
   "name": "python3"
  },
  "language_info": {
   "name": "python",
   "version": "3.9.12"
  },
  "orig_nbformat": 4,
  "vscode": {
   "interpreter": {
    "hash": "a3a3a6ef3c8b7e46899d4c945da248f12dfe85847045d03c208cca8e54addeb5"
   }
  }
 },
 "nbformat": 4,
 "nbformat_minor": 2
}
