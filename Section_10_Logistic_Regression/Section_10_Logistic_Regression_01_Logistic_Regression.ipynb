{
 "cells": [
  {
   "cell_type": "markdown",
   "metadata": {},
   "source": [
    "# Logistic regression"
   ]
  },
  {
   "cell_type": "markdown",
   "metadata": {},
   "source": [
    "Am învățat cum putem să folosim Linear Regression (și variațiile acesteia Lasso, Ridge, ElasticNet) pentru a face predicții la un label ce conține valori numerice continue. Întrebarea care vine acuma este cum putem să facem predicții pentru un label categoric? Aici intră în calcul partea de Logistic regression. De reținut faptul că pe parcursul acestui curs o să ne uităm peste mai multe modele care pot face predicții pentru labels de tip continu sau categoric (nu o să fie doar Linear Regression și Logistic regression). De asemenea să nu ne inducă în eroare denumirea de Regression din Logistic Regression, deoarece acesta este un model de Machine Learning de clasificare care are scopul de a prezice categorii pentru labels."
   ]
  },
  {
   "cell_type": "markdown",
   "metadata": {},
   "source": [
    "În prima parte o să vedem cum anume putem modifica algorimtul de Linear Regression în cel de Logistic regression utilizând ceea ce portă denumirea de sigmoid function (logistic function). Urmează partea în care o să discutăm despre teoria matematică ce stă în spatele Logistic Regression și despre cum putem rezolva problema de Gradient Descent. După ce se implementează un model de Logistic Regression urmează partea de evaluare care diferită față de evaluarea unui model de Linear Regression. O să încheiem secțiunea cu partea de Multiclass Classification și cu un proiect"
   ]
  },
  {
   "cell_type": "markdown",
   "metadata": {},
   "source": [
    "Un astfel de model de Logistic Regression ne permite să facem predicții pe un label de tip categorical bazat pe date anterioare (pe baza cărora se antrenează). Acel label care se prezice poate avea două sau mai multe valori. Un model de clasificare de cele mai multe ori returnează o probabilitate a unei instanțe să aparțină la o anumită clasă. De exemplu, dacă avem un label cu 3 valori de prezis (0, 1 și 2) atunci pentru o anumită instanță există o probabilitate de 10% să facă parte din clasa 0, o probabilitate de 85% să facă parte din clasa 1 și o probabilitate de 5% să facă parte din clasa 2. Probabilitatea de 85% fiind cea mai mare, la final modelul prezice că acea instanță face parte din clasa 1"
   ]
  },
  {
   "cell_type": "markdown",
   "metadata": {},
   "source": [
    "Logistic regression funcționează prin transformarea modelului de Linear Regression într-un model de clasificare prin folosirea unei funcții care poartă denumirea de logistic function. Să luăm exemplul următor."
   ]
  },
  {
   "cell_type": "code",
   "execution_count": 6,
   "metadata": {},
   "outputs": [],
   "source": [
    "data = {'Income': [-5, -4, -2, -1, 0, 2, 3, 4, 5], 'Loan Paid' : [0, 0, 0, 0, 0, 1, 1, 1, 1]}"
   ]
  },
  {
   "cell_type": "code",
   "execution_count": 7,
   "metadata": {},
   "outputs": [],
   "source": [
    "import pandas as pd\n",
    "df = pd.DataFrame(data)"
   ]
  },
  {
   "cell_type": "code",
   "execution_count": 8,
   "metadata": {},
   "outputs": [
    {
     "data": {
      "text/html": [
       "<div>\n",
       "<style scoped>\n",
       "    .dataframe tbody tr th:only-of-type {\n",
       "        vertical-align: middle;\n",
       "    }\n",
       "\n",
       "    .dataframe tbody tr th {\n",
       "        vertical-align: top;\n",
       "    }\n",
       "\n",
       "    .dataframe thead th {\n",
       "        text-align: right;\n",
       "    }\n",
       "</style>\n",
       "<table border=\"1\" class=\"dataframe\">\n",
       "  <thead>\n",
       "    <tr style=\"text-align: right;\">\n",
       "      <th></th>\n",
       "      <th>Income</th>\n",
       "      <th>Loan Paid</th>\n",
       "    </tr>\n",
       "  </thead>\n",
       "  <tbody>\n",
       "    <tr>\n",
       "      <th>0</th>\n",
       "      <td>-5</td>\n",
       "      <td>0</td>\n",
       "    </tr>\n",
       "    <tr>\n",
       "      <th>1</th>\n",
       "      <td>-4</td>\n",
       "      <td>0</td>\n",
       "    </tr>\n",
       "    <tr>\n",
       "      <th>2</th>\n",
       "      <td>-2</td>\n",
       "      <td>0</td>\n",
       "    </tr>\n",
       "    <tr>\n",
       "      <th>3</th>\n",
       "      <td>-1</td>\n",
       "      <td>0</td>\n",
       "    </tr>\n",
       "    <tr>\n",
       "      <th>4</th>\n",
       "      <td>0</td>\n",
       "      <td>0</td>\n",
       "    </tr>\n",
       "    <tr>\n",
       "      <th>5</th>\n",
       "      <td>2</td>\n",
       "      <td>1</td>\n",
       "    </tr>\n",
       "    <tr>\n",
       "      <th>6</th>\n",
       "      <td>3</td>\n",
       "      <td>1</td>\n",
       "    </tr>\n",
       "    <tr>\n",
       "      <th>7</th>\n",
       "      <td>4</td>\n",
       "      <td>1</td>\n",
       "    </tr>\n",
       "    <tr>\n",
       "      <th>8</th>\n",
       "      <td>5</td>\n",
       "      <td>1</td>\n",
       "    </tr>\n",
       "  </tbody>\n",
       "</table>\n",
       "</div>"
      ],
      "text/plain": [
       "   Income  Loan Paid\n",
       "0      -5          0\n",
       "1      -4          0\n",
       "2      -2          0\n",
       "3      -1          0\n",
       "4       0          0\n",
       "5       2          1\n",
       "6       3          1\n",
       "7       4          1\n",
       "8       5          1"
      ]
     },
     "execution_count": 8,
     "metadata": {},
     "output_type": "execute_result"
    }
   ],
   "source": [
    "df"
   ]
  },
  {
   "cell_type": "markdown",
   "metadata": {},
   "source": [
    "Ce anume reprezintă datele respective? Datele din coloana de income reprezintă sursa de venit a unei persoane, iar coloana de Loan Paid ne spune dacă acea persoană a reușit să își plătească datoriile. 0 înseamnă că nu a reușit să își plătească datoriile, iar 1 înseamnă că a reușit acest lucru. Se poate observa că există o legătură între aceste date, persoanele care au o sursă de venit pozitivă și-au plătit datoriile, iar cele care au negativă nu au reușit să își plătească datoriile."
   ]
  },
  {
   "cell_type": "code",
   "execution_count": 9,
   "metadata": {},
   "outputs": [],
   "source": [
    "import matplotlib.pyplot as plt\n",
    "import seaborn as sns"
   ]
  },
  {
   "cell_type": "code",
   "execution_count": 10,
   "metadata": {},
   "outputs": [
    {
     "data": {
      "text/plain": [
       "<AxesSubplot:xlabel='Income', ylabel='Loan Paid'>"
      ]
     },
     "execution_count": 10,
     "metadata": {},
     "output_type": "execute_result"
    },
    {
     "data": {
      "image/png": "[encoded data removed]",
      "text/plain": [
       "<Figure size 432x288 with 1 Axes>"
      ]
     },
     "metadata": {
      "needs_background": "light"
     },
     "output_type": "display_data"
    }
   ],
   "source": [
    "sns.scatterplot(x='Income', y='Loan Paid', data=df)"
   ]
  },
  {
   "cell_type": "markdown",
   "metadata": {},
   "source": [
    "Dacă creem un scatter plot pentru datele respective, atunci fiecare scatter plot o să arate așa, indiferent de ce valori avem pe coloana 'Income'. Din moment ce valorile din coloana Loan Paid sunt doar 0 sau 1, atunci graficul respectiv o să arate tot timpul ca și cel de sus. Dacă am dori să facem o predicție în funcție de o anumită valoare ce o are o persoană la Income, pentru asta nu putem să utilizăm o regresie liniară. Dacă vrem să utilizăm o regresie liniară aici o să avem prea multe valori care o să fie considerate ca și outliers. O să fie o gamă variată de valori pentru x pe care să se antreneze un model, însă pentru y o să avem doar două valori 0 și 1. Știind că o regresie liniară face predicții pentru valori continue, ce se întâmplă cu valorile de exemplu de 0.2 (deoarece la final trebuie să avem valori doar de 0 sau 1)"
   ]
  },
  {
   "cell_type": "markdown",
   "metadata": {},
   "source": [
    "Ce putem face în acest caz este să ne utilizăm de acea funcție logistic function pentru a realiza o anumită conversie de la linear regression la logistic regression"
   ]
  },
  {
   "cell_type": "markdown",
   "metadata": {},
   "source": [
    "<img src='../SS/logistic_regression.png' width=\"500\" height=\"340\">"
   ]
  },
  {
   "cell_type": "markdown",
   "metadata": {},
   "source": [
    "Acum o să avem un plot care o să arate ca și imaginea de mai sus. În continuare o să tratăm y-ul acestui grafic ca și o probabilitate de a aparține unei clase anume. Valoarea de la y este cuprinsă între 0 și 1 și o să zicem că în mod normal jumătatea acestei valori este punctul de cotitură. Dacă o valoare este mai mare de 0.5, atunci valoarea predicției o să fie 1, iar dacă valoarea este mai mică de 0.5, atunci o să fie trecută în clasa 0. Dacă împărțim axa y în două (la valoarea de 0.5) atunci o să tratăm această axă ca și o probabilitate și o să zicem că probabilitatea ca o valoare să aparțină unei anumite clase este dată de poziția unde anume pe acea linie cade acea valoare prezisă."
   ]
  },
  {
   "cell_type": "markdown",
   "metadata": {},
   "source": [
    "De exemplu, dacă o să avem o nouă persoană care are valoarea 1 la Income, atunci pe axa y acea valoare o să cadă undeva la 0.9 ceea ce înseamnă că există o probabilitate de 90% ca acea valoare să facă parte din clasa 1 și o probabilitate de 0.10% ca valoarea să facă parte din clasa 0"
   ]
  }
 ],
 "metadata": {
  "kernelspec": {
   "display_name": "Python 3.9.12 ('base')",
   "language": "python",
   "name": "python3"
  },
  "language_info": {
   "codemirror_mode": {
    "name": "ipython",
    "version": 3
   },
   "file_extension": ".py",
   "mimetype": "text/x-python",
   "name": "python",
   "nbconvert_exporter": "python",
   "pygments_lexer": "ipython3",
   "version": "3.9.12"
  },
  "orig_nbformat": 4,
  "vscode": {
   "interpreter": {
    "hash": "40d3a090f54c6569ab1632332b64b2c03c39dcf918b08424e98f38b5ae0af88f"
   }
  }
 },
 "nbformat": 4,
 "nbformat_minor": 2
}
