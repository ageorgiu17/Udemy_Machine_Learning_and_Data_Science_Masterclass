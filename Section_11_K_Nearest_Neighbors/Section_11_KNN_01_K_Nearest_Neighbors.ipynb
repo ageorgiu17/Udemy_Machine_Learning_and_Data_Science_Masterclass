{
 "cells": [
  {
   "attachments": {},
   "cell_type": "markdown",
   "metadata": {},
   "source": [
    "# K Nearest Neighbors"
   ]
  },
  {
   "attachments": {},
   "cell_type": "markdown",
   "metadata": {},
   "source": [
    "În cadrul acestei secțiuni o să discutăm despre K Nearest Neighbors (sau KNN). Acesta este unul dintre cele mai simple algoritme de Machine Learning care există (din această cauză nici nu o să stăm mult timp la această secțiune). Deși acest algoritm poate fi folosit pentru partea de Regression (pentru un label continuu), performanța lui poate să fie destul de rea pentru așa ceva. Cel mai mult se folosește pentru partea de Clasificare"
   ]
  },
  {
   "attachments": {},
   "cell_type": "markdown",
   "metadata": {},
   "source": [
    "Modul în care funcționează acest algoritm de Machine Learning este prin atribuirea unui label pentru datele noi în funcție de distanța pe care o are față de punctele vechi (pe care s-a făcut antrenarea)"
   ]
  },
  {
   "attachments": {},
   "cell_type": "markdown",
   "metadata": {},
   "source": [
    "<img src='../SS/KNN.png'>"
   ]
  },
  {
   "attachments": {},
   "cell_type": "markdown",
   "metadata": {},
   "source": [
    "Ca să înțelegem mai bine o să ne folosim de graficul de mai sus. În aceste grafice avem prezente două clase de valori, clasa A cu albastru și clasa B cu verde. Creem un model și antrenăm modelul cu aceste date pe care le avem. Umrează partea în care trebuie să facem predicții. Aici apare cercul mov cu semnul întrebării. Aceasta este o nouă instanță și trebuie să spunem din ce clasă face parte. Cum anume funcționează acest model de KNN? Acest algoritm de Machine Learning ia instanța nouă și calculează distanța până la cele mai apropiate clase. Acest model are un anumit parametru denumit K prin care putem să zicem în funcție de câte instanțe pe care deja le avem să calcuăm acea distanță. Dacă alegem valoarea 1, atunci putem să vedem că cea mai apropiată clasă de instanța nouă este cea cu verde, prin urmare o să zicem că aparține de clasa B această nouă instanță. Dacă se alege altă valoare pentru K, să zicem 4, atunci ia cele mai apropiate 4 valori pentru care să calculeze dinstanța. Aici pot apărea mai multe cazuri.\n",
    "\n",
    "Primul caz este atunci când o clasă este majoritară (dintre toate datele existente primele 4 cele mai apropiate distanțe aparțin de aceeași clasă, sau 3 dintre ele aparțind e o clasă și una aparține de altă clasă). Aici se alege clar clasa care este majoritară. Pentru exemplu de mai sus să zicem că alegem valoarea 4 pentru K și 3 dintre cele mai apropiate distanațe sunt pentru clasa A și una este pentru clasa B. Prin urmare, modelul face o estimare că noua instanță aparține de clasa A.\n",
    "\n",
    "Cazul doi este atunci când se alege un număr par pentru K și există o egalitate între clasele respective. Exemplu de mai sus iar, unde alegem 4 pentru K, iar două dintre cele mai apropiate distanțe sunt pentru clasa A și două sunt pentru clasa B. În acest moment algoritmul nu poate să decidă din ce clasă face parte nou instanță. Pentru a nu întâlni astfel de cazuri este recomandat ca valoare pentru K să fie un număr impar."
   ]
  },
  {
   "attachments": {},
   "cell_type": "markdown",
   "metadata": {},
   "source": [
    "În Scikit-Learn în cazul în care totuși se alege un număr par pentru K și distanțele duc către un număr egal de clase, atunci se alege clasa care apare prima dată, adică instanța cu cea mai mică valoare."
   ]
  },
  {
   "attachments": {},
   "cell_type": "markdown",
   "metadata": {},
   "source": [
    "În situația în care pare o instanță care este undeva la mijloc între cele două clase, atunic cu un număr diferit de K o să avem predicții diferite pentru acea instanță. Întrebarea este cum anume putem să alegem cea mai bună valoare pentru acel parametru K? Pentru a se găsi cea mai potrivită valoare pentru K, atunci cel mai bun mod este de a utiliza GridSearchCV împreună cu cross-validation. Ce este de reținut pentru algoritmul de KNN este faptul că datele cu care lucrăm ar trebui ca de fiecare dată să fie scalate pentru a avea cât se poate cam același ranfge de date. Această necesitate apare deoarece după cum am spus acest algoritm folosește distanțe. Ca și parte de evaluare a unui model există mai multe metode de a calcula distanța, cum ar fi Euclidian, Minkowski, Manhattan, etc."
   ]
  }
 ],
 "metadata": {
  "kernelspec": {
   "display_name": "base",
   "language": "python",
   "name": "python3"
  },
  "language_info": {
   "name": "python",
   "version": "3.9.12 (main, Apr  5 2022, 01:53:17) \n[Clang 12.0.0 ]"
  },
  "orig_nbformat": 4,
  "vscode": {
   "interpreter": {
    "hash": "40d3a090f54c6569ab1632332b64b2c03c39dcf918b08424e98f38b5ae0af88f"
   }
  }
 },
 "nbformat": 4,
 "nbformat_minor": 2
}
