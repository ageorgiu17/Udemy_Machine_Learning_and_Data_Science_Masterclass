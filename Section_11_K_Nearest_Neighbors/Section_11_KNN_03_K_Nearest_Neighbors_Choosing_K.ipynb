{
 "cells": [
  {
   "attachments": {},
   "cell_type": "markdown",
   "metadata": {},
   "source": [
    "# K Nearest Neighbors - Choosing K"
   ]
  },
  {
   "attachments": {},
   "cell_type": "markdown",
   "metadata": {},
   "source": [
    "În partea trecută am învățat cum anume putem să creem un model de KNN. Cel mai important parametru al acestui model este cel de n_neighbors prin care îi spunem algoritmului la câte elemente apropiate să se uite pentru a stabili din ce categorie face parte. Acest număr este arbitrar și apare întrebarea cum anume putem seta cel mai potrivit număr. Pentru asta o să ne uităm la două metode diferite, și anume elbow metho și partea de cross-validation. Înainte de a ajunge la aceste părți o să ne mai uităm peste un concept din Scikit-Learn denumit Pipeline. Acest nou concept o să fie introdus în partea de cross-validation"
   ]
  },
  {
   "attachments": {},
   "cell_type": "markdown",
   "metadata": {},
   "source": [
    "Un Pipeline în Scikit-Learn reprezintă o serie de operații care se tot repetă. De obicei până acuma am scalat datele cu care lucrăm și după am creat modelul și l-am antrenat. Prin intermediul unui Pipeline putem să creem această serie de operații și să o apelăm fără a mai fi nevoiți să rescriem codul."
   ]
  },
  {
   "attachments": {},
   "cell_type": "markdown",
   "metadata": {},
   "source": [
    "În continuare o să creem din nou un model de KNN simplu cu un singur n_neighbors"
   ]
  },
  {
   "cell_type": "code",
   "execution_count": 1,
   "metadata": {},
   "outputs": [],
   "source": [
    "import pandas as pd\n",
    "import numpy as np\n",
    "import matplotlib.pyplot as plt\n",
    "import seaborn as sns"
   ]
  },
  {
   "cell_type": "code",
   "execution_count": 6,
   "metadata": {},
   "outputs": [],
   "source": [
    "df = pd.read_csv('../data/DATA/gene_expression.csv')"
   ]
  },
  {
   "cell_type": "code",
   "execution_count": 7,
   "metadata": {},
   "outputs": [
    {
     "data": {
      "text/html": [
       "<div>\n",
       "<style scoped>\n",
       "    .dataframe tbody tr th:only-of-type {\n",
       "        vertical-align: middle;\n",
       "    }\n",
       "\n",
       "    .dataframe tbody tr th {\n",
       "        vertical-align: top;\n",
       "    }\n",
       "\n",
       "    .dataframe thead th {\n",
       "        text-align: right;\n",
       "    }\n",
       "</style>\n",
       "<table border=\"1\" class=\"dataframe\">\n",
       "  <thead>\n",
       "    <tr style=\"text-align: right;\">\n",
       "      <th></th>\n",
       "      <th>Gene One</th>\n",
       "      <th>Gene Two</th>\n",
       "      <th>Cancer Present</th>\n",
       "    </tr>\n",
       "  </thead>\n",
       "  <tbody>\n",
       "    <tr>\n",
       "      <th>0</th>\n",
       "      <td>4.3</td>\n",
       "      <td>3.9</td>\n",
       "      <td>1</td>\n",
       "    </tr>\n",
       "    <tr>\n",
       "      <th>1</th>\n",
       "      <td>2.5</td>\n",
       "      <td>6.3</td>\n",
       "      <td>0</td>\n",
       "    </tr>\n",
       "    <tr>\n",
       "      <th>2</th>\n",
       "      <td>5.7</td>\n",
       "      <td>3.9</td>\n",
       "      <td>1</td>\n",
       "    </tr>\n",
       "    <tr>\n",
       "      <th>3</th>\n",
       "      <td>6.1</td>\n",
       "      <td>6.2</td>\n",
       "      <td>0</td>\n",
       "    </tr>\n",
       "    <tr>\n",
       "      <th>4</th>\n",
       "      <td>7.4</td>\n",
       "      <td>3.4</td>\n",
       "      <td>1</td>\n",
       "    </tr>\n",
       "    <tr>\n",
       "      <th>...</th>\n",
       "      <td>...</td>\n",
       "      <td>...</td>\n",
       "      <td>...</td>\n",
       "    </tr>\n",
       "    <tr>\n",
       "      <th>2995</th>\n",
       "      <td>5.0</td>\n",
       "      <td>6.5</td>\n",
       "      <td>1</td>\n",
       "    </tr>\n",
       "    <tr>\n",
       "      <th>2996</th>\n",
       "      <td>3.4</td>\n",
       "      <td>6.6</td>\n",
       "      <td>0</td>\n",
       "    </tr>\n",
       "    <tr>\n",
       "      <th>2997</th>\n",
       "      <td>2.7</td>\n",
       "      <td>6.5</td>\n",
       "      <td>0</td>\n",
       "    </tr>\n",
       "    <tr>\n",
       "      <th>2998</th>\n",
       "      <td>3.3</td>\n",
       "      <td>5.6</td>\n",
       "      <td>0</td>\n",
       "    </tr>\n",
       "    <tr>\n",
       "      <th>2999</th>\n",
       "      <td>4.6</td>\n",
       "      <td>8.2</td>\n",
       "      <td>0</td>\n",
       "    </tr>\n",
       "  </tbody>\n",
       "</table>\n",
       "<p>3000 rows × 3 columns</p>\n",
       "</div>"
      ],
      "text/plain": [
       "      Gene One  Gene Two  Cancer Present\n",
       "0          4.3       3.9               1\n",
       "1          2.5       6.3               0\n",
       "2          5.7       3.9               1\n",
       "3          6.1       6.2               0\n",
       "4          7.4       3.4               1\n",
       "...        ...       ...             ...\n",
       "2995       5.0       6.5               1\n",
       "2996       3.4       6.6               0\n",
       "2997       2.7       6.5               0\n",
       "2998       3.3       5.6               0\n",
       "2999       4.6       8.2               0\n",
       "\n",
       "[3000 rows x 3 columns]"
      ]
     },
     "execution_count": 7,
     "metadata": {},
     "output_type": "execute_result"
    }
   ],
   "source": [
    "df"
   ]
  },
  {
   "cell_type": "code",
   "execution_count": 8,
   "metadata": {},
   "outputs": [],
   "source": [
    "from sklearn.model_selection import train_test_split"
   ]
  },
  {
   "cell_type": "code",
   "execution_count": 9,
   "metadata": {},
   "outputs": [],
   "source": [
    "X = df.drop('Cancer Present', axis=1)\n",
    "y = df['Cancer Present']"
   ]
  },
  {
   "cell_type": "code",
   "execution_count": 10,
   "metadata": {},
   "outputs": [],
   "source": [
    "X_train, X_test, y_train, y_test = train_test_split(X, y, test_size=0.3, random_state=101)"
   ]
  },
  {
   "cell_type": "code",
   "execution_count": 11,
   "metadata": {},
   "outputs": [],
   "source": [
    "from sklearn.preprocessing import StandardScaler"
   ]
  },
  {
   "cell_type": "code",
   "execution_count": 14,
   "metadata": {},
   "outputs": [],
   "source": [
    "scaler = StandardScaler()"
   ]
  },
  {
   "cell_type": "code",
   "execution_count": 15,
   "metadata": {},
   "outputs": [
    {
     "data": {
      "text/plain": [
       "StandardScaler()"
      ]
     },
     "execution_count": 15,
     "metadata": {},
     "output_type": "execute_result"
    }
   ],
   "source": [
    "scaler.fit(X_train)"
   ]
  },
  {
   "cell_type": "code",
   "execution_count": 16,
   "metadata": {},
   "outputs": [],
   "source": [
    "X_train = scaler.transform(X_train)\n",
    "X_test = scaler.transform(X_test)"
   ]
  },
  {
   "cell_type": "code",
   "execution_count": 17,
   "metadata": {},
   "outputs": [],
   "source": [
    "from sklearn.neighbors import KNeighborsClassifier"
   ]
  },
  {
   "cell_type": "code",
   "execution_count": 18,
   "metadata": {},
   "outputs": [],
   "source": [
    "knn_model = KNeighborsClassifier(n_neighbors=1)"
   ]
  },
  {
   "cell_type": "code",
   "execution_count": 19,
   "metadata": {},
   "outputs": [
    {
     "data": {
      "text/plain": [
       "KNeighborsClassifier(n_neighbors=1)"
      ]
     },
     "execution_count": 19,
     "metadata": {},
     "output_type": "execute_result"
    }
   ],
   "source": [
    "knn_model.fit(X_train, y_train)"
   ]
  },
  {
   "cell_type": "code",
   "execution_count": 20,
   "metadata": {},
   "outputs": [],
   "source": [
    "y_pred = knn_model.predict(X_test)"
   ]
  },
  {
   "cell_type": "code",
   "execution_count": 21,
   "metadata": {},
   "outputs": [],
   "source": [
    "from sklearn.metrics import classification_report, confusion_matrix"
   ]
  },
  {
   "cell_type": "code",
   "execution_count": 22,
   "metadata": {},
   "outputs": [
    {
     "name": "stdout",
     "output_type": "stream",
     "text": [
      "[[379  44]\n",
      " [ 35 442]]\n"
     ]
    }
   ],
   "source": [
    "print(confusion_matrix(y_test, y_pred))"
   ]
  },
  {
   "cell_type": "code",
   "execution_count": 23,
   "metadata": {},
   "outputs": [
    {
     "name": "stdout",
     "output_type": "stream",
     "text": [
      "              precision    recall  f1-score   support\n",
      "\n",
      "           0       0.92      0.90      0.91       423\n",
      "           1       0.91      0.93      0.92       477\n",
      "\n",
      "    accuracy                           0.91       900\n",
      "   macro avg       0.91      0.91      0.91       900\n",
      "weighted avg       0.91      0.91      0.91       900\n",
      "\n"
     ]
    }
   ],
   "source": [
    "print(classification_report(y_test, y_pred))"
   ]
  },
  {
   "attachments": {},
   "cell_type": "markdown",
   "metadata": {},
   "source": [
    "Pentru început o să ne uităm peste metoda denumită elbow method. Această metodă este cea mai simplă și presupune crearea unei bucle for care să parcurgă mai multe valori pentru k. După ce se trece de o iterație se calculează eroarea acelui model care este defapt 1 - accuracy_score. La final o să avem o listă de erori, iar valoarea care este cea mai mică înseamnă că a performat cel mai bine"
   ]
  },
  {
   "cell_type": "code",
   "execution_count": 27,
   "metadata": {},
   "outputs": [],
   "source": [
    "from sklearn.metrics import accuracy_score\n",
    "\n",
    "test_error_scores = []\n",
    "\n",
    "for k in range(1, 30):\n",
    "    knn_model = KNeighborsClassifier(n_neighbors=k)\n",
    "    knn_model.fit(X_train, y_train)\n",
    "    y_pred = knn_model.predict(X_test)\n",
    "\n",
    "    test_error_scores.append(1 - accuracy_score(y_test, y_pred))"
   ]
  },
  {
   "cell_type": "code",
   "execution_count": 28,
   "metadata": {},
   "outputs": [
    {
     "data": {
      "text/plain": [
       "[0.08777777777777773,\n",
       " 0.09111111111111114,\n",
       " 0.06999999999999995,\n",
       " 0.06555555555555559,\n",
       " 0.06555555555555559,\n",
       " 0.06000000000000005,\n",
       " 0.06333333333333335,\n",
       " 0.06444444444444442,\n",
       " 0.06555555555555559,\n",
       " 0.06444444444444442,\n",
       " 0.06777777777777783,\n",
       " 0.06444444444444442,\n",
       " 0.06666666666666665,\n",
       " 0.06444444444444442,\n",
       " 0.06777777777777783,\n",
       " 0.06222222222222218,\n",
       " 0.06000000000000005,\n",
       " 0.061111111111111116,\n",
       " 0.06222222222222218,\n",
       " 0.06333333333333335,\n",
       " 0.06222222222222218,\n",
       " 0.06555555555555559,\n",
       " 0.061111111111111116,\n",
       " 0.05888888888888888,\n",
       " 0.06222222222222218,\n",
       " 0.06555555555555559,\n",
       " 0.06222222222222218,\n",
       " 0.061111111111111116,\n",
       " 0.061111111111111116]"
      ]
     },
     "execution_count": 28,
     "metadata": {},
     "output_type": "execute_result"
    }
   ],
   "source": [
    "test_error_scores"
   ]
  },
  {
   "cell_type": "code",
   "execution_count": 30,
   "metadata": {},
   "outputs": [
    {
     "data": {
      "text/plain": [
       "Text(0, 0.5, 'Error Rate')"
      ]
     },
     "execution_count": 30,
     "metadata": {},
     "output_type": "execute_result"
    },
    {
     "data": {
      "image/png": "[encoded data removed]",
      "text/plain": [
       "<Figure size 432x288 with 1 Axes>"
      ]
     },
     "metadata": {
      "needs_background": "light"
     },
     "output_type": "display_data"
    }
   ],
   "source": [
    "plt.plot(range(1, 30), test_error_scores)\n",
    "plt.xlabel('K Neighbors')\n",
    "plt.ylabel('Error Rate')"
   ]
  },
  {
   "attachments": {},
   "cell_type": "markdown",
   "metadata": {},
   "source": [
    "Din graficul de mai sus se poate observa că între valoarea de 5 și 30 pentru k, eroarea are cam o valoare constantă. Alegerea unei valori depinde de studiul de caz în parte, trebuie decis dacă dorim să avem un număr mai mare de k (ceea ce poate duce la un timp mai mare de rulare dacă avem un set de date extrem de mare) sau dacă dorim o performanță de viteză mai bună. Acest lucru depinde de la caz la caz. Metoda de mai sus este cea de elbow method și este considerată cea mai ușoară. Urmează partea în care o să ne folosim de cross-validation pentru a vedea ce valoare trebuie să setăm pentru k. Pentru a folosi cross-validation o să introducem și conceptul de Pipeline din Scikit-Learn"
   ]
  },
  {
   "attachments": {},
   "cell_type": "markdown",
   "metadata": {},
   "source": [
    "Pentru început o să ne setăm seria de operații care se va tot repeta, serie de operații pe care după o să le introducem în Pipeline. Ca și serie de operații o să avem:\n",
    "\n",
    "1. Crearea unui Scaler\n",
    "\n",
    "2. Crearea unui model"
   ]
  },
  {
   "cell_type": "code",
   "execution_count": 31,
   "metadata": {},
   "outputs": [],
   "source": [
    "scaler = StandardScaler()\n",
    "knn_model = KNeighborsClassifier()"
   ]
  },
  {
   "attachments": {},
   "cell_type": "markdown",
   "metadata": {},
   "source": [
    "Operațiile de mai sus reprezintă operațiile care formează un așa zis Pipeline. Următorul pas pe care trebuie să îl facem este să creem o variabilă în care să stocăm aceste operații. Variabila respectivă o să fie o listă de tuple. Fiecare tuplă o să fie alcătuită din două elemente, primul element o să fie reprezentat de un string, iar al doilea element o să fie variabila care realizează acea operație. De obicei, atât string-ul cât și numele variabile sunt aceleași. O să luăm exemplul de mai sus unde avem operațiile denumite scaler și knn_model. Primul element din cadrul listei o să fie o tuplă în care primul element din tuplă o să fie un string ce o să poarte denumirea de 'scaler', iar al doilea element o să fie obiectul de tip scaler"
   ]
  },
  {
   "cell_type": "code",
   "execution_count": 32,
   "metadata": {},
   "outputs": [],
   "source": [
    "operations = [('sclaer', scaler), ('knn_model', knn_model)]"
   ]
  },
  {
   "attachments": {},
   "cell_type": "markdown",
   "metadata": {},
   "source": [
    "După ce am creat acel set de operații putem să ne creem Pipeline-ul. Pentru a crea un Pipeline acesta trebuie importat din modulul sklearn.pipeline și poartă denumirea de 'Pipeline'"
   ]
  },
  {
   "cell_type": "code",
   "execution_count": 33,
   "metadata": {},
   "outputs": [],
   "source": [
    "from sklearn.pipeline import Pipeline"
   ]
  },
  {
   "cell_type": "code",
   "execution_count": 34,
   "metadata": {},
   "outputs": [
    {
     "name": "stdout",
     "output_type": "stream",
     "text": [
      "Help on class Pipeline in module sklearn.pipeline:\n",
      "\n",
      "class Pipeline(sklearn.utils.metaestimators._BaseComposition)\n",
      " |  Pipeline(steps, *, memory=None, verbose=False)\n",
      " |  \n",
      " |  Pipeline of transforms with a final estimator.\n",
      " |  \n",
      " |  Sequentially apply a list of transforms and a final estimator.\n",
      " |  Intermediate steps of the pipeline must be 'transforms', that is, they\n",
      " |  must implement `fit` and `transform` methods.\n",
      " |  The final estimator only needs to implement `fit`.\n",
      " |  The transformers in the pipeline can be cached using ``memory`` argument.\n",
      " |  \n",
      " |  The purpose of the pipeline is to assemble several steps that can be\n",
      " |  cross-validated together while setting different parameters. For this, it\n",
      " |  enables setting parameters of the various steps using their names and the\n",
      " |  parameter name separated by a `'__'`, as in the example below. A step's\n",
      " |  estimator may be replaced entirely by setting the parameter with its name\n",
      " |  to another estimator, or a transformer removed by setting it to\n",
      " |  `'passthrough'` or `None`.\n",
      " |  \n",
      " |  Read more in the :ref:`User Guide <pipeline>`.\n",
      " |  \n",
      " |  .. versionadded:: 0.5\n",
      " |  \n",
      " |  Parameters\n",
      " |  ----------\n",
      " |  steps : list of tuple\n",
      " |      List of (name, transform) tuples (implementing `fit`/`transform`) that\n",
      " |      are chained, in the order in which they are chained, with the last\n",
      " |      object an estimator.\n",
      " |  \n",
      " |  memory : str or object with the joblib.Memory interface, default=None\n",
      " |      Used to cache the fitted transformers of the pipeline. By default,\n",
      " |      no caching is performed. If a string is given, it is the path to\n",
      " |      the caching directory. Enabling caching triggers a clone of\n",
      " |      the transformers before fitting. Therefore, the transformer\n",
      " |      instance given to the pipeline cannot be inspected\n",
      " |      directly. Use the attribute ``named_steps`` or ``steps`` to\n",
      " |      inspect estimators within the pipeline. Caching the\n",
      " |      transformers is advantageous when fitting is time consuming.\n",
      " |  \n",
      " |  verbose : bool, default=False\n",
      " |      If True, the time elapsed while fitting each step will be printed as it\n",
      " |      is completed.\n",
      " |  \n",
      " |  Attributes\n",
      " |  ----------\n",
      " |  named_steps : :class:`~sklearn.utils.Bunch`\n",
      " |      Dictionary-like object, with the following attributes.\n",
      " |      Read-only attribute to access any step parameter by user given name.\n",
      " |      Keys are step names and values are steps parameters.\n",
      " |  \n",
      " |  classes_ : ndarray of shape (n_classes,)\n",
      " |      The classes labels. Only exist if the last step of the pipeline is a\n",
      " |      classifier.\n",
      " |  \n",
      " |  n_features_in_ : int\n",
      " |      Number of features seen during :term:`fit`. Only defined if the\n",
      " |      underlying first estimator in `steps` exposes such an attribute\n",
      " |      when fit.\n",
      " |  \n",
      " |      .. versionadded:: 0.24\n",
      " |  \n",
      " |  feature_names_in_ : ndarray of shape (`n_features_in_`,)\n",
      " |      Names of features seen during :term:`fit`. Only defined if the\n",
      " |      underlying estimator exposes such an attribute when fit.\n",
      " |  \n",
      " |      .. versionadded:: 1.0\n",
      " |  \n",
      " |  See Also\n",
      " |  --------\n",
      " |  make_pipeline : Convenience function for simplified pipeline construction.\n",
      " |  \n",
      " |  Examples\n",
      " |  --------\n",
      " |  >>> from sklearn.svm import SVC\n",
      " |  >>> from sklearn.preprocessing import StandardScaler\n",
      " |  >>> from sklearn.datasets import make_classification\n",
      " |  >>> from sklearn.model_selection import train_test_split\n",
      " |  >>> from sklearn.pipeline import Pipeline\n",
      " |  >>> X, y = make_classification(random_state=0)\n",
      " |  >>> X_train, X_test, y_train, y_test = train_test_split(X, y,\n",
      " |  ...                                                     random_state=0)\n",
      " |  >>> pipe = Pipeline([('scaler', StandardScaler()), ('svc', SVC())])\n",
      " |  >>> # The pipeline can be used as any other estimator\n",
      " |  >>> # and avoids leaking the test set into the train set\n",
      " |  >>> pipe.fit(X_train, y_train)\n",
      " |  Pipeline(steps=[('scaler', StandardScaler()), ('svc', SVC())])\n",
      " |  >>> pipe.score(X_test, y_test)\n",
      " |  0.88\n",
      " |  \n",
      " |  Method resolution order:\n",
      " |      Pipeline\n",
      " |      sklearn.utils.metaestimators._BaseComposition\n",
      " |      sklearn.base.BaseEstimator\n",
      " |      builtins.object\n",
      " |  \n",
      " |  Methods defined here:\n",
      " |  \n",
      " |  __getitem__(self, ind)\n",
      " |      Returns a sub-pipeline or a single estimator in the pipeline\n",
      " |      \n",
      " |      Indexing with an integer will return an estimator; using a slice\n",
      " |      returns another Pipeline instance which copies a slice of this\n",
      " |      Pipeline. This copy is shallow: modifying (or fitting) estimators in\n",
      " |      the sub-pipeline will affect the larger pipeline and vice-versa.\n",
      " |      However, replacing a value in `step` will not affect a copy.\n",
      " |  \n",
      " |  __init__(self, steps, *, memory=None, verbose=False)\n",
      " |      Initialize self.  See help(type(self)) for accurate signature.\n",
      " |  \n",
      " |  __len__(self)\n",
      " |      Returns the length of the Pipeline\n",
      " |  \n",
      " |  __sklearn_is_fitted__(self)\n",
      " |      Indicate whether pipeline has been fit.\n",
      " |  \n",
      " |  decision_function(self, X)\n",
      " |      Transform the data, and apply `decision_function` with the final estimator.\n",
      " |      \n",
      " |      Call `transform` of each transformer in the pipeline. The transformed\n",
      " |      data are finally passed to the final estimator that calls\n",
      " |      `decision_function` method. Only valid if the final estimator\n",
      " |      implements `decision_function`.\n",
      " |      \n",
      " |      Parameters\n",
      " |      ----------\n",
      " |      X : iterable\n",
      " |          Data to predict on. Must fulfill input requirements of first step\n",
      " |          of the pipeline.\n",
      " |      \n",
      " |      Returns\n",
      " |      -------\n",
      " |      y_score : ndarray of shape (n_samples, n_classes)\n",
      " |          Result of calling `decision_function` on the final estimator.\n",
      " |  \n",
      " |  fit(self, X, y=None, **fit_params)\n",
      " |      Fit the model.\n",
      " |      \n",
      " |      Fit all the transformers one after the other and transform the\n",
      " |      data. Finally, fit the transformed data using the final estimator.\n",
      " |      \n",
      " |      Parameters\n",
      " |      ----------\n",
      " |      X : iterable\n",
      " |          Training data. Must fulfill input requirements of first step of the\n",
      " |          pipeline.\n",
      " |      \n",
      " |      y : iterable, default=None\n",
      " |          Training targets. Must fulfill label requirements for all steps of\n",
      " |          the pipeline.\n",
      " |      \n",
      " |      **fit_params : dict of string -> object\n",
      " |          Parameters passed to the ``fit`` method of each step, where\n",
      " |          each parameter name is prefixed such that parameter ``p`` for step\n",
      " |          ``s`` has key ``s__p``.\n",
      " |      \n",
      " |      Returns\n",
      " |      -------\n",
      " |      self : object\n",
      " |          Pipeline with fitted steps.\n",
      " |  \n",
      " |  fit_predict(self, X, y=None, **fit_params)\n",
      " |      Transform the data, and apply `fit_predict` with the final estimator.\n",
      " |      \n",
      " |      Call `fit_transform` of each transformer in the pipeline. The\n",
      " |      transformed data are finally passed to the final estimator that calls\n",
      " |      `fit_predict` method. Only valid if the final estimator implements\n",
      " |      `fit_predict`.\n",
      " |      \n",
      " |      Parameters\n",
      " |      ----------\n",
      " |      X : iterable\n",
      " |          Training data. Must fulfill input requirements of first step of\n",
      " |          the pipeline.\n",
      " |      \n",
      " |      y : iterable, default=None\n",
      " |          Training targets. Must fulfill label requirements for all steps\n",
      " |          of the pipeline.\n",
      " |      \n",
      " |      **fit_params : dict of string -> object\n",
      " |          Parameters passed to the ``fit`` method of each step, where\n",
      " |          each parameter name is prefixed such that parameter ``p`` for step\n",
      " |          ``s`` has key ``s__p``.\n",
      " |      \n",
      " |      Returns\n",
      " |      -------\n",
      " |      y_pred : ndarray\n",
      " |          Result of calling `fit_predict` on the final estimator.\n",
      " |  \n",
      " |  fit_transform(self, X, y=None, **fit_params)\n",
      " |      Fit the model and transform with the final estimator.\n",
      " |      \n",
      " |      Fits all the transformers one after the other and transform the\n",
      " |      data. Then uses `fit_transform` on transformed data with the final\n",
      " |      estimator.\n",
      " |      \n",
      " |      Parameters\n",
      " |      ----------\n",
      " |      X : iterable\n",
      " |          Training data. Must fulfill input requirements of first step of the\n",
      " |          pipeline.\n",
      " |      \n",
      " |      y : iterable, default=None\n",
      " |          Training targets. Must fulfill label requirements for all steps of\n",
      " |          the pipeline.\n",
      " |      \n",
      " |      **fit_params : dict of string -> object\n",
      " |          Parameters passed to the ``fit`` method of each step, where\n",
      " |          each parameter name is prefixed such that parameter ``p`` for step\n",
      " |          ``s`` has key ``s__p``.\n",
      " |      \n",
      " |      Returns\n",
      " |      -------\n",
      " |      Xt : ndarray of shape (n_samples, n_transformed_features)\n",
      " |          Transformed samples.\n",
      " |  \n",
      " |  get_feature_names_out(self, input_features=None)\n",
      " |      Get output feature names for transformation.\n",
      " |      \n",
      " |      Transform input features using the pipeline.\n",
      " |      \n",
      " |      Parameters\n",
      " |      ----------\n",
      " |      input_features : array-like of str or None, default=None\n",
      " |          Input features.\n",
      " |      \n",
      " |      Returns\n",
      " |      -------\n",
      " |      feature_names_out : ndarray of str objects\n",
      " |          Transformed feature names.\n",
      " |  \n",
      " |  get_params(self, deep=True)\n",
      " |      Get parameters for this estimator.\n",
      " |      \n",
      " |      Returns the parameters given in the constructor as well as the\n",
      " |      estimators contained within the `steps` of the `Pipeline`.\n",
      " |      \n",
      " |      Parameters\n",
      " |      ----------\n",
      " |      deep : bool, default=True\n",
      " |          If True, will return the parameters for this estimator and\n",
      " |          contained subobjects that are estimators.\n",
      " |      \n",
      " |      Returns\n",
      " |      -------\n",
      " |      params : mapping of string to any\n",
      " |          Parameter names mapped to their values.\n",
      " |  \n",
      " |  inverse_transform(self, Xt)\n",
      " |      Apply `inverse_transform` for each step in a reverse order.\n",
      " |      \n",
      " |      All estimators in the pipeline must support `inverse_transform`.\n",
      " |      \n",
      " |      Parameters\n",
      " |      ----------\n",
      " |      Xt : array-like of shape (n_samples, n_transformed_features)\n",
      " |          Data samples, where ``n_samples`` is the number of samples and\n",
      " |          ``n_features`` is the number of features. Must fulfill\n",
      " |          input requirements of last step of pipeline's\n",
      " |          ``inverse_transform`` method.\n",
      " |      \n",
      " |      Returns\n",
      " |      -------\n",
      " |      Xt : ndarray of shape (n_samples, n_features)\n",
      " |          Inverse transformed data, that is, data in the original feature\n",
      " |          space.\n",
      " |  \n",
      " |  predict(self, X, **predict_params)\n",
      " |      Transform the data, and apply `predict` with the final estimator.\n",
      " |      \n",
      " |      Call `transform` of each transformer in the pipeline. The transformed\n",
      " |      data are finally passed to the final estimator that calls `predict`\n",
      " |      method. Only valid if the final estimator implements `predict`.\n",
      " |      \n",
      " |      Parameters\n",
      " |      ----------\n",
      " |      X : iterable\n",
      " |          Data to predict on. Must fulfill input requirements of first step\n",
      " |          of the pipeline.\n",
      " |      \n",
      " |      **predict_params : dict of string -> object\n",
      " |          Parameters to the ``predict`` called at the end of all\n",
      " |          transformations in the pipeline. Note that while this may be\n",
      " |          used to return uncertainties from some models with return_std\n",
      " |          or return_cov, uncertainties that are generated by the\n",
      " |          transformations in the pipeline are not propagated to the\n",
      " |          final estimator.\n",
      " |      \n",
      " |          .. versionadded:: 0.20\n",
      " |      \n",
      " |      Returns\n",
      " |      -------\n",
      " |      y_pred : ndarray\n",
      " |          Result of calling `predict` on the final estimator.\n",
      " |  \n",
      " |  predict_log_proba(self, X, **predict_log_proba_params)\n",
      " |      Transform the data, and apply `predict_log_proba` with the final estimator.\n",
      " |      \n",
      " |      Call `transform` of each transformer in the pipeline. The transformed\n",
      " |      data are finally passed to the final estimator that calls\n",
      " |      `predict_log_proba` method. Only valid if the final estimator\n",
      " |      implements `predict_log_proba`.\n",
      " |      \n",
      " |      Parameters\n",
      " |      ----------\n",
      " |      X : iterable\n",
      " |          Data to predict on. Must fulfill input requirements of first step\n",
      " |          of the pipeline.\n",
      " |      \n",
      " |      **predict_log_proba_params : dict of string -> object\n",
      " |          Parameters to the ``predict_log_proba`` called at the end of all\n",
      " |          transformations in the pipeline.\n",
      " |      \n",
      " |      Returns\n",
      " |      -------\n",
      " |      y_log_proba : ndarray of shape (n_samples, n_classes)\n",
      " |          Result of calling `predict_log_proba` on the final estimator.\n",
      " |  \n",
      " |  predict_proba(self, X, **predict_proba_params)\n",
      " |      Transform the data, and apply `predict_proba` with the final estimator.\n",
      " |      \n",
      " |      Call `transform` of each transformer in the pipeline. The transformed\n",
      " |      data are finally passed to the final estimator that calls\n",
      " |      `predict_proba` method. Only valid if the final estimator implements\n",
      " |      `predict_proba`.\n",
      " |      \n",
      " |      Parameters\n",
      " |      ----------\n",
      " |      X : iterable\n",
      " |          Data to predict on. Must fulfill input requirements of first step\n",
      " |          of the pipeline.\n",
      " |      \n",
      " |      **predict_proba_params : dict of string -> object\n",
      " |          Parameters to the `predict_proba` called at the end of all\n",
      " |          transformations in the pipeline.\n",
      " |      \n",
      " |      Returns\n",
      " |      -------\n",
      " |      y_proba : ndarray of shape (n_samples, n_classes)\n",
      " |          Result of calling `predict_proba` on the final estimator.\n",
      " |  \n",
      " |  score(self, X, y=None, sample_weight=None)\n",
      " |      Transform the data, and apply `score` with the final estimator.\n",
      " |      \n",
      " |      Call `transform` of each transformer in the pipeline. The transformed\n",
      " |      data are finally passed to the final estimator that calls\n",
      " |      `score` method. Only valid if the final estimator implements `score`.\n",
      " |      \n",
      " |      Parameters\n",
      " |      ----------\n",
      " |      X : iterable\n",
      " |          Data to predict on. Must fulfill input requirements of first step\n",
      " |          of the pipeline.\n",
      " |      \n",
      " |      y : iterable, default=None\n",
      " |          Targets used for scoring. Must fulfill label requirements for all\n",
      " |          steps of the pipeline.\n",
      " |      \n",
      " |      sample_weight : array-like, default=None\n",
      " |          If not None, this argument is passed as ``sample_weight`` keyword\n",
      " |          argument to the ``score`` method of the final estimator.\n",
      " |      \n",
      " |      Returns\n",
      " |      -------\n",
      " |      score : float\n",
      " |          Result of calling `score` on the final estimator.\n",
      " |  \n",
      " |  score_samples(self, X)\n",
      " |      Transform the data, and apply `score_samples` with the final estimator.\n",
      " |      \n",
      " |      Call `transform` of each transformer in the pipeline. The transformed\n",
      " |      data are finally passed to the final estimator that calls\n",
      " |      `score_samples` method. Only valid if the final estimator implements\n",
      " |      `score_samples`.\n",
      " |      \n",
      " |      Parameters\n",
      " |      ----------\n",
      " |      X : iterable\n",
      " |          Data to predict on. Must fulfill input requirements of first step\n",
      " |          of the pipeline.\n",
      " |      \n",
      " |      Returns\n",
      " |      -------\n",
      " |      y_score : ndarray of shape (n_samples,)\n",
      " |          Result of calling `score_samples` on the final estimator.\n",
      " |  \n",
      " |  set_params(self, **kwargs)\n",
      " |      Set the parameters of this estimator.\n",
      " |      \n",
      " |      Valid parameter keys can be listed with ``get_params()``. Note that\n",
      " |      you can directly set the parameters of the estimators contained in\n",
      " |      `steps`.\n",
      " |      \n",
      " |      Parameters\n",
      " |      ----------\n",
      " |      **kwargs : dict\n",
      " |          Parameters of this estimator or parameters of estimators contained\n",
      " |          in `steps`. Parameters of the steps may be set using its name and\n",
      " |          the parameter name separated by a '__'.\n",
      " |      \n",
      " |      Returns\n",
      " |      -------\n",
      " |      self : object\n",
      " |          Pipeline class instance.\n",
      " |  \n",
      " |  transform(self, X)\n",
      " |      Transform the data, and apply `transform` with the final estimator.\n",
      " |      \n",
      " |      Call `transform` of each transformer in the pipeline. The transformed\n",
      " |      data are finally passed to the final estimator that calls\n",
      " |      `transform` method. Only valid if the final estimator\n",
      " |      implements `transform`.\n",
      " |      \n",
      " |      This also works where final estimator is `None` in which case all prior\n",
      " |      transformations are applied.\n",
      " |      \n",
      " |      Parameters\n",
      " |      ----------\n",
      " |      X : iterable\n",
      " |          Data to transform. Must fulfill input requirements of first step\n",
      " |          of the pipeline.\n",
      " |      \n",
      " |      Returns\n",
      " |      -------\n",
      " |      Xt : ndarray of shape (n_samples, n_transformed_features)\n",
      " |          Transformed data.\n",
      " |  \n",
      " |  ----------------------------------------------------------------------\n",
      " |  Readonly properties defined here:\n",
      " |  \n",
      " |  classes_\n",
      " |      The classes labels. Only exist if the last step is a classifier.\n",
      " |  \n",
      " |  feature_names_in_\n",
      " |      Names of features seen during first step `fit` method.\n",
      " |  \n",
      " |  n_features_in_\n",
      " |      Number of features seen during first step `fit` method.\n",
      " |  \n",
      " |  named_steps\n",
      " |      Access the steps by name.\n",
      " |      \n",
      " |      Read-only attribute to access any step by given name.\n",
      " |      Keys are steps names and values are the steps objects.\n",
      " |  \n",
      " |  ----------------------------------------------------------------------\n",
      " |  Data and other attributes defined here:\n",
      " |  \n",
      " |  __abstractmethods__ = frozenset()\n",
      " |  \n",
      " |  ----------------------------------------------------------------------\n",
      " |  Data and other attributes inherited from sklearn.utils.metaestimators._BaseComposition:\n",
      " |  \n",
      " |  __annotations__ = {'steps': typing.List[typing.Any]}\n",
      " |  \n",
      " |  ----------------------------------------------------------------------\n",
      " |  Methods inherited from sklearn.base.BaseEstimator:\n",
      " |  \n",
      " |  __getstate__(self)\n",
      " |  \n",
      " |  __repr__(self, N_CHAR_MAX=700)\n",
      " |      Return repr(self).\n",
      " |  \n",
      " |  __setstate__(self, state)\n",
      " |  \n",
      " |  ----------------------------------------------------------------------\n",
      " |  Data descriptors inherited from sklearn.base.BaseEstimator:\n",
      " |  \n",
      " |  __dict__\n",
      " |      dictionary for instance variables (if defined)\n",
      " |  \n",
      " |  __weakref__\n",
      " |      list of weak references to the object (if defined)\n",
      "\n"
     ]
    }
   ],
   "source": [
    "help(Pipeline)"
   ]
  },
  {
   "attachments": {},
   "cell_type": "markdown",
   "metadata": {},
   "source": [
    "Acest obiect de tip Pipeline ia ca și argument 'steps', care reprezintă lista de tuple cu operațiile care trebuie realizate (poartă denumirea de operations)"
   ]
  },
  {
   "cell_type": "code",
   "execution_count": 35,
   "metadata": {},
   "outputs": [],
   "source": [
    "pipeline = Pipeline(operations)"
   ]
  },
  {
   "attachments": {},
   "cell_type": "markdown",
   "metadata": {},
   "source": [
    "Următorul pas este să importăm GridSearchCV"
   ]
  },
  {
   "cell_type": "code",
   "execution_count": 36,
   "metadata": {},
   "outputs": [],
   "source": [
    "from sklearn.model_selection import GridSearchCV"
   ]
  },
  {
   "cell_type": "code",
   "execution_count": 37,
   "metadata": {},
   "outputs": [],
   "source": [
    "k_values = list(range(1, 20))"
   ]
  },
  {
   "cell_type": "markdown",
   "metadata": {},
   "source": [
    "Din moment ce utilizăm GridSearch trebuie să ne creem acel grid de parametrii pe care dorim să îi testăm. Înainte puteam să creem o astfel de variabilă după modelul următor:"
   ]
  },
  {
   "cell_type": "code",
   "execution_count": 38,
   "metadata": {},
   "outputs": [],
   "source": [
    "param_grid = {'n_neighbors': k_values}"
   ]
  },
  {
   "attachments": {},
   "cell_type": "markdown",
   "metadata": {},
   "source": [
    "În momentul în care însă utilizăm un Pipeline nu mai putem să utilizăm aceeași structură pentru variabila respective. Acest comportament apare deoarece acel grid search nu știe pentru ce operație din Pipeline este setat parametrul de 'n_neighbors'. Pentru a rezolva această problemă, pentru a putea seta anumite valori de parametrii pentru diferite operații din Pipeline, atunci există următoarea convenție:\n",
    "\n",
    "choosen_string_name + two underscores + parameter name"
   ]
  },
  {
   "attachments": {},
   "cell_type": "markdown",
   "metadata": {},
   "source": [
    "În acest grid o să dorim să facem un grid search pentru parametrul de 'n_neighbors' de la modelul de clasificare (KNN). Dacă ne uităm în lista de operații, inițializarea unui model de KNN poartă denumirea de 'knn_model'. Prin urmare 'choosen_strin_name' o să fie înlocuit cu 'knn_model'. După asta o să adăugăm double underscore, iar după double underscore vine numele parametrului pe care dorim să îl testăm cu diferite valori."
   ]
  },
  {
   "cell_type": "code",
   "execution_count": 39,
   "metadata": {},
   "outputs": [],
   "source": [
    "param_grid = {'knn_model__n_neighbors' : k_values}"
   ]
  },
  {
   "attachments": {},
   "cell_type": "markdown",
   "metadata": {},
   "source": [
    "Din moment ce acuma avem și variabila de param_grid putem să creem acel grid search. Înainte însă de a crea acest GridSearch o să realizăm din nou partea de train_test_split. O să facem asta deoarece Pipeline-ul pe care l-am creat are și partea de scalare de date, iar în acest moment avem doar datele scalate. Pentru a avea un set de date nou și corect (adică pentru a scala datele de două ori) o să realizăm din nou partea de train_test_split"
   ]
  },
  {
   "cell_type": "code",
   "execution_count": 40,
   "metadata": {},
   "outputs": [],
   "source": [
    "X_train, X_test, y_train, y_test = train_test_split(X, y, test_size=0.3, random_state=101)"
   ]
  },
  {
   "cell_type": "markdown",
   "metadata": {},
   "source": [
    "Acuma o să creem grid search-ul. În loc de model (cum se făcea partea de grid search înainte), acuma o să trecem variabila pipeline"
   ]
  },
  {
   "cell_type": "code",
   "execution_count": 41,
   "metadata": {},
   "outputs": [],
   "source": [
    "grid_search = GridSearchCV(pipeline, param_grid, cv=5, scoring='accuracy')"
   ]
  },
  {
   "cell_type": "code",
   "execution_count": 42,
   "metadata": {},
   "outputs": [
    {
     "data": {
      "text/plain": [
       "GridSearchCV(cv=5,\n",
       "             estimator=Pipeline(steps=[('sclaer', StandardScaler()),\n",
       "                                       ('knn_model', KNeighborsClassifier())]),\n",
       "             param_grid={'knn_model__n_neighbors': [1, 2, 3, 4, 5, 6, 7, 8, 9,\n",
       "                                                    10, 11, 12, 13, 14, 15, 16,\n",
       "                                                    17, 18, 19]},\n",
       "             scoring='accuracy')"
      ]
     },
     "execution_count": 42,
     "metadata": {},
     "output_type": "execute_result"
    }
   ],
   "source": [
    "grid_search.fit(X_train, y_train)"
   ]
  },
  {
   "attachments": {},
   "cell_type": "markdown",
   "metadata": {},
   "source": [
    "După ce am realizat partea de grid search putem să vedem care sunt parametrii celui mai bun estimator"
   ]
  },
  {
   "cell_type": "code",
   "execution_count": 43,
   "metadata": {},
   "outputs": [
    {
     "data": {
      "text/plain": [
       "{'memory': None,\n",
       " 'steps': [('sclaer', StandardScaler()),\n",
       "  ('knn_model', KNeighborsClassifier(n_neighbors=19))],\n",
       " 'verbose': False,\n",
       " 'sclaer': StandardScaler(),\n",
       " 'knn_model': KNeighborsClassifier(n_neighbors=19),\n",
       " 'sclaer__copy': True,\n",
       " 'sclaer__with_mean': True,\n",
       " 'sclaer__with_std': True,\n",
       " 'knn_model__algorithm': 'auto',\n",
       " 'knn_model__leaf_size': 30,\n",
       " 'knn_model__metric': 'minkowski',\n",
       " 'knn_model__metric_params': None,\n",
       " 'knn_model__n_jobs': None,\n",
       " 'knn_model__n_neighbors': 19,\n",
       " 'knn_model__p': 2,\n",
       " 'knn_model__weights': 'uniform'}"
      ]
     },
     "execution_count": 43,
     "metadata": {},
     "output_type": "execute_result"
    }
   ],
   "source": [
    "grid_search.best_estimator_.get_params()"
   ]
  },
  {
   "attachments": {},
   "cell_type": "markdown",
   "metadata": {},
   "source": [
    "Estimatorul respectiv putem să îl utilizăm acuma pentru a face predicții, fie pe setul de date de testare, fie pe un nou pacient. Datele asupra cărora o să facem predict nu mai trebuie scalate deoarece partea de scalare este deja preszentă în Pipeline"
   ]
  },
  {
   "attachments": {},
   "cell_type": "markdown",
   "metadata": {},
   "source": [
    "## Recapitulare"
   ]
  },
  {
   "attachments": {},
   "cell_type": "markdown",
   "metadata": {},
   "source": [
    "În cadrul acestei lecții am învățat următoarele lucruri:\n",
    "\n",
    "    1. Care sunt metodele pe care le putem utiliza pentru a găsi cea mai bună valoare pentru k (n_neighbors)\n",
    "\n",
    "        - elbow method\n",
    "\n",
    "        - cross validation (împreună cu Pipeline)\n",
    "\n",
    "    2. Elbow Method pentru a afla valoarea cea mai potrivită pentru k\n",
    "\n",
    "        from sklearn.metrics import accuracy_score\n",
    "\n",
    "        test_error_scores = []\n",
    "\n",
    "        for k in range(1, 30):\n",
    "\n",
    "            knn_model = KNeighborsClassifier(n_neighbors=k)\n",
    "\n",
    "            knn_model.fit(X_train, y_train)\n",
    "\n",
    "            y_pred = knn_model.predict(X_test)\n",
    "\n",
    "            test_error_scores.append(1 - accuracy_score(y_test, y_pred))\n",
    "\n",
    "    3. Ce este un Pipeline\n",
    "\n",
    "        O serie de operații repretitive pe care putem să le introducem într-un bloc de cod\n",
    "\n",
    "    4. De unde să importăm un Pipeline în Scikit-Learn\n",
    "\n",
    "        from sklearn.pipeline import Pipeline\n",
    "\n",
    "    5. Pipeline-ul are nevoie de o listă de operații. Operațiile sunt structurate în tuple în care prima valoare este un string arbitrat, iar cea de a doua valoare este operația care trebuie să se ruleze (crearea unui model, crearea unui scaler). De obicei aceste valori sunt identice\n",
    "\n",
    "        scaler = StandardScaler()\n",
    "\n",
    "        knn_model = KNeighborsClassifier()\n",
    "\n",
    "        operations = [('scaler', scaler), ('knn_model', knn_model)]\n",
    "\n",
    "    6. Cum să creem o variabilă de tip Pipeline\n",
    "\n",
    "        pipeline = Pipeline(steps=operations)\n",
    "\n",
    "    7. Pipeline-ul se utilizează împreună cu un GridSearchCV\n",
    "\n",
    "        from sklearn.model_selection import GridSearchCV\n",
    "\n",
    "    8. Pentru a putea utiliza Pipeline-ul în GridSearchCV trebuie să modificăm modul în care oferim denumirea parametrilor în cadrul variabilei param_grid. Trebuie să specificăm pentru care dintre acțiunile din Pipeline este parametrul respectiv. Pentru asta se urmează o convecție\n",
    "\n",
    "        choosen_string_name + two underscores + parameter name\n",
    "\n",
    "        param_grid = {'knn_model__n_neighbors' : k_values}\n",
    "\n",
    "    9. Variabila de tip Pipeline se va trece în GridSearchCV în loc de estimator, iar aceasta se va ocupa și cu partea de scalare de date.\n",
    "\n",
    "        grid_seach = GridSearchCV(pipeline, param_grid, cv=5, scoring='accuracy')\n",
    "\n",
    "        "
   ]
  },
  {
   "cell_type": "markdown",
   "metadata": {},
   "source": []
  }
 ],
 "metadata": {
  "kernelspec": {
   "display_name": "base",
   "language": "python",
   "name": "python3"
  },
  "language_info": {
   "codemirror_mode": {
    "name": "ipython",
    "version": 3
   },
   "file_extension": ".py",
   "mimetype": "text/x-python",
   "name": "python",
   "nbconvert_exporter": "python",
   "pygments_lexer": "ipython3",
   "version": "3.9.12"
  },
  "orig_nbformat": 4,
  "vscode": {
   "interpreter": {
    "hash": "40d3a090f54c6569ab1632332b64b2c03c39dcf918b08424e98f38b5ae0af88f"
   }
  }
 },
 "nbformat": 4,
 "nbformat_minor": 2
}
