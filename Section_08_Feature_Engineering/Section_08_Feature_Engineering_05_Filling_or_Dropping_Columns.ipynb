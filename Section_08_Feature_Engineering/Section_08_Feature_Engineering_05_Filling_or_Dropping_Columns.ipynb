{
 "cells": [
  {
   "cell_type": "markdown",
   "metadata": {},
   "source": [
    "# Feature Engineering - Filling or Dropping Data based on Columns "
   ]
  },
  {
   "cell_type": "markdown",
   "metadata": {},
   "source": [
    "În urma tutorialului precedent acum trebuie să ne ocupă de datele lipsă care trec de procentajul de 1%. Pentru aceste date nu mai putem să ștergem rândurile unde avem anumite features lipsă, din acest moment trebuie să luăm în calcul partea de column feature unde trebuie să decidem pentru îbntreaga coloană. Fie înlocuim acele date lipsă cu o anumită valoare, fie ștergem tot feature-ul (ștergem toată coloana). Atunci când facem drop la un feature întreg, este extrem de simplu, de rapid și de ușor, iar un alt avantaj este faaptul că nu trebuie să ne mai facem griji pentru acel feature pe viitor dacă o să mai avem date lipsă deoarece aceste feature o să fie șters. Din moment ce ne gândim să ștergem un feature cu totul trebuie să ne uităm înainte la acest feature pentru a vedea dacă are o importanță mare pentru modelul respectiv, dacă are o corelație mare. Trebuie să luăm în considerare partea de ștergere de feature doar atunci când are un procent ridicat de valori NaN"
   ]
  },
  {
   "cell_type": "markdown",
   "metadata": {},
   "source": [
    "În situația în care alegem să înlocuim datele lipsă din cadrul unui feature, aici de asemenea există anumite avantaje și dezavantaje. Atunci când modificăm aceste valori este foarte probabil să modificăm ceea ce este real, ceea ce am primit în date posibil să fi fost corect, să lipsească acea valoare (acel feature) de la un anumit element, iar în momentul în care am decis să înlocuim valorile nule atunci schimbăm datele primite."
   ]
  },
  {
   "cell_type": "markdown",
   "metadata": {},
   "source": [
    "Atunci când alegem să înlocuim datele pentru un feature care are un procentaj mare de date lipsă, atunci este foarte probabil ca și când primim date noi pe baza cărora trebuie să facem predicții să avem date lipsă în acele features. Pentru asta trebuie să fim pregătiți și să nu salvăm doar modelul final, trebuie să salvăm și anumite metode speciale care o să se ocupe de partea asta de transformare de date."
   ]
  },
  {
   "cell_type": "markdown",
   "metadata": {},
   "source": [
    "Cea mai simplă metodă de a înlocui date este de a le înlocui cu o asumpție rezonabilă. De exemplu, dacă avem un feature care reprezintă metri pătrați de garaj de la casă și sunt valori cu NaN, acele valori de cele mai multe ori înseamnă că nu există garaj, iar atunci se poate înlocui cu valoare 0 ceea ce este prezent cu NaN. Partea mai grea este atunci când trebuie să utilizăma numite metode statistice pentru a înlocui acele valori lipsă. Un astfel de exemplu poate fi pentru un set de date în care se adună informații referitoare la vârsta persoanelor și la situația școlară. Pot exista cazuri în care o anumită persoană nu și-a oferit vărsta, dar a precizat faptul că urmează o facultate în momentul de față. Putem să extragem din setul de date toate persoanele care sunt la facultate și și-au oferit și vârsta și să facem o medie a acestor vârste. Să presupunem că media returnată este de 20 de ani, prin urmare toate datele din setul de date unde avem persoane care sunt la facultate, dar nu și-au oferit vârsta o să înlocuim valoarea de NaN de la vârstă cu valoarea 20 (media returnată). Desigur că pot exista persoane mai în vârstă sau mai tinere de 20 de ani care sunt la facultate, dar până la urmă ceea ce facem este o asumpție bazată pe statistică în funcție de datele pe care le avem. Pentru partea de filling data, precum în tot ceea ce ține de acest capitol extrem de important este partea de domain knowledge"
   ]
  },
  {
   "cell_type": "markdown",
   "metadata": {},
   "source": [
    "În continuare o să ne ocupăm de partea de procesare a setului de date cu care am lucrat în secțiunea curentă. De reținut că o să facem ambele procedee, atât de ștergere de date cât și de fill la datele respective, chiar dacă uneori nu este procedeul cel mai bun. Să deschidem fișierul respectiv în jupyter notebook"
   ]
  },
  {
   "cell_type": "code",
   "execution_count": 2,
   "metadata": {},
   "outputs": [],
   "source": [
    "# importing the libraries\n",
    "import numpy as np\n",
    "import pandas as pd\n",
    "import matplotlib.pyplot as plt\n",
    "import seaborn as sns"
   ]
  },
  {
   "cell_type": "code",
   "execution_count": 3,
   "metadata": {},
   "outputs": [],
   "source": [
    "df = pd.read_csv('../data/DATA/Ames_Housing_Data_filling_dropping_rows.csv')"
   ]
  },
  {
   "cell_type": "code",
   "execution_count": 6,
   "metadata": {},
   "outputs": [
    {
     "data": {
      "text/plain": [
       "Index(['Unnamed: 0.1', 'Unnamed: 0', 'PID', 'MS SubClass', 'MS Zoning',\n",
       "       'Lot Frontage', 'Lot Area', 'Street', 'Alley', 'Lot Shape',\n",
       "       'Land Contour', 'Utilities', 'Lot Config', 'Land Slope', 'Neighborhood',\n",
       "       'Condition 1', 'Condition 2', 'Bldg Type', 'House Style',\n",
       "       'Overall Qual', 'Overall Cond', 'Year Built', 'Year Remod/Add',\n",
       "       'Roof Style', 'Roof Matl', 'Exterior 1st', 'Exterior 2nd',\n",
       "       'Mas Vnr Type', 'Mas Vnr Area', 'Exter Qual', 'Exter Cond',\n",
       "       'Foundation', 'Bsmt Qual', 'Bsmt Cond', 'Bsmt Exposure',\n",
       "       'BsmtFin Type 1', 'BsmtFin SF 1', 'BsmtFin Type 2', 'BsmtFin SF 2',\n",
       "       'Bsmt Unf SF', 'Total Bsmt SF', 'Heating', 'Heating QC', 'Central Air',\n",
       "       'Electrical', '1st Flr SF', '2nd Flr SF', 'Low Qual Fin SF',\n",
       "       'Gr Liv Area', 'Bsmt Full Bath', 'Bsmt Half Bath', 'Full Bath',\n",
       "       'Half Bath', 'Bedroom AbvGr', 'Kitchen AbvGr', 'Kitchen Qual',\n",
       "       'TotRms AbvGrd', 'Functional', 'Fireplaces', 'Fireplace Qu',\n",
       "       'Garage Type', 'Garage Yr Blt', 'Garage Finish', 'Garage Cars',\n",
       "       'Garage Area', 'Garage Qual', 'Garage Cond', 'Paved Drive',\n",
       "       'Wood Deck SF', 'Open Porch SF', 'Enclosed Porch', '3Ssn Porch',\n",
       "       'Screen Porch', 'Pool Area', 'Pool QC', 'Fence', 'Misc Feature',\n",
       "       'Misc Val', 'Mo Sold', 'Yr Sold', 'Sale Type', 'Sale Condition',\n",
       "       'SalePrice'],\n",
       "      dtype='object')"
      ]
     },
     "execution_count": 6,
     "metadata": {},
     "output_type": "execute_result"
    }
   ],
   "source": [
    "df.columns"
   ]
  },
  {
   "cell_type": "code",
   "execution_count": 9,
   "metadata": {},
   "outputs": [
    {
     "data": {
      "text/html": [
       "<div>\n",
       "<style scoped>\n",
       "    .dataframe tbody tr th:only-of-type {\n",
       "        vertical-align: middle;\n",
       "    }\n",
       "\n",
       "    .dataframe tbody tr th {\n",
       "        vertical-align: top;\n",
       "    }\n",
       "\n",
       "    .dataframe thead th {\n",
       "        text-align: right;\n",
       "    }\n",
       "</style>\n",
       "<table border=\"1\" class=\"dataframe\">\n",
       "  <thead>\n",
       "    <tr style=\"text-align: right;\">\n",
       "      <th></th>\n",
       "      <th>MS SubClass</th>\n",
       "      <th>MS Zoning</th>\n",
       "      <th>Lot Frontage</th>\n",
       "      <th>Lot Area</th>\n",
       "      <th>Street</th>\n",
       "      <th>Alley</th>\n",
       "      <th>Lot Shape</th>\n",
       "      <th>Land Contour</th>\n",
       "      <th>Utilities</th>\n",
       "      <th>Lot Config</th>\n",
       "      <th>...</th>\n",
       "      <th>Pool Area</th>\n",
       "      <th>Pool QC</th>\n",
       "      <th>Fence</th>\n",
       "      <th>Misc Feature</th>\n",
       "      <th>Misc Val</th>\n",
       "      <th>Mo Sold</th>\n",
       "      <th>Yr Sold</th>\n",
       "      <th>Sale Type</th>\n",
       "      <th>Sale Condition</th>\n",
       "      <th>SalePrice</th>\n",
       "    </tr>\n",
       "    <tr>\n",
       "      <th>PID</th>\n",
       "      <th></th>\n",
       "      <th></th>\n",
       "      <th></th>\n",
       "      <th></th>\n",
       "      <th></th>\n",
       "      <th></th>\n",
       "      <th></th>\n",
       "      <th></th>\n",
       "      <th></th>\n",
       "      <th></th>\n",
       "      <th></th>\n",
       "      <th></th>\n",
       "      <th></th>\n",
       "      <th></th>\n",
       "      <th></th>\n",
       "      <th></th>\n",
       "      <th></th>\n",
       "      <th></th>\n",
       "      <th></th>\n",
       "      <th></th>\n",
       "      <th></th>\n",
       "    </tr>\n",
       "  </thead>\n",
       "  <tbody>\n",
       "    <tr>\n",
       "      <th>526301100</th>\n",
       "      <td>20</td>\n",
       "      <td>RL</td>\n",
       "      <td>141.0</td>\n",
       "      <td>31770</td>\n",
       "      <td>Pave</td>\n",
       "      <td>NaN</td>\n",
       "      <td>IR1</td>\n",
       "      <td>Lvl</td>\n",
       "      <td>AllPub</td>\n",
       "      <td>Corner</td>\n",
       "      <td>...</td>\n",
       "      <td>0</td>\n",
       "      <td>NaN</td>\n",
       "      <td>NaN</td>\n",
       "      <td>NaN</td>\n",
       "      <td>0</td>\n",
       "      <td>5</td>\n",
       "      <td>2010</td>\n",
       "      <td>WD</td>\n",
       "      <td>Normal</td>\n",
       "      <td>215000</td>\n",
       "    </tr>\n",
       "    <tr>\n",
       "      <th>526350040</th>\n",
       "      <td>20</td>\n",
       "      <td>RH</td>\n",
       "      <td>80.0</td>\n",
       "      <td>11622</td>\n",
       "      <td>Pave</td>\n",
       "      <td>NaN</td>\n",
       "      <td>Reg</td>\n",
       "      <td>Lvl</td>\n",
       "      <td>AllPub</td>\n",
       "      <td>Inside</td>\n",
       "      <td>...</td>\n",
       "      <td>0</td>\n",
       "      <td>NaN</td>\n",
       "      <td>MnPrv</td>\n",
       "      <td>NaN</td>\n",
       "      <td>0</td>\n",
       "      <td>6</td>\n",
       "      <td>2010</td>\n",
       "      <td>WD</td>\n",
       "      <td>Normal</td>\n",
       "      <td>105000</td>\n",
       "    </tr>\n",
       "    <tr>\n",
       "      <th>526351010</th>\n",
       "      <td>20</td>\n",
       "      <td>RL</td>\n",
       "      <td>81.0</td>\n",
       "      <td>14267</td>\n",
       "      <td>Pave</td>\n",
       "      <td>NaN</td>\n",
       "      <td>IR1</td>\n",
       "      <td>Lvl</td>\n",
       "      <td>AllPub</td>\n",
       "      <td>Corner</td>\n",
       "      <td>...</td>\n",
       "      <td>0</td>\n",
       "      <td>NaN</td>\n",
       "      <td>NaN</td>\n",
       "      <td>Gar2</td>\n",
       "      <td>12500</td>\n",
       "      <td>6</td>\n",
       "      <td>2010</td>\n",
       "      <td>WD</td>\n",
       "      <td>Normal</td>\n",
       "      <td>172000</td>\n",
       "    </tr>\n",
       "    <tr>\n",
       "      <th>526353030</th>\n",
       "      <td>20</td>\n",
       "      <td>RL</td>\n",
       "      <td>93.0</td>\n",
       "      <td>11160</td>\n",
       "      <td>Pave</td>\n",
       "      <td>NaN</td>\n",
       "      <td>Reg</td>\n",
       "      <td>Lvl</td>\n",
       "      <td>AllPub</td>\n",
       "      <td>Corner</td>\n",
       "      <td>...</td>\n",
       "      <td>0</td>\n",
       "      <td>NaN</td>\n",
       "      <td>NaN</td>\n",
       "      <td>NaN</td>\n",
       "      <td>0</td>\n",
       "      <td>4</td>\n",
       "      <td>2010</td>\n",
       "      <td>WD</td>\n",
       "      <td>Normal</td>\n",
       "      <td>244000</td>\n",
       "    </tr>\n",
       "    <tr>\n",
       "      <th>527105010</th>\n",
       "      <td>60</td>\n",
       "      <td>RL</td>\n",
       "      <td>74.0</td>\n",
       "      <td>13830</td>\n",
       "      <td>Pave</td>\n",
       "      <td>NaN</td>\n",
       "      <td>IR1</td>\n",
       "      <td>Lvl</td>\n",
       "      <td>AllPub</td>\n",
       "      <td>Inside</td>\n",
       "      <td>...</td>\n",
       "      <td>0</td>\n",
       "      <td>NaN</td>\n",
       "      <td>MnPrv</td>\n",
       "      <td>NaN</td>\n",
       "      <td>0</td>\n",
       "      <td>3</td>\n",
       "      <td>2010</td>\n",
       "      <td>WD</td>\n",
       "      <td>Normal</td>\n",
       "      <td>189900</td>\n",
       "    </tr>\n",
       "    <tr>\n",
       "      <th>...</th>\n",
       "      <td>...</td>\n",
       "      <td>...</td>\n",
       "      <td>...</td>\n",
       "      <td>...</td>\n",
       "      <td>...</td>\n",
       "      <td>...</td>\n",
       "      <td>...</td>\n",
       "      <td>...</td>\n",
       "      <td>...</td>\n",
       "      <td>...</td>\n",
       "      <td>...</td>\n",
       "      <td>...</td>\n",
       "      <td>...</td>\n",
       "      <td>...</td>\n",
       "      <td>...</td>\n",
       "      <td>...</td>\n",
       "      <td>...</td>\n",
       "      <td>...</td>\n",
       "      <td>...</td>\n",
       "      <td>...</td>\n",
       "      <td>...</td>\n",
       "    </tr>\n",
       "    <tr>\n",
       "      <th>923275080</th>\n",
       "      <td>80</td>\n",
       "      <td>RL</td>\n",
       "      <td>37.0</td>\n",
       "      <td>7937</td>\n",
       "      <td>Pave</td>\n",
       "      <td>NaN</td>\n",
       "      <td>IR1</td>\n",
       "      <td>Lvl</td>\n",
       "      <td>AllPub</td>\n",
       "      <td>CulDSac</td>\n",
       "      <td>...</td>\n",
       "      <td>0</td>\n",
       "      <td>NaN</td>\n",
       "      <td>GdPrv</td>\n",
       "      <td>NaN</td>\n",
       "      <td>0</td>\n",
       "      <td>3</td>\n",
       "      <td>2006</td>\n",
       "      <td>WD</td>\n",
       "      <td>Normal</td>\n",
       "      <td>142500</td>\n",
       "    </tr>\n",
       "    <tr>\n",
       "      <th>923276100</th>\n",
       "      <td>20</td>\n",
       "      <td>RL</td>\n",
       "      <td>NaN</td>\n",
       "      <td>8885</td>\n",
       "      <td>Pave</td>\n",
       "      <td>NaN</td>\n",
       "      <td>IR1</td>\n",
       "      <td>Low</td>\n",
       "      <td>AllPub</td>\n",
       "      <td>Inside</td>\n",
       "      <td>...</td>\n",
       "      <td>0</td>\n",
       "      <td>NaN</td>\n",
       "      <td>MnPrv</td>\n",
       "      <td>NaN</td>\n",
       "      <td>0</td>\n",
       "      <td>6</td>\n",
       "      <td>2006</td>\n",
       "      <td>WD</td>\n",
       "      <td>Normal</td>\n",
       "      <td>131000</td>\n",
       "    </tr>\n",
       "    <tr>\n",
       "      <th>923400125</th>\n",
       "      <td>85</td>\n",
       "      <td>RL</td>\n",
       "      <td>62.0</td>\n",
       "      <td>10441</td>\n",
       "      <td>Pave</td>\n",
       "      <td>NaN</td>\n",
       "      <td>Reg</td>\n",
       "      <td>Lvl</td>\n",
       "      <td>AllPub</td>\n",
       "      <td>Inside</td>\n",
       "      <td>...</td>\n",
       "      <td>0</td>\n",
       "      <td>NaN</td>\n",
       "      <td>MnPrv</td>\n",
       "      <td>Shed</td>\n",
       "      <td>700</td>\n",
       "      <td>7</td>\n",
       "      <td>2006</td>\n",
       "      <td>WD</td>\n",
       "      <td>Normal</td>\n",
       "      <td>132000</td>\n",
       "    </tr>\n",
       "    <tr>\n",
       "      <th>924100070</th>\n",
       "      <td>20</td>\n",
       "      <td>RL</td>\n",
       "      <td>77.0</td>\n",
       "      <td>10010</td>\n",
       "      <td>Pave</td>\n",
       "      <td>NaN</td>\n",
       "      <td>Reg</td>\n",
       "      <td>Lvl</td>\n",
       "      <td>AllPub</td>\n",
       "      <td>Inside</td>\n",
       "      <td>...</td>\n",
       "      <td>0</td>\n",
       "      <td>NaN</td>\n",
       "      <td>NaN</td>\n",
       "      <td>NaN</td>\n",
       "      <td>0</td>\n",
       "      <td>4</td>\n",
       "      <td>2006</td>\n",
       "      <td>WD</td>\n",
       "      <td>Normal</td>\n",
       "      <td>170000</td>\n",
       "    </tr>\n",
       "    <tr>\n",
       "      <th>924151050</th>\n",
       "      <td>60</td>\n",
       "      <td>RL</td>\n",
       "      <td>74.0</td>\n",
       "      <td>9627</td>\n",
       "      <td>Pave</td>\n",
       "      <td>NaN</td>\n",
       "      <td>Reg</td>\n",
       "      <td>Lvl</td>\n",
       "      <td>AllPub</td>\n",
       "      <td>Inside</td>\n",
       "      <td>...</td>\n",
       "      <td>0</td>\n",
       "      <td>NaN</td>\n",
       "      <td>NaN</td>\n",
       "      <td>NaN</td>\n",
       "      <td>0</td>\n",
       "      <td>11</td>\n",
       "      <td>2006</td>\n",
       "      <td>WD</td>\n",
       "      <td>Normal</td>\n",
       "      <td>188000</td>\n",
       "    </tr>\n",
       "  </tbody>\n",
       "</table>\n",
       "<p>2925 rows × 80 columns</p>\n",
       "</div>"
      ],
      "text/plain": [
       "           MS SubClass MS Zoning  Lot Frontage  Lot Area Street Alley  \\\n",
       "PID                                                                     \n",
       "526301100           20        RL         141.0     31770   Pave   NaN   \n",
       "526350040           20        RH          80.0     11622   Pave   NaN   \n",
       "526351010           20        RL          81.0     14267   Pave   NaN   \n",
       "526353030           20        RL          93.0     11160   Pave   NaN   \n",
       "527105010           60        RL          74.0     13830   Pave   NaN   \n",
       "...                ...       ...           ...       ...    ...   ...   \n",
       "923275080           80        RL          37.0      7937   Pave   NaN   \n",
       "923276100           20        RL           NaN      8885   Pave   NaN   \n",
       "923400125           85        RL          62.0     10441   Pave   NaN   \n",
       "924100070           20        RL          77.0     10010   Pave   NaN   \n",
       "924151050           60        RL          74.0      9627   Pave   NaN   \n",
       "\n",
       "          Lot Shape Land Contour Utilities Lot Config  ... Pool Area Pool QC  \\\n",
       "PID                                                    ...                     \n",
       "526301100       IR1          Lvl    AllPub     Corner  ...         0     NaN   \n",
       "526350040       Reg          Lvl    AllPub     Inside  ...         0     NaN   \n",
       "526351010       IR1          Lvl    AllPub     Corner  ...         0     NaN   \n",
       "526353030       Reg          Lvl    AllPub     Corner  ...         0     NaN   \n",
       "527105010       IR1          Lvl    AllPub     Inside  ...         0     NaN   \n",
       "...             ...          ...       ...        ...  ...       ...     ...   \n",
       "923275080       IR1          Lvl    AllPub    CulDSac  ...         0     NaN   \n",
       "923276100       IR1          Low    AllPub     Inside  ...         0     NaN   \n",
       "923400125       Reg          Lvl    AllPub     Inside  ...         0     NaN   \n",
       "924100070       Reg          Lvl    AllPub     Inside  ...         0     NaN   \n",
       "924151050       Reg          Lvl    AllPub     Inside  ...         0     NaN   \n",
       "\n",
       "           Fence Misc Feature Misc Val Mo Sold  Yr Sold  Sale Type  \\\n",
       "PID                                                                  \n",
       "526301100    NaN          NaN        0       5     2010        WD    \n",
       "526350040  MnPrv          NaN        0       6     2010        WD    \n",
       "526351010    NaN         Gar2    12500       6     2010        WD    \n",
       "526353030    NaN          NaN        0       4     2010        WD    \n",
       "527105010  MnPrv          NaN        0       3     2010        WD    \n",
       "...          ...          ...      ...     ...      ...        ...   \n",
       "923275080  GdPrv          NaN        0       3     2006        WD    \n",
       "923276100  MnPrv          NaN        0       6     2006        WD    \n",
       "923400125  MnPrv         Shed      700       7     2006        WD    \n",
       "924100070    NaN          NaN        0       4     2006        WD    \n",
       "924151050    NaN          NaN        0      11     2006        WD    \n",
       "\n",
       "           Sale Condition  SalePrice  \n",
       "PID                                   \n",
       "526301100          Normal     215000  \n",
       "526350040          Normal     105000  \n",
       "526351010          Normal     172000  \n",
       "526353030          Normal     244000  \n",
       "527105010          Normal     189900  \n",
       "...                   ...        ...  \n",
       "923275080          Normal     142500  \n",
       "923276100          Normal     131000  \n",
       "923400125          Normal     132000  \n",
       "924100070          Normal     170000  \n",
       "924151050          Normal     188000  \n",
       "\n",
       "[2925 rows x 80 columns]"
      ]
     },
     "execution_count": 9,
     "metadata": {},
     "output_type": "execute_result"
    }
   ],
   "source": [
    "df = df.drop(columns=['Unnamed: 0', 'Unnamed: 0.1'])\n",
    "df = df.set_index('PID')\n",
    "df"
   ]
  },
  {
   "cell_type": "code",
   "execution_count": 27,
   "metadata": {},
   "outputs": [],
   "source": [
    "percentage_missing = 100 * df.isnull().sum().sort_values(ascending=False) / len(df)"
   ]
  },
  {
   "cell_type": "code",
   "execution_count": 28,
   "metadata": {},
   "outputs": [],
   "source": [
    "percentage_missing = percentage_missing[percentage_missing > 0]"
   ]
  },
  {
   "cell_type": "code",
   "execution_count": 29,
   "metadata": {},
   "outputs": [
    {
     "data": {
      "text/plain": [
       "Pool QC          99.589744\n",
       "Misc Feature     96.410256\n",
       "Alley            93.230769\n",
       "Fence            80.478632\n",
       "Fireplace Qu     48.547009\n",
       "Lot Frontage     16.752137\n",
       "Garage Qual       5.401709\n",
       "Garage Cond       5.401709\n",
       "Garage Yr Blt     5.401709\n",
       "Garage Finish     5.401709\n",
       "Garage Type       5.367521\n",
       "dtype: float64"
      ]
     },
     "execution_count": 29,
     "metadata": {},
     "output_type": "execute_result"
    }
   ],
   "source": [
    "percentage_missing"
   ]
  },
  {
   "cell_type": "code",
   "execution_count": 34,
   "metadata": {},
   "outputs": [
    {
     "data": {
      "image/png": "[encoded data removed]",
      "text/plain": [
       "<Figure size 432x288 with 1 Axes>"
      ]
     },
     "metadata": {
      "needs_background": "light"
     },
     "output_type": "display_data"
    }
   ],
   "source": [
    "sns.barplot(x=percentage_missing.index, y=percentage_missing)\n",
    "plt.xticks(rotation=90);"
   ]
  },
  {
   "cell_type": "markdown",
   "metadata": {},
   "source": [
    "În graficul de mai sus avem coloanele din care lipsesc date pentru setul de date cu care lucrăm. Înainte ne-am ocupat de features unde lipsea mai puțin de 1% din totalul de date, dar acuma au mai rămas features de mai sus de care trebuie să ne ocupăm. Trebuie să decidem ce facem cu ele, ce putem face pentru un feature unde avem un procentaj de 99% de date lipsă (probabil să ștergem acel feature)"
   ]
  },
  {
   "cell_type": "markdown",
   "metadata": {},
   "source": [
    "În lista de mai sus putem vedea că avem multe features care au denumirea de Garage, ceea ce seamănă cu ce am făcut anterior pentru Basement (Bsmt). Feature-urile care conțin date numerice le putem pune separat într-o coloană și să înlocuim valorile de NaN cu valorea 0, iar pentru cele categorice să setăm un string care are valoarea 'None'"
   ]
  },
  {
   "cell_type": "code",
   "execution_count": 35,
   "metadata": {},
   "outputs": [],
   "source": [
    "garage_str_columns = ['Garage Type', 'Garage Finish', 'Garage Qual', 'Garage Cond']\n",
    "df[garage_str_columns] = df[garage_str_columns].fillna('None')"
   ]
  },
  {
   "cell_type": "code",
   "execution_count": 36,
   "metadata": {},
   "outputs": [],
   "source": [
    "df['Garage Yr Blt'] = df['Garage Yr Blt'].fillna(0)"
   ]
  },
  {
   "cell_type": "code",
   "execution_count": 41,
   "metadata": {},
   "outputs": [],
   "source": [
    "percentage_missing = 100 * df.isnull().sum().sort_values(ascending=False) / len(df)\n",
    "percentage_missing = percentage_missing[percentage_missing > 0]"
   ]
  },
  {
   "cell_type": "code",
   "execution_count": 42,
   "metadata": {},
   "outputs": [
    {
     "data": {
      "text/plain": [
       "Pool QC         99.589744\n",
       "Misc Feature    96.410256\n",
       "Alley           93.230769\n",
       "Fence           80.478632\n",
       "Fireplace Qu    48.547009\n",
       "Lot Frontage    16.752137\n",
       "dtype: float64"
      ]
     },
     "execution_count": 42,
     "metadata": {},
     "output_type": "execute_result"
    }
   ],
   "source": [
    "percentage_missing"
   ]
  },
  {
   "cell_type": "code",
   "execution_count": 43,
   "metadata": {},
   "outputs": [
    {
     "data": {
      "image/png": "[encoded data removed]",
      "text/plain": [
       "<Figure size 432x288 with 1 Axes>"
      ]
     },
     "metadata": {
      "needs_background": "light"
     },
     "output_type": "display_data"
    }
   ],
   "source": [
    "sns.barplot(x=percentage_missing.index, y=percentage_missing)\n",
    "plt.xticks(rotation=90);"
   ]
  },
  {
   "cell_type": "markdown",
   "metadata": {},
   "source": [
    "Am rezolvat și problema cu features ce țin de garajul unei case. Setarea valorii de 0 la feature-ul de Garage Yr Blt presupune faptul că nu avem un garaj, iar din moment ce lipsesc un număr de date relativ mic, iar acest feature de Garage presupune un feature cu o corelație mare pentru prețul vânzării nu o să ștergem acest feature, ci o să înlocuim valorile lipsă"
   ]
  },
  {
   "cell_type": "markdown",
   "metadata": {},
   "source": [
    "Acum în graficul de mai sus sunt prezente feature care au procentaj mare de date lipsă. Primele patru features (Pool QC, Misc Feature, Alley, Fence) au un procentaj de peste 80% de date lipsă, prin urmare o să facem drop la aceste features (pentru anumite coloane s-ar putea verifica ce anume reprezintă datele din acele fatures). De exemplu, pentru coloana Pool QC, care face referire la piscina unei case, din moment ce nu are piscină, atunci se pune valoarea NaN. O piscină crește prețul unei case, de aceea ar exista și posibilitatea de a înlocui datele lipsă. Să ștergem coloanele respective (features)"
   ]
  },
  {
   "cell_type": "code",
   "execution_count": 44,
   "metadata": {},
   "outputs": [],
   "source": [
    "df = df.drop(columns=['Pool QC', 'Misc Feature', 'Alley', 'Fence'])"
   ]
  },
  {
   "cell_type": "code",
   "execution_count": 45,
   "metadata": {},
   "outputs": [
    {
     "data": {
      "text/plain": [
       "Lot Frontage    16.752137\n",
       "Fireplace Qu    48.547009\n",
       "dtype: float64"
      ]
     },
     "execution_count": 45,
     "metadata": {},
     "output_type": "execute_result"
    }
   ],
   "source": [
    "percentage_missing = 100 * df.isnull().sum().sort_values(ascending=True) / len(df)\n",
    "percentage_missing = percentage_missing[percentage_missing > 0]\n",
    "percentage_missing"
   ]
  },
  {
   "cell_type": "code",
   "execution_count": 46,
   "metadata": {},
   "outputs": [
    {
     "data": {
      "image/png": "[encoded data removed]",
      "text/plain": [
       "<Figure size 432x288 with 1 Axes>"
      ]
     },
     "metadata": {
      "needs_background": "light"
     },
     "output_type": "display_data"
    }
   ],
   "source": [
    "sns.barplot(x=percentage_missing.index, y=percentage_missing)\n",
    "plt.xticks(rotation=90);"
   ]
  },
  {
   "cell_type": "markdown",
   "metadata": {},
   "source": [
    "Am mai rămas doar cu două features acuma de care trebuie să ne ocupăm, însă acestea două sunt cele mai complicate deoarece nu lipsesc atât de multe date încât să zicem că am putea să ștergem acel feature, nici nu lipsesc puține date ca să ștergem rândurile respective. O să începem cu coloana de 'Fireplace Qu'. Să vedem întâi ce fel de date conține această coloană"
   ]
  },
  {
   "cell_type": "code",
   "execution_count": 47,
   "metadata": {},
   "outputs": [
    {
     "data": {
      "text/plain": [
       "PID\n",
       "526301100     Gd\n",
       "526350040    NaN\n",
       "526351010    NaN\n",
       "526353030     TA\n",
       "527105010     TA\n",
       "            ... \n",
       "923275080    NaN\n",
       "923276100    NaN\n",
       "923400125    NaN\n",
       "924100070     TA\n",
       "924151050     TA\n",
       "Name: Fireplace Qu, Length: 2925, dtype: object"
      ]
     },
     "execution_count": 47,
     "metadata": {},
     "output_type": "execute_result"
    }
   ],
   "source": [
    "df['Fireplace Qu']"
   ]
  },
  {
   "cell_type": "markdown",
   "metadata": {},
   "source": [
    "Putem vedea că sunt prezente date de tip string în cadrul acestui feature. Să vedem mai departe dacă aceste date sunt împărțite în categorii sau nu."
   ]
  },
  {
   "cell_type": "code",
   "execution_count": 48,
   "metadata": {},
   "outputs": [
    {
     "data": {
      "text/plain": [
       "Gd    741\n",
       "TA    600\n",
       "Fa     75\n",
       "Po     46\n",
       "Ex     43\n",
       "Name: Fireplace Qu, dtype: int64"
      ]
     },
     "execution_count": 48,
     "metadata": {},
     "output_type": "execute_result"
    }
   ],
   "source": [
    "df['Fireplace Qu'].value_counts()"
   ]
  },
  {
   "cell_type": "markdown",
   "metadata": {},
   "source": [
    "Există 5 categorii în cadrul acestui feature. Din moment ce este un feature care conține string-uri putem să înlocuim datele lipsă cu un string (valoarea 'None', ca de obicei)"
   ]
  },
  {
   "cell_type": "code",
   "execution_count": 49,
   "metadata": {},
   "outputs": [],
   "source": [
    "df['Fireplace Qu'] = df['Fireplace Qu'].fillna('None')"
   ]
  },
  {
   "cell_type": "code",
   "execution_count": 50,
   "metadata": {},
   "outputs": [
    {
     "data": {
      "text/plain": [
       "None    1420\n",
       "Gd       741\n",
       "TA       600\n",
       "Fa        75\n",
       "Po        46\n",
       "Ex        43\n",
       "Name: Fireplace Qu, dtype: int64"
      ]
     },
     "execution_count": 50,
     "metadata": {},
     "output_type": "execute_result"
    }
   ],
   "source": [
    "df['Fireplace Qu'].value_counts()"
   ]
  },
  {
   "cell_type": "markdown",
   "metadata": {},
   "source": [
    "Am rezolvat și problema cu coloana de 'Fireplace Qu', ne mai rămâne doar coloana de Lot Frontage. O să abordăm la fel această coloană, o să vedem inițial ce valori conține acest feature"
   ]
  },
  {
   "cell_type": "code",
   "execution_count": 51,
   "metadata": {},
   "outputs": [
    {
     "data": {
      "text/plain": [
       "PID\n",
       "526301100    141.0\n",
       "526350040     80.0\n",
       "526351010     81.0\n",
       "526353030     93.0\n",
       "527105010     74.0\n",
       "             ...  \n",
       "923275080     37.0\n",
       "923276100      NaN\n",
       "923400125     62.0\n",
       "924100070     77.0\n",
       "924151050     74.0\n",
       "Name: Lot Frontage, Length: 2925, dtype: float64"
      ]
     },
     "execution_count": 51,
     "metadata": {},
     "output_type": "execute_result"
    }
   ],
   "source": [
    "df['Lot Frontage']"
   ]
  },
  {
   "cell_type": "markdown",
   "metadata": {},
   "source": [
    "Din moment ce acest feature conține valori numerice trebuie să vedem ce metodă statistică, pe baza a cărei coloane să apelăm această metodă statistică pentru a putea completa valorile lipsă. Pentru cazul de mai sus (deși poate nu este necesar) o să ne utilizăm de feature-ul 'Neighborhood'. O să zicem că acel Lot Fraontage va fi egal cu valoarea medie a fiecărei case dintr-un anumit cartier. Pentru a afla care este valoare medie a acestor case o să trebuiască să folosim groupby ca să grupăm toate valorile după acel feature"
   ]
  },
  {
   "cell_type": "code",
   "execution_count": 52,
   "metadata": {},
   "outputs": [
    {
     "data": {
      "text/plain": [
       "<pandas.core.groupby.generic.DataFrameGroupBy object at 0x7f782512a0d0>"
      ]
     },
     "execution_count": 52,
     "metadata": {},
     "output_type": "execute_result"
    }
   ],
   "source": [
    "df.groupby('Neighborhood')"
   ]
  },
  {
   "cell_type": "code",
   "execution_count": 53,
   "metadata": {},
   "outputs": [
    {
     "data": {
      "text/plain": [
       "<pandas.core.groupby.generic.SeriesGroupBy object at 0x7f782519a3d0>"
      ]
     },
     "execution_count": 53,
     "metadata": {},
     "output_type": "execute_result"
    }
   ],
   "source": [
    "df.groupby('Neighborhood')['Lot Frontage']"
   ]
  },
  {
   "cell_type": "code",
   "execution_count": 54,
   "metadata": {},
   "outputs": [
    {
     "data": {
      "text/plain": [
       "Neighborhood\n",
       "Blmngtn    46.900000\n",
       "Blueste    27.300000\n",
       "BrDale     21.500000\n",
       "BrkSide    55.789474\n",
       "ClearCr    88.150000\n",
       "CollgCr    71.336364\n",
       "Crawfor    69.951807\n",
       "Edwards    64.794286\n",
       "Gilbert    74.207207\n",
       "Greens     41.000000\n",
       "GrnHill          NaN\n",
       "IDOTRR     62.383721\n",
       "Landmrk          NaN\n",
       "MeadowV    25.606061\n",
       "Mitchel    75.144444\n",
       "NAmes      75.210667\n",
       "NPkVill    28.142857\n",
       "NWAmes     81.517647\n",
       "NoRidge    91.629630\n",
       "NridgHt    84.184049\n",
       "OldTown    61.777293\n",
       "SWISU      59.068182\n",
       "Sawyer     74.551020\n",
       "SawyerW    70.669811\n",
       "Somerst    64.549383\n",
       "StoneBr    62.173913\n",
       "Timber     81.303571\n",
       "Veenker    72.000000\n",
       "Name: Lot Frontage, dtype: float64"
      ]
     },
     "execution_count": 54,
     "metadata": {},
     "output_type": "execute_result"
    }
   ],
   "source": [
    "df.groupby('Neighborhood')['Lot Frontage'].mean()"
   ]
  },
  {
   "cell_type": "markdown",
   "metadata": {},
   "source": [
    "Acuma am aflat valorie medie de la feature-url Lot Fraontage pentru fiecare cartier în parte. Urmează să înlocuim valorile lipsă din Lot Frontage cu mediile de mai sus. Acest lucru se poate face fie cu o buclă for prin care să parcurgem tot DataFrmae-ul în care să verificăm dacă avem valori lipsă, să vedem din ce cartier face partea acea casă care are valoare lipsă și să înlocuim valoarea cu media de mai sus (în funcție de cartierul în care se găsește casa respectivă). Metoda de mai sus necesită mult timp și cod, iar deoarece acest procedeu este des întâlnit, pandas ne oferă o metodă prin care putem face asta mai rapid. Metoda respectivă poartă denumirea de 'transform'"
   ]
  },
  {
   "cell_type": "markdown",
   "metadata": {},
   "source": [
    "Metoda respectivă ne permită să combină procedeul de groupby cu un apply. Îi spunem să creeze o anumită funcție (sau creem o funcție pe care să o pasăm) iar funcția respectivă o să înlocuiască valorile cu valoarea medie dintr-un anumit grup. O să creem din nou acel obiect de groupby(), dar în loc să apelăm o metodă statistică de această dată o să utilizăm metoda transform"
   ]
  },
  {
   "cell_type": "code",
   "execution_count": 55,
   "metadata": {},
   "outputs": [
    {
     "ename": "TypeError",
     "evalue": "transform() missing 1 required positional argument: 'func'",
     "output_type": "error",
     "traceback": [
      "\u001b[0;31m---------------------------------------------------------------------------\u001b[0m",
      "\u001b[0;31mTypeError\u001b[0m                                 Traceback (most recent call last)",
      "\u001b[1;32m/Users/andreig2/python/udemy/python_for_machine_learning_and_data_science_masterclass/Section_08_Feature_Engineering/Section_08_Feature_Engineering_05_Filling_or_Dropping_Columns.ipynb Cell 42\u001b[0m in \u001b[0;36m<cell line: 1>\u001b[0;34m()\u001b[0m\n\u001b[0;32m----> <a href='vscode-notebook-cell:/Users/andreig2/python/udemy/python_for_machine_learning_and_data_science_masterclass/Section_08_Feature_Engineering/Section_08_Feature_Engineering_05_Filling_or_Dropping_Columns.ipynb#Y111sZmlsZQ%3D%3D?line=0'>1</a>\u001b[0m df\u001b[39m.\u001b[39;49mgroupby(\u001b[39m'\u001b[39;49m\u001b[39mNeighborhood\u001b[39;49m\u001b[39m'\u001b[39;49m)[\u001b[39m'\u001b[39;49m\u001b[39mLot Frontage\u001b[39;49m\u001b[39m'\u001b[39;49m]\u001b[39m.\u001b[39;49mtransform()\n",
      "\u001b[0;31mTypeError\u001b[0m: transform() missing 1 required positional argument: 'func'"
     ]
    }
   ],
   "source": [
    "df.groupby('Neighborhood')['Lot Frontage'].transform()"
   ]
  },
  {
   "cell_type": "markdown",
   "metadata": {},
   "source": [
    "Eroarea de mai sus ne spune că funcția transform ia ca și argument o funcție. Prin urmare trebuie să îi pasăm o funcție ca și prim argument. O să creem o funcție lambda care retunreasă aceeași valoare pentru început"
   ]
  },
  {
   "cell_type": "code",
   "execution_count": 56,
   "metadata": {},
   "outputs": [
    {
     "data": {
      "text/plain": [
       "PID\n",
       "526301100    141.0\n",
       "526350040     80.0\n",
       "526351010     81.0\n",
       "526353030     93.0\n",
       "527105010     74.0\n",
       "             ...  \n",
       "923275080     37.0\n",
       "923276100      NaN\n",
       "923400125     62.0\n",
       "924100070     77.0\n",
       "924151050     74.0\n",
       "Name: Lot Frontage, Length: 2925, dtype: float64"
      ]
     },
     "execution_count": 56,
     "metadata": {},
     "output_type": "execute_result"
    }
   ],
   "source": [
    "df.groupby('Neighborhood')['Lot Frontage'].transform(lambda value: value)"
   ]
  },
  {
   "cell_type": "markdown",
   "metadata": {},
   "source": [
    "Metoda de mai sus doar returnează aceeași valoare care este oferită ca și argument. Dacă se oferă ca și argument valoarea NaN, tot valorea NaN o să fie returnată. O să modificăm metoda astfel încât să returneze doar pentru valorile care sunt lipsă, iar ceea ce o să returneze momentan este un string ('RETURN FROM TRANSFORM'). Acest string ar trebuie să apară în loc de NaN pentru idex-ul 923276100"
   ]
  },
  {
   "cell_type": "code",
   "execution_count": 57,
   "metadata": {},
   "outputs": [
    {
     "data": {
      "text/plain": [
       "PID\n",
       "526301100                    141.0\n",
       "526350040                     80.0\n",
       "526351010                     81.0\n",
       "526353030                     93.0\n",
       "527105010                     74.0\n",
       "                     ...          \n",
       "923275080                     37.0\n",
       "923276100    RETURN FROM TRANSFORM\n",
       "923400125                     62.0\n",
       "924100070                     77.0\n",
       "924151050                     74.0\n",
       "Name: Lot Frontage, Length: 2925, dtype: object"
      ]
     },
     "execution_count": 57,
     "metadata": {},
     "output_type": "execute_result"
    }
   ],
   "source": [
    "df.groupby('Neighborhood')['Lot Frontage'].transform(lambda value: value.fillna('RETURN FROM TRANSFORM'))"
   ]
  },
  {
   "cell_type": "markdown",
   "metadata": {},
   "source": [
    "Putem acuma să vedem că valoare de NaN a fost înlocuită cu acel string. Acea valoare totuși dorim săo înlocuim cu valorea medie pentru fiecare carteier în parte. Din moment ce se utilizează groupby, ceea ce se pasează la funcția de transform este un obiect de groupby(). Acel 'value' reprezintă valorea pentru 'Lot Frontage' la fiecare grup în parte (fiecare cartier în parte). Pentru a afla valoarea medie trebuie doar să utilizăm 'value.mean()' (deoarece mean este acel obiect de groupby()). Putem să ne imaginăm că value.mean() reprezintă df.groupby('Neighborhood')['Lot Frontage'].mean() pentru fiecare carteier în parte"
   ]
  },
  {
   "cell_type": "code",
   "execution_count": 58,
   "metadata": {},
   "outputs": [
    {
     "data": {
      "text/plain": [
       "PID\n",
       "526301100    141.000000\n",
       "526350040     80.000000\n",
       "526351010     81.000000\n",
       "526353030     93.000000\n",
       "527105010     74.000000\n",
       "                ...    \n",
       "923275080     37.000000\n",
       "923276100     75.144444\n",
       "923400125     62.000000\n",
       "924100070     77.000000\n",
       "924151050     74.000000\n",
       "Name: Lot Frontage, Length: 2925, dtype: float64"
      ]
     },
     "execution_count": 58,
     "metadata": {},
     "output_type": "execute_result"
    }
   ],
   "source": [
    "df.groupby('Neighborhood')['Lot Frontage'].transform(lambda value: value.fillna(value.mean()))"
   ]
  },
  {
   "cell_type": "markdown",
   "metadata": {},
   "source": [
    "În acest moment valorile lipsă au fost înlocuite cu valorile medii pentru fiecare cartier în parte. Ceea ce rezultă este un Series și putem să îl atribuim coloanei 'Lot Frontage' acuma"
   ]
  },
  {
   "cell_type": "code",
   "execution_count": 59,
   "metadata": {},
   "outputs": [],
   "source": [
    "df['Lot Frontage'] = df.groupby('Neighborhood')['Lot Frontage'].transform(lambda value: value.fillna(value.mean()))"
   ]
  },
  {
   "cell_type": "code",
   "execution_count": 65,
   "metadata": {},
   "outputs": [
    {
     "data": {
      "text/plain": [
       "Lot Frontage    3\n",
       "MS SubClass     0\n",
       "Half Bath       0\n",
       "Fireplace Qu    0\n",
       "Fireplaces      0\n",
       "               ..\n",
       "Exter Qual      0\n",
       "Mas Vnr Area    0\n",
       "Mas Vnr Type    0\n",
       "Exterior 2nd    0\n",
       "SalePrice       0\n",
       "Length: 76, dtype: int64"
      ]
     },
     "execution_count": 65,
     "metadata": {},
     "output_type": "execute_result"
    }
   ],
   "source": [
    "df.isnull().sum().sort_values(ascending=False)"
   ]
  },
  {
   "cell_type": "markdown",
   "metadata": {},
   "source": [
    "Se pare totuși că au mai rămas încă trei valori la Lot Fromtage de NaN, acestea le putem înlocui cu valoarea 0"
   ]
  },
  {
   "cell_type": "code",
   "execution_count": 66,
   "metadata": {},
   "outputs": [],
   "source": [
    "df['Lot Frontage'] = df['Lot Frontage'].fillna(0)"
   ]
  },
  {
   "cell_type": "code",
   "execution_count": 67,
   "metadata": {},
   "outputs": [],
   "source": [
    "df.to_csv('../data/DATA/Ames_Housing_Data_finalized_missing_data.csv')"
   ]
  },
  {
   "cell_type": "markdown",
   "metadata": {},
   "source": [
    "Din moment ce ne-am ocupat de toate valorile lipsă din cadrul acestui set de date, acuma putem să salvăm fișierul și să trecem mai departe"
   ]
  },
  {
   "cell_type": "markdown",
   "metadata": {},
   "source": [
    "## Recapitulare"
   ]
  },
  {
   "cell_type": "markdown",
   "metadata": {},
   "source": [
    "În cadrul acestei părți am învățat următoarele lucruri:\n",
    "\n",
    "    1. Este recomandat să facem drop sau fill la procentajele mai mari de 1% din valorile lipsă. Dacă lipsește un procentaj mare de date dintr-un feature (80%-90%) atunci cel mai indicat este să ștergem acel feature\n",
    "\n",
    "    2. Decizia de a șterge sau de a face fill la anumite date depinde de domain knowledge\n",
    "\n",
    "    3. Cum să folosim metoda .transform()\n",
    "\n",
    "        # metoda respectivă funcționează în mare măsură ca și un apply(), diferența crucială este însă faptul că această metodă funcționează pentru elemente de tipul groupby()\n",
    "\n",
    "        df.groupby('Neighborhood')['Lot Frontage'].transform(lambda value: value.fillna(value.mean())"
   ]
  },
  {
   "cell_type": "markdown",
   "metadata": {},
   "source": []
  }
 ],
 "metadata": {
  "kernelspec": {
   "display_name": "Python 3.9.12 ('base')",
   "language": "python",
   "name": "python3"
  },
  "language_info": {
   "codemirror_mode": {
    "name": "ipython",
    "version": 3
   },
   "file_extension": ".py",
   "mimetype": "text/x-python",
   "name": "python",
   "nbconvert_exporter": "python",
   "pygments_lexer": "ipython3",
   "version": "3.9.12"
  },
  "orig_nbformat": 4,
  "vscode": {
   "interpreter": {
    "hash": "40d3a090f54c6569ab1632332b64b2c03c39dcf918b08424e98f38b5ae0af88f"
   }
  }
 },
 "nbformat": 4,
 "nbformat_minor": 2
}
