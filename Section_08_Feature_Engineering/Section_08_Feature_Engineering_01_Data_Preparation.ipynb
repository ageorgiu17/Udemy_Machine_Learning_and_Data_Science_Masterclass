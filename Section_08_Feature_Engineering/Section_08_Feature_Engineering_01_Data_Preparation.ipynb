{
 "cells": [
  {
   "cell_type": "markdown",
   "metadata": {},
   "source": [
    "# Feature Engineering - Data Preparation"
   ]
  },
  {
   "cell_type": "markdown",
   "metadata": {},
   "source": [
    "În lumea reală seturile de date care trebuie date mai departe la un algoritm de machine learning nu sunt pregătite pentru a fi prelucrate de către algoritm, de cele mai multe ori trebuie să ne ocupăm întâi de date, să le curățăm, iar abia după să începem partea prin care se creează și antrenează un model (și se preprocesează datele). În această secțiune o să ne ocupăm de partea de pregătirea datelor, de curățarea lor."
   ]
  },
  {
   "cell_type": "markdown",
   "metadata": {},
   "source": [
    "Ce anume este 'Feature Engineering'?\n",
    "\n",
    "Este procesul prin care utilizând anumite cunoștințe dintr-un anumit domeniu să extragem date (features) din raw data prin tehnici de data mining. La ce ne referim când zicem cunoștințe dintr-un anumit domenniu? De exemplu, în cazul predicțiilor pentru o casă, dacă nu cunoaștem anumite detalii și ce anume face ca o casă să aibă un preț mai mare atunci ar fi indicat să discutăm cu cineva care este un expert în acest domeniu. Prin data mining putem opera trei acțiuni:\n",
    "\n",
    "- Să extragem informații\n",
    "\n",
    "- Să combinăm informații\n",
    "\n",
    "- Să transformăm informații"
   ]
  },
  {
   "cell_type": "markdown",
   "metadata": {},
   "source": [
    "Cea mai comunp dintre cele de mai sus este partea de extragere de informații. Să luăm un exemplu pentru asta. Să zicem că la un anumit set de date avem o coloană de tip timestamp care arată în felul următor:"
   ]
  },
  {
   "cell_type": "markdown",
   "metadata": {},
   "source": [
    "1990-12-01 09:26:03"
   ]
  },
  {
   "cell_type": "markdown",
   "metadata": {},
   "source": [
    "În formatul de mai sus ar fi extrem de oferit acea valoare la un model de Machine Learning. După cum am văzut, un model de Linear Regression (dar nu numai) funcționează în mare parte prin a înmulți un feature cu un anumit coeficient. Nu prea există o formulă matematică prin care să înmulțim acea valoare de timestamp cu un anumit coeficient. Pentru ca un model să funcționeze la parmetrii normali trebuie să îi oferim ca și date valori de tip integer sau float. Prin urmare trebuie să extragem informațiile din acel timestamp. Infomrațiile pot să arate sub forma:\n",
    "\n",
    "Year = 1990\n",
    "\n",
    "Month = 12\n",
    "\n",
    "Weekday or Weekend = 0/1\n",
    "\n",
    "Monday = 1, Tuesday = 2, Wednesday = 3 ... Sunday = 7"
   ]
  },
  {
   "cell_type": "markdown",
   "metadata": {},
   "source": [
    "Partea mai complicată este să extrage anumite informații numerice din date de tip text. Și acest lucru se poate face, prin partea de mapare de date, fie prin anumite clauze specifice pe care putem să le impunem, să vedem de câte ori apare un anumit șir de caractere, să aflăm numărul total de caractere, etc. O altă modalitate de a extrage astfel de date este de a utiliza Natural Language Processing (NLP) peste care o să ne uităm mai târziu în acest curs."
   ]
  },
  {
   "cell_type": "markdown",
   "metadata": {},
   "source": [
    "Să trecem acuma la partea în care combinăm informațiile pe care le avem. Deja am realizat acest procedeu prin intermediul Polynomial Regression unde am combinat rapid informații prin interacțiuniea a două features (TV * radio)"
   ]
  },
  {
   "cell_type": "markdown",
   "metadata": {},
   "source": [
    "Partea de transformare de informații este foarte comună pentru datele de tip string, mai ales pentru datele de tip categorical. Multe algoritme nu acceptă string-uri pentru procesare, deoarece nu poți să înmulțești valoarea 'red' cu un coeficient numeric. Pentru coloanele categorice avem la dospiziție două modalități de transformare a datelor:\n",
    "\n",
    "- Integer Encoding\n",
    "\n",
    "- One-hot Encoding (Dummy variables)"
   ]
  },
  {
   "cell_type": "markdown",
   "metadata": {},
   "source": [
    "Partea de Integer Encoding este cea mai simplă, doar modificăm valoarea unei categorii în integer. Dacă avem un număr de 7 categorii, atunci o să avem un număr de 7 valori de tip integere, un număr reprezentând o categorie. Partea negatică pentru acest tip de encodare este faptul că algoritmul poate să implice anumite relații între aceste valori. Modelul nu are de unde să știe că aceste numere reprezintă doar ceva categorii și consideră că există ceva relație liniară între aceste valori. Un exemplu bun pentru a folosi acest tip de encodare este atunci când aceste categorii chiar au o anumită relație liniară între ele. De exemplu putem să avem o coloană categorică care să conțină valori de tipul gimnaziu, liceu, facultate, master, unde există o anumită relație liniară între ele și ar fi total ok să spunem că gimnaziu are valoarea 1 și se tot incrementează pe parcurs. Relația liniară între aceste valori există"
   ]
  },
  {
   "cell_type": "markdown",
   "metadata": {},
   "source": [
    "Avantajele acestui tip de encodare (Integer Encoding) este faptul că este extrem de simplu de implementat și de înțeles și nu se crește numărul de features cu care se lucrează, doar se modifică o coloană categorică de tip text într-o coloană numerică. Partea negativă însă este că se creează o anumită relație liniară între valorile noi care apar în acea coloană. Pentru a scăpa de această presupunere a modelului cum că ar exista o relație între valorile respective intră în calcul partea de OneHot Encoding"
   ]
  },
  {
   "cell_type": "markdown",
   "metadata": {},
   "source": [
    "Conceptul de OneHot Encoding mai poartă denumirea și de Dummy Variables, iar ca și procedeu de funcționare acesta convertește fiecare categorie în features individuale care au valoarea fie 0, fie 1. Pentru a înțelege mai bine o să ne uităm peste un exemplu"
   ]
  },
  {
   "cell_type": "markdown",
   "metadata": {},
   "source": [
    "| Country |\n",
    "| --- |\n",
    "| USA   |\n",
    "| CANADA   |\n",
    "| MEXICO   |\n",
    "| USA  |\n"
   ]
  },
  {
   "cell_type": "markdown",
   "metadata": {},
   "source": [
    "Din coloana de mai sus, atunci când o să se utilizeze procedeul de OneHot Encoding o să avem următorul rezultat"
   ]
  },
  {
   "cell_type": "markdown",
   "metadata": {},
   "source": [
    "| USA | CANADA | MEXICO |\n",
    "| --- | --- | --- |\n",
    "| 1 | 0 | 0 | \n",
    "| 0 | 1 | 0 |\n",
    "| 0 | 0 | 1 |\n",
    "| 1 | 0 | 0 |"
   ]
  },
  {
   "cell_type": "markdown",
   "metadata": {},
   "source": [
    "După cum se poate observa în cadrul exempluli de mai sus se creează câte un nou feature pentru fiecare categorie din cadrul coloanei respective. Partea pozitivă pentru acest tip de encodare este faptul că nu face o presupunere de relație între valorile din coloanele noi create"
   ]
  },
  {
   "cell_type": "markdown",
   "metadata": {},
   "source": []
  }
 ],
 "metadata": {
  "kernelspec": {
   "display_name": "Python 3.9.12 ('venv': venv)",
   "language": "python",
   "name": "python3"
  },
  "language_info": {
   "name": "python",
   "version": "3.9.12"
  },
  "orig_nbformat": 4,
  "vscode": {
   "interpreter": {
    "hash": "a3a3a6ef3c8b7e46899d4c945da248f12dfe85847045d03c208cca8e54addeb5"
   }
  }
 },
 "nbformat": 4,
 "nbformat_minor": 2
}
