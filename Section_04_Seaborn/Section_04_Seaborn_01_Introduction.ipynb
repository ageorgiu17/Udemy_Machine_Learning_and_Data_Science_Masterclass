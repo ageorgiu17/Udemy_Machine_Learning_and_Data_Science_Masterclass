{
 "cells": [
  {
   "cell_type": "markdown",
   "metadata": {},
   "source": [
    "# Seaborn - Introduction"
   ]
  },
  {
   "cell_type": "markdown",
   "metadata": {},
   "source": [
    "Seaborn este o librărie de creare de ploturi statistice care este creată special pentru a interacționa cu DataFrame-uri din Pandas pentru a crea ploturi statistice pe baza datelor dintr-un DataFrame. Seaborn este creat peste Matplotlib, dar spre deosebire de acesta folosește o sintaxă mult mai simplă (one-line syntax). Prin utilizarea acestei sintaxe mai ușoare se pierde din partea de customatizare a graficelor. Pentru a rezolva problema aceasta se pot apela metode de 'plt' pentru a modifica plotul rezultat din Seeaborn."
   ]
  },
  {
   "cell_type": "markdown",
   "metadata": {},
   "source": [
    "În cadrul acestei librării există mai multe plot-uri pe care le putem utiliza, iar întrebarea cea mai comună este care dintre aceste ploturi ar trebuie să le alegem pentru a reprezenta anumite date? Răspunsul pentru această întrebare depinde de ce anume dorim să aflăm din datele pe care le procesăm. Un google search cu 'Choosing a plot visualization' returnează un număr foarte util de flow-uri de urmat pentru a alege cel mai bun plot pentru a vizualiza anumite date."
   ]
  }
 ],
 "metadata": {
  "kernelspec": {
   "display_name": "Python 3.9.12 ('venv': venv)",
   "language": "python",
   "name": "python3"
  },
  "language_info": {
   "name": "python",
   "version": "3.9.12"
  },
  "orig_nbformat": 4,
  "vscode": {
   "interpreter": {
    "hash": "a3a3a6ef3c8b7e46899d4c945da248f12dfe85847045d03c208cca8e54addeb5"
   }
  }
 },
 "nbformat": 4,
 "nbformat_minor": 2
}
