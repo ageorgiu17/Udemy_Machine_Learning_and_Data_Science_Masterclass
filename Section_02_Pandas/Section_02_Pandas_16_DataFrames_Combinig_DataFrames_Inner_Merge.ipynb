{
 "cells": [
  {
   "cell_type": "markdown",
   "metadata": {},
   "source": [
    "# Pandas DataFrame - Combining DataFrames - Inner Merge"
   ]
  },
  {
   "cell_type": "markdown",
   "metadata": {},
   "source": [
    "În cadrul tutorialului precedent am învățat cum anume să concatenăm anumite date, dar de foarte multe ori aceste date nu sunt în ordinea sau formatul necesar pentru a le putea concatena. Există situații când anumite coloane nu sunt prezenete în ambele seturi de date sau anumite rânduri nu sunt prezente acolo. În aceste situații trebuie să facem merge la aceste tipuri de date. Acest procedeu de merge este asemănător cu join-ul din SQL, fiind incluse și în Pandas conceptele de inner join, outher join, left și right join"
   ]
  },
  {
   "cell_type": "markdown",
   "metadata": {},
   "source": [
    "Metoda pe care o să o utilizăm pentru a facem merge la mai multe seturi de date este '.merge()'. Argumentul cheie pentru metoda aceasta este 'how'. Pentru acest argument putem să specificăm următoarele valori:\n",
    "\n",
    "    1. inner\n",
    "\n",
    "    2. outher\n",
    "\n",
    "    3. left\n",
    "\n",
    "    4. right"
   ]
  },
  {
   "cell_type": "markdown",
   "metadata": {},
   "source": [
    "Aceste valori reprezintă defapt tipurile de join in SQL. Tipul de merge se decide în funcție de cum dorim să arate rezultatul final. De exemplu, dacă avem anumite rânduri în cadrul unui DataFrame care nu sunt prezente în DataFrame-ul cu care dorim să facem merge atunci ce anume dorim să facem cu acele rânduri? Dorim să le păstrăm și să fie trecute cu null în DataFrame-ul care rezultă sau dorim să le ignorăm?"
   ]
  },
  {
   "cell_type": "markdown",
   "metadata": {},
   "source": [
    "În continuare o să lucrăm cu două DataFrame-uri mici pentru a testa procedeul de merge dintre acestea."
   ]
  },
  {
   "cell_type": "code",
   "execution_count": 1,
   "metadata": {},
   "outputs": [],
   "source": [
    "# importing the libraries\n",
    "import numpy as np\n",
    "import pandas as pd"
   ]
  },
  {
   "cell_type": "code",
   "execution_count": 2,
   "metadata": {},
   "outputs": [],
   "source": [
    "# creating the dictionaries that will be read into DataFrames\n",
    "registrations = {'reg_id': [1, 2, 3, 4], 'name': ['Andrew', 'Bob', 'Charlie', 'David']}\n",
    "logins = {'log_od': [1, 2, 3, 4], 'name': ['Xavier', 'Andrew', 'Yolanda', 'Bob']}"
   ]
  },
  {
   "cell_type": "code",
   "execution_count": 8,
   "metadata": {},
   "outputs": [],
   "source": [
    "# creating the DataFrames\n",
    "registrations_df = pd.DataFrame(registrations)\n",
    "logins_df = pd.DataFrame(logins)\n",
    "\n",
    "# The DataFrames can be created in one line\n",
    "# registrations_df = pd.DataFrame({'reg_id': [1, 2, 3, 4], 'name': ['Andrew', 'Bob', 'Charlie', 'David']})\n",
    "# logins_df = pd.DataFrame({'log_od': [1, 2, 3, 4], 'name': ['Xavier', 'Andrew', 'Yolanda', 'Bob']})\n"
   ]
  },
  {
   "cell_type": "code",
   "execution_count": 7,
   "metadata": {},
   "outputs": [
    {
     "data": {
      "text/html": [
       "<div>\n",
       "<style scoped>\n",
       "    .dataframe tbody tr th:only-of-type {\n",
       "        vertical-align: middle;\n",
       "    }\n",
       "\n",
       "    .dataframe tbody tr th {\n",
       "        vertical-align: top;\n",
       "    }\n",
       "\n",
       "    .dataframe thead th {\n",
       "        text-align: right;\n",
       "    }\n",
       "</style>\n",
       "<table border=\"1\" class=\"dataframe\">\n",
       "  <thead>\n",
       "    <tr style=\"text-align: right;\">\n",
       "      <th></th>\n",
       "      <th>reg_id</th>\n",
       "      <th>name</th>\n",
       "    </tr>\n",
       "  </thead>\n",
       "  <tbody>\n",
       "    <tr>\n",
       "      <th>0</th>\n",
       "      <td>1</td>\n",
       "      <td>Andrew</td>\n",
       "    </tr>\n",
       "    <tr>\n",
       "      <th>1</th>\n",
       "      <td>2</td>\n",
       "      <td>Bob</td>\n",
       "    </tr>\n",
       "    <tr>\n",
       "      <th>2</th>\n",
       "      <td>3</td>\n",
       "      <td>Charlie</td>\n",
       "    </tr>\n",
       "    <tr>\n",
       "      <th>3</th>\n",
       "      <td>4</td>\n",
       "      <td>David</td>\n",
       "    </tr>\n",
       "  </tbody>\n",
       "</table>\n",
       "</div>"
      ],
      "text/plain": [
       "   reg_id     name\n",
       "0       1   Andrew\n",
       "1       2      Bob\n",
       "2       3  Charlie\n",
       "3       4    David"
      ]
     },
     "execution_count": 7,
     "metadata": {},
     "output_type": "execute_result"
    }
   ],
   "source": [
    "registrations_df"
   ]
  },
  {
   "cell_type": "code",
   "execution_count": 9,
   "metadata": {},
   "outputs": [
    {
     "data": {
      "text/html": [
       "<div>\n",
       "<style scoped>\n",
       "    .dataframe tbody tr th:only-of-type {\n",
       "        vertical-align: middle;\n",
       "    }\n",
       "\n",
       "    .dataframe tbody tr th {\n",
       "        vertical-align: top;\n",
       "    }\n",
       "\n",
       "    .dataframe thead th {\n",
       "        text-align: right;\n",
       "    }\n",
       "</style>\n",
       "<table border=\"1\" class=\"dataframe\">\n",
       "  <thead>\n",
       "    <tr style=\"text-align: right;\">\n",
       "      <th></th>\n",
       "      <th>log_od</th>\n",
       "      <th>name</th>\n",
       "    </tr>\n",
       "  </thead>\n",
       "  <tbody>\n",
       "    <tr>\n",
       "      <th>0</th>\n",
       "      <td>1</td>\n",
       "      <td>Xavier</td>\n",
       "    </tr>\n",
       "    <tr>\n",
       "      <th>1</th>\n",
       "      <td>2</td>\n",
       "      <td>Andrew</td>\n",
       "    </tr>\n",
       "    <tr>\n",
       "      <th>2</th>\n",
       "      <td>3</td>\n",
       "      <td>Yolanda</td>\n",
       "    </tr>\n",
       "    <tr>\n",
       "      <th>3</th>\n",
       "      <td>4</td>\n",
       "      <td>Bob</td>\n",
       "    </tr>\n",
       "  </tbody>\n",
       "</table>\n",
       "</div>"
      ],
      "text/plain": [
       "   log_od     name\n",
       "0       1   Xavier\n",
       "1       2   Andrew\n",
       "2       3  Yolanda\n",
       "3       4      Bob"
      ]
     },
     "execution_count": 9,
     "metadata": {},
     "output_type": "execute_result"
    }
   ],
   "source": [
    "logins_df"
   ]
  },
  {
   "cell_type": "markdown",
   "metadata": {},
   "source": [
    "Pentru a face join la două DataFrame-uri trebuie să găsim date din aceste DataFrame-uri care sunt prezente în ambele. Pentru exemplele de mai sus, coloana în care avem date comune este coloana 'name' din ambele DataFrame-uri (index-ul nu se poate lua în calcul în acest caz deoarece este un range, nu este un index de tipul labeled index). Valorile din cadrul acestori coloane pe baza cărora se face merge trebuie să fie unicate. Cum funcționează un inner merge, ia doar datele din ambele DataFrame-uri unde găsește aceleași date pentru coloana după care se face merge (pentru coloana 'name' în cazul de față)"
   ]
  },
  {
   "cell_type": "markdown",
   "metadata": {},
   "source": [
    "Acest merge între două DataFrame-uri se face utilizând metoda 'pd.merge()'. Metodei respective trebuie să îi oferim ca și prime argumente numele DataFrame-urilor pe care dorim să le combină. Următorul argument este cel de how prin care se specifică ce tip de merge dorim să facem (inner, outer, left, right). După cum s-a precizat, aceast merge trebuie să se facă pe baza anumitor coloane din DataFrame care au valori unicate și comune, iar numele coloanei se specificăm cu ajutorul argumentului 'on' la care îi atribuim ca și valoare numele coloanei pe baza căruia se va face merge."
   ]
  },
  {
   "cell_type": "code",
   "execution_count": 10,
   "metadata": {},
   "outputs": [
    {
     "data": {
      "text/html": [
       "<div>\n",
       "<style scoped>\n",
       "    .dataframe tbody tr th:only-of-type {\n",
       "        vertical-align: middle;\n",
       "    }\n",
       "\n",
       "    .dataframe tbody tr th {\n",
       "        vertical-align: top;\n",
       "    }\n",
       "\n",
       "    .dataframe thead th {\n",
       "        text-align: right;\n",
       "    }\n",
       "</style>\n",
       "<table border=\"1\" class=\"dataframe\">\n",
       "  <thead>\n",
       "    <tr style=\"text-align: right;\">\n",
       "      <th></th>\n",
       "      <th>reg_id</th>\n",
       "      <th>name</th>\n",
       "      <th>log_od</th>\n",
       "    </tr>\n",
       "  </thead>\n",
       "  <tbody>\n",
       "    <tr>\n",
       "      <th>0</th>\n",
       "      <td>1</td>\n",
       "      <td>Andrew</td>\n",
       "      <td>2</td>\n",
       "    </tr>\n",
       "    <tr>\n",
       "      <th>1</th>\n",
       "      <td>2</td>\n",
       "      <td>Bob</td>\n",
       "      <td>4</td>\n",
       "    </tr>\n",
       "  </tbody>\n",
       "</table>\n",
       "</div>"
      ],
      "text/plain": [
       "   reg_id    name  log_od\n",
       "0       1  Andrew       2\n",
       "1       2     Bob       4"
      ]
     },
     "execution_count": 10,
     "metadata": {},
     "output_type": "execute_result"
    }
   ],
   "source": [
    "pd.merge(registrations_df, logins_df, how='inner', on='name')"
   ]
  },
  {
   "cell_type": "markdown",
   "metadata": {},
   "source": [
    "## Recapitulare"
   ]
  },
  {
   "cell_type": "markdown",
   "metadata": {},
   "source": [
    "În cadrul acestui tutorial am învățat următoarele lucruri:\n",
    "\n",
    "    1. Care sunt modalitățile prin care putem face merge la două DataFrame-uri\n",
    "\n",
    "        inner\n",
    "\n",
    "        outher\n",
    "\n",
    "        left\n",
    "\n",
    "        right\n",
    "\n",
    "    2.Cum se realizează un inner merge între două DataFrame-uri\n",
    "\n",
    "        pd.merge(registrations_df, logins_df, how='inner', on='name')"
   ]
  },
  {
   "cell_type": "markdown",
   "metadata": {},
   "source": []
  }
 ],
 "metadata": {
  "kernelspec": {
   "display_name": "Python 3.9.12 ('base')",
   "language": "python",
   "name": "python3"
  },
  "language_info": {
   "codemirror_mode": {
    "name": "ipython",
    "version": 3
   },
   "file_extension": ".py",
   "mimetype": "text/x-python",
   "name": "python",
   "nbconvert_exporter": "python",
   "pygments_lexer": "ipython3",
   "version": "3.9.12"
  },
  "orig_nbformat": 4,
  "vscode": {
   "interpreter": {
    "hash": "40d3a090f54c6569ab1632332b64b2c03c39dcf918b08424e98f38b5ae0af88f"
   }
  }
 },
 "nbformat": 4,
 "nbformat_minor": 2
}
