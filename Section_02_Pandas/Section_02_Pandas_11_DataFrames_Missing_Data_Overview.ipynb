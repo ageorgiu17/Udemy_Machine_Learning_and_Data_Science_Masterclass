{
 "cells": [
  {
   "cell_type": "markdown",
   "metadata": {},
   "source": [
    "# Pandas DataFrame - Missing Data Overview"
   ]
  },
  {
   "cell_type": "markdown",
   "metadata": {},
   "source": [
    "În această primă parte din seria de Missing Data o să aruncăm o privire peste opțiunile pe care le avem la dispoziție atunci când avem de-a face cu valori lipsă din cadrul unui DataFrame. În a doua parte o să vedem cum anume putem să implementăm aceste idei în Pandas."
   ]
  },
  {
   "cell_type": "markdown",
   "metadata": {},
   "source": [
    "Datele preluate din lumea reală aproape tot timpul o să aibă aumite date lipsă din motive variate. Din nefericire modelele statistice și de machine learning nu pot lucra cu aceste date lipsă, iar din acest motiv trebuie să decidem ce anume să facem cu datele lipsă din cadrul unui DataFrame. Atunci când citim date într-un DataFrame și sunt prezente și anumite date lipsă, în cazul acesta o să apară cu denumirea de 'NaN' care provine de la Not a Number value. Versiunile noi de Pandas afișează uneori și ce tip de date ar trebui să fie prezente în cadrul unui DataFrame. De exemplu, dacă lipsesc date dintr-o coloană ce țin date de tip Timestamp, atunci valoare care lipsește o să fie de tipul pd.NaT (Not a Timestamp)"
   ]
  },
  {
   "cell_type": "markdown",
   "metadata": {},
   "source": [
    "Opțiunile prin care putem să ne ocupăm de aceste valori lipsă dintr-un DataFrame sunt următoarele:\n",
    "\n",
    "    Să le păstrăm\n",
    "\n",
    "    Să le ștergem\n",
    "\n",
    "    Să le înlocuim"
   ]
  },
  {
   "cell_type": "markdown",
   "metadata": {},
   "source": [
    "Fiecare dintre aceste opțiuni are anumite avantaje și dezavantaje, din acestă cauză nu este ceva sigur atunci când lucrăm cu date lipsă, modul în care abordăm aceste date depinde de tipul de date cu care lucrăm și de situație. Să luăm fiecare opțiune în parte și să aruncăm o privire peste avantaje și dezavantaje"
   ]
  },
  {
   "cell_type": "markdown",
   "metadata": {},
   "source": [
    "Opțiunea de a păstra datele"
   ]
  },
  {
   "cell_type": "markdown",
   "metadata": {},
   "source": [
    "Aceasta este cea mai ușoară opțiune deoarece nu avem de modificat nimic, doar citim datele așa cum sunt (cu valori lipsă). Un alt avantaj este acela că nu se modifică deloc datele cu care lucrăm, nici numărul acestora nici valorile, datele reprezintă în totalitate realitatea. Ca și dezavantaje, majoritatea metodelor nu acceptă acest tip de date 'NaN', acestea necesită să fie un anumit număr acolo, sau o anumită valoare."
   ]
  },
  {
   "cell_type": "markdown",
   "metadata": {},
   "source": [
    "Opțiunea de a șterge datele lipsă"
   ]
  },
  {
   "cell_type": "markdown",
   "metadata": {},
   "source": [
    "Și această metodă este relati ușor de realizat. Pandas ne pune la dispoziție metode ușoare prin care putem să ștergem un rând sau o coloană dacă aceasta are valori nule. De asemenea în Pandas putem să facem acest procedeu pe bază de reguli, adică putem să îi spunem să șteargă acest rând dacă lipsesc un număr de valori, dacă lipsesc două, trei, n valori din coloanele respective. Din moment ce ștergem aceste rânduri e posibil să ștergem și anumite date de care poate avem nevoie, sau anumite informații care ne-ar ajuta, asta din moment ce se șterge un rând pentru că are două coloane unde lipsesc date, poate ne-ar ajuta datele din coloanele unde nu lipsesc valori. Acest procedeu de asemenea limitează antrenarea unui model pentru viitoarele date ce o să fie procesate. De exemplu, dacă avem extrem de multe date care lipsesc dintr-o anumită coloană, atunci când se antrenează un anumit model de machine learning, atunci acest model nu o să fie extrem de util pentru noi seturi de date unde în acea colonă sunt mai multe date deoarece acest model este antrenat pe un număr mic de date"
   ]
  },
  {
   "cell_type": "markdown",
   "metadata": {},
   "source": [
    "Opțiunea de a înlocui datele lipsă"
   ]
  },
  {
   "cell_type": "markdown",
   "metadata": {},
   "source": [
    "Acest procedeu este cel mai complex dintre toate, iar ca avantaj pentru această complexitate este faptul că putem să salvăm o mulțime de date ce pot fi folosite pentru a antrena un anumit model. Din moment însă ce înlocuim aceste date lispă, înlocuirea lor se va face pe baza anumitor statistici, iar în funcție de acete statistici ecistă posibilitatea ca rezultatele să fie necocludente din cauza faptului că acea valore pe care o introducem în locul datelor lipsă este doar un număr 'inventat' ,nu avem nimic care să ne susțină faptul că acel număr este cât mai aproape de adevăr "
   ]
  }
 ],
 "metadata": {
  "kernelspec": {
   "display_name": "Python 3.9.12 ('venv': venv)",
   "language": "python",
   "name": "python3"
  },
  "language_info": {
   "name": "python",
   "version": "3.9.12"
  },
  "orig_nbformat": 4,
  "vscode": {
   "interpreter": {
    "hash": "a3a3a6ef3c8b7e46899d4c945da248f12dfe85847045d03c208cca8e54addeb5"
   }
  }
 },
 "nbformat": 4,
 "nbformat_minor": 2
}
