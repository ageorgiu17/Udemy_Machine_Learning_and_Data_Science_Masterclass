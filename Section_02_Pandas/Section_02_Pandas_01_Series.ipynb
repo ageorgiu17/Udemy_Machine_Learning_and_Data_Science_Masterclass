{
 "cells": [
  {
   "cell_type": "markdown",
   "metadata": {},
   "source": [
    "# Pandas Series"
   ]
  },
  {
   "cell_type": "markdown",
   "metadata": {},
   "source": [
    "Un obiect de tip 'Series' este o structură de date în Pandas care memorează un array de informații împreună cu un index. Acest index face diferența dintre un array din NumPy și un Series din Pandas. Știm deja că un array de NumPy are un index numeric. De exemplu, dacă avem un array care conține anumite valori (anumiți ani), atunci avem un index numeri care este asociat cu anumte valori din acel array"
   ]
  },
  {
   "cell_type": "markdown",
   "metadata": {},
   "source": [
    "| Index | Data |\n",
    "| --- | --- |\n",
    "| 0   | 1776 |\n",
    "| 1   | 1876 |\n",
    "| 2   | 1821 |\n"
   ]
  },
  {
   "cell_type": "markdown",
   "metadata": {},
   "source": [
    "Din tabelul de mai sus, pentru valoarea '1776' corespunde index-ul 0 și tot așa. Acest mod de indexare nu este unul rău, dar ar fi mult mai util să avem acea valoare asociată cu un string (label). Un Series din Pandas ne permite să înlocuil acel index valori cu un index pe bază de string label. Astfel, tabelul nostru va arăta așa:"
   ]
  },
  {
   "cell_type": "markdown",
   "metadata": {},
   "source": [
    "| Index | Data |\n",
    "| --- | --- |\n",
    "| USA   | 1776 |\n",
    "| CANADA   | 1876 |\n",
    "| MEXICO   | 1821 |\n"
   ]
  },
  {
   "cell_type": "markdown",
   "metadata": {},
   "source": [
    "În acest fel putem să preluăm date din acest Series utilizând acel index care reprezintă anumite nume de țări. Este mult mai simplu să spunem că dorim să preluăm informația despre țara 'USA' decât să memorăm că țara respectivă se găsește pe index-ul 0. Ce anume trebuie clarificat totuși, este faptul că aceste date sunt organizate și numeric. Putem să ne imaginăm că un Series din Pandas reține un array de Numpy (cu tot cu indexarea numerică), iar pe lână aceasta mai adaugă un alt index."
   ]
  },
  {
   "cell_type": "markdown",
   "metadata": {},
   "source": [
    "| Index Numeric| Index Labeled | Data |\n",
    "| --- | --- | --- |\n",
    "| 0   | USA | 1776 |\n",
    "| 1   | CANADA | 1876 |\n",
    "| 2   | MEXIC| 1821 |\n"
   ]
  },
  {
   "cell_type": "markdown",
   "metadata": {},
   "source": [
    "Prin urmare, în cadrul unui Series putem să extragem informații fie utilizând index-ul numeric, fie utilizând index-ul de string"
   ]
  },
  {
   "cell_type": "markdown",
   "metadata": {},
   "source": [
    "O să învățăm numeroase modalități prin care putem crea un Series, o să învățăm despre anumite proprietăți și operații fundamentale și la final o să învățăm cum anume putem combina un Series cu un anumit Index pentru a crea un obiect denumit DataFrame. Pentru a trece prin ceva exemple o să importăm atât NumPy cât și Pandas. Convenția la NumPy este să se importe precum 'np', iar la Pandas, 'pd'"
   ]
  },
  {
   "cell_type": "code",
   "execution_count": 1,
   "metadata": {},
   "outputs": [],
   "source": [
    "import numpy as np\n",
    "import pandas as pd"
   ]
  },
  {
   "cell_type": "markdown",
   "metadata": {},
   "source": [
    "După cum specificam, o să lucrăm cu Series în această parte din tutorial. Pentru mai multe informații despre acest tip de date (pe lângă cele care o să fie specificate în acest curs) putem să navigăm în browser la documentația oficială de la Pandas despre acest tip de obiect (https://pandas.pydata.org/docs/reference/api/pandas.Series.html)"
   ]
  },
  {
   "cell_type": "markdown",
   "metadata": {},
   "source": [
    "### pandas.Series\n",
    "\n",
    "\n",
    "#### class pandas.Series(data=None, index=None, dtype=None, name=None, copy=False, fastpath=False)\n",
    "\n",
    "Documentația de la Pandas ne spune următoarele lucruri despre un obiect de tip Series. Acesta are mai mulți parametrii, dar cei la care trebuie să ne uităm sunt următorii: data=None și index=None. Acel parametru de index o să adauge acel supliment pentru un array de tip NumPy"
   ]
  },
  {
   "cell_type": "markdown",
   "metadata": {},
   "source": [
    "Pentru început o să ne creem 2 variaile, și anume una care o să ne înlocuiască partea de index, iar alta care o să ne înlocuiască partea de date din cadrul tabelului de mai sus"
   ]
  },
  {
   "cell_type": "code",
   "execution_count": 4,
   "metadata": {},
   "outputs": [],
   "source": [
    "myindex = ['USA', 'Canada', 'Mexic']"
   ]
  },
  {
   "cell_type": "code",
   "execution_count": 5,
   "metadata": {},
   "outputs": [],
   "source": [
    "mydata = [1776, 1876, 1821]"
   ]
  },
  {
   "cell_type": "markdown",
   "metadata": {},
   "source": [
    "În contuinuare o să creem un obiect Series cu aceste date. Pentru început o să îi atribuim doar valori pentru argumentul 'data'"
   ]
  },
  {
   "cell_type": "code",
   "execution_count": 7,
   "metadata": {},
   "outputs": [],
   "source": [
    "my_series = pd.Series(data=mydata)"
   ]
  },
  {
   "cell_type": "code",
   "execution_count": 8,
   "metadata": {},
   "outputs": [
    {
     "data": {
      "text/plain": [
       "0    1776\n",
       "1    1876\n",
       "2    1821\n",
       "dtype: int64"
      ]
     },
     "execution_count": 8,
     "metadata": {},
     "output_type": "execute_result"
    }
   ],
   "source": [
    "my_series"
   ]
  },
  {
   "cell_type": "markdown",
   "metadata": {},
   "source": [
    "Ce anune face Pandas, transformă acea listă din Python într-un array de NumPy pe care o afișează sub forma unui Series. În mod automat ne afișează și acel index numeric care se trece automat într-un Series. În continuare o să trecem date și pentru argumentul de index"
   ]
  },
  {
   "cell_type": "code",
   "execution_count": 9,
   "metadata": {},
   "outputs": [],
   "source": [
    "my_series = pd.Series(data=mydata, index=myindex)"
   ]
  },
  {
   "cell_type": "code",
   "execution_count": 10,
   "metadata": {},
   "outputs": [
    {
     "data": {
      "text/plain": [
       "USA       1776\n",
       "Canada    1876\n",
       "Mexic     1821\n",
       "dtype: int64"
      ]
     },
     "execution_count": 10,
     "metadata": {},
     "output_type": "execute_result"
    }
   ],
   "source": [
    "my_series"
   ]
  },
  {
   "cell_type": "markdown",
   "metadata": {},
   "source": [
    "Dacă am făcut acest lucru, acuma putem observa că index-ul reprezintă acel string label ce era trecut în lista 'myindx', iar asta înseamnă că putem să preluăm informații din acel Serie pe baza string-ului ce este folosit ca și un index"
   ]
  },
  {
   "cell_type": "code",
   "execution_count": 11,
   "metadata": {},
   "outputs": [
    {
     "data": {
      "text/plain": [
       "1876"
      ]
     },
     "execution_count": 11,
     "metadata": {},
     "output_type": "execute_result"
    }
   ],
   "source": [
    "my_series['Canada']"
   ]
  },
  {
   "cell_type": "markdown",
   "metadata": {},
   "source": [
    "După cum se observă, se retunrează valoarea care este în dreptul acelui string label ce este utilizat ca și index. După cum se specifica la început, în acest obiect Series se păstrează și index-ul numeric ce era afișat inițial, prin urmare putem să extrage date utilizând și acel index"
   ]
  },
  {
   "cell_type": "code",
   "execution_count": 12,
   "metadata": {},
   "outputs": [
    {
     "data": {
      "text/plain": [
       "1876"
      ]
     },
     "execution_count": 12,
     "metadata": {},
     "output_type": "execute_result"
    }
   ],
   "source": [
    "my_series[1]"
   ]
  },
  {
   "cell_type": "markdown",
   "metadata": {},
   "source": [
    "Acesta reprezintă un mod de a crea un Series în Pandas, putem să îi oferim fie numai ceea ce reprezintă data din acel Series (iar atunci Pandas o să creze automat un index numeric și o să îl afișeze) sau putem să oferim atât datele cât și un index. Putem să creem un asfelt de obiect și din dicționarii. Pentru început să creem un dicționar"
   ]
  },
  {
   "cell_type": "code",
   "execution_count": 13,
   "metadata": {},
   "outputs": [],
   "source": [
    "ages = {\n",
    "    'Sam' : 5, \n",
    "    'Frank': 10,\n",
    "    'Spike': 7\n",
    "}"
   ]
  },
  {
   "cell_type": "markdown",
   "metadata": {},
   "source": [
    "Dacă utilizăm un dicționar pentru a crea un Series în Pandas, putem să îi oferim ca și argument acest dicționar, iar Pandas este destul de intligent încât să transforme key-urile din dicționar în index, iar ceea ce este la values știe să pună ca și cum ar fi datele ce trebuie stocate în acest Series"
   ]
  },
  {
   "cell_type": "code",
   "execution_count": 14,
   "metadata": {},
   "outputs": [
    {
     "data": {
      "text/plain": [
       "Sam       5\n",
       "Frank    10\n",
       "Spike     7\n",
       "dtype: int64"
      ]
     },
     "execution_count": 14,
     "metadata": {},
     "output_type": "execute_result"
    }
   ],
   "source": [
    "pd.Series(ages)"
   ]
  },
  {
   "cell_type": "markdown",
   "metadata": {},
   "source": [
    "Această informație este utilă deoarece foarte multe librării returnează informația sub formă de dicționarii, iar prin acest procedeu este extrem de ușor să transformăm acele date într-un Series sau într-un obiect DataFrame"
   ]
  },
  {
   "cell_type": "markdown",
   "metadata": {},
   "source": [
    "## Recapitulare"
   ]
  },
  {
   "cell_type": "markdown",
   "metadata": {},
   "source": [
    "În cadrul acestui tutorial am învățat următoarele lucruri:\n",
    "\n",
    "    1. Ce anume este un Series\n",
    "\n",
    "        Un array uni-dimensional ce are în componenta lui un index (poate fi numeric sau de tipul string label)\n",
    "\n",
    "    2. Cum creem un Series dintr-o listă de date\n",
    "\n",
    "        my_data = [1776, 1876, 1821]\n",
    "\n",
    "        pd.Series(data=my_data)\n",
    "\n",
    "    3. Cum creem un Series dintr-o listă de date împreună cu o listă de index\n",
    "\n",
    "        my_data = [1776, 1876, 1821]\n",
    "\n",
    "        my_index = ['USA', 'Canada', 'Mexic']\n",
    "\n",
    "        pd.Series(data=my_data, index=my_index)\n",
    "\n",
    "    4. Cum putem creea un Series dintr-un dicționar\n",
    "\n",
    "        pd.Series(ages)\n",
    "\n",
    "            # transformă automat key-urile din dicționar în index și trece values ca și date în cadrul acelui Series"
   ]
  },
  {
   "cell_type": "markdown",
   "metadata": {},
   "source": []
  }
 ],
 "metadata": {
  "kernelspec": {
   "display_name": "Python 3.9.12 ('base')",
   "language": "python",
   "name": "python3"
  },
  "language_info": {
   "codemirror_mode": {
    "name": "ipython",
    "version": 3
   },
   "file_extension": ".py",
   "mimetype": "text/x-python",
   "name": "python",
   "nbconvert_exporter": "python",
   "pygments_lexer": "ipython3",
   "version": "3.9.12"
  },
  "orig_nbformat": 4,
  "vscode": {
   "interpreter": {
    "hash": "40d3a090f54c6569ab1632332b64b2c03c39dcf918b08424e98f38b5ae0af88f"
   }
  }
 },
 "nbformat": 4,
 "nbformat_minor": 2
}
