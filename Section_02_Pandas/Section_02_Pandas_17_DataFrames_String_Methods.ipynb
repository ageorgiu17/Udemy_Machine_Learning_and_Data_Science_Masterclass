{
 "cells": [
  {
   "cell_type": "markdown",
   "metadata": {},
   "source": [
    "# Pandas DataFrame - Text Methods for String Data"
   ]
  },
  {
   "cell_type": "markdown",
   "metadata": {},
   "source": [
    "În cadrul acestui tutorial o să aruncăm o privire peste partea de metode specifice pentru text din Pandas. De foarte multe ori datele cu care trebuie să lucrăm trebuie să fie curățate pentru a putea fi procesate mai departe. De exemplu, pentru datele referitoare la email-ul unor persoane poate dorim să extragem domeeniul (@something) pentru fiecare email. Deși am putea să utilizăm metoda apply() prin care să creem o funcție care face asta, Pandas ne pune la dispoziție o mulțime de metode specifice pentru String-uri"
   ]
  },
  {
   "cell_type": "markdown",
   "metadata": {},
   "source": [
    "După cum știm, un string are anumite metode specifice (upper(), lower(), strip(), etc). Din fericire, aceste metode sunt disponibile și în Pandas. Pentru a le putea utiliza trebuie întâi să apelăm metoda 'str' care transformă un obiect de tipul 'object' din Pandas într-un string, iar pentru acest string putem să apelăm metodele respective."
   ]
  },
  {
   "cell_type": "code",
   "execution_count": 1,
   "metadata": {},
   "outputs": [],
   "source": [
    "email = 'andrei@mail.com'"
   ]
  },
  {
   "cell_type": "code",
   "execution_count": 2,
   "metadata": {},
   "outputs": [
    {
     "data": {
      "text/plain": [
       "['andrei', 'mail.com']"
      ]
     },
     "execution_count": 2,
     "metadata": {},
     "output_type": "execute_result"
    }
   ],
   "source": [
    "email.split('@')"
   ]
  },
  {
   "cell_type": "markdown",
   "metadata": {},
   "source": [
    "Un exemplu de metodă specifică pentru string-uri în Pandas este cea de sus. Putem să utilizăm metoda 'split' care o să ne împartă un string în mai multe bucăți în funcție de un caracter pe care îl oferim ca și input. Acest tip de comportament este prezent și în Pandas prin utilizarea librăriel 'str'"
   ]
  },
  {
   "cell_type": "markdown",
   "metadata": {},
   "source": [
    "În continuare o să creem un Series prin care o să punem în practică aceste concepte."
   ]
  },
  {
   "cell_type": "code",
   "execution_count": 3,
   "metadata": {},
   "outputs": [],
   "source": [
    "# importing the libraries\n",
    "import numpy as np\n",
    "import pandas as pd"
   ]
  },
  {
   "cell_type": "code",
   "execution_count": 4,
   "metadata": {},
   "outputs": [],
   "source": [
    "# creating a Series\n",
    "names = pd.Series(['Andrei', 'Bob', 'Cristian', 'Dana', '5'])"
   ]
  },
  {
   "cell_type": "code",
   "execution_count": 5,
   "metadata": {},
   "outputs": [
    {
     "data": {
      "text/plain": [
       "0      Andrei\n",
       "1         Bob\n",
       "2    Cristian\n",
       "3        Dana\n",
       "4           5\n",
       "dtype: object"
      ]
     },
     "execution_count": 5,
     "metadata": {},
     "output_type": "execute_result"
    }
   ],
   "source": [
    "names"
   ]
  },
  {
   "cell_type": "markdown",
   "metadata": {},
   "source": [
    "Având acest Series, putem să utilizăm librăria 'str' pentru a utiliza metodele specifice string-urilor în Pandas. Să utilizăm metoda 'upper()' pentru acest Series"
   ]
  },
  {
   "cell_type": "code",
   "execution_count": 6,
   "metadata": {},
   "outputs": [
    {
     "data": {
      "text/plain": [
       "0      ANDREI\n",
       "1         BOB\n",
       "2    CRISTIAN\n",
       "3        DANA\n",
       "4           5\n",
       "dtype: object"
      ]
     },
     "execution_count": 6,
     "metadata": {},
     "output_type": "execute_result"
    }
   ],
   "source": [
    "names.str.upper()"
   ]
  },
  {
   "cell_type": "markdown",
   "metadata": {},
   "source": [
    "Aceste modificări nu sunt permanente, pentru a leface permanenete trebuie să reasignăm rezultatul unui Series."
   ]
  },
  {
   "cell_type": "markdown",
   "metadata": {},
   "source": [
    "Un set de metode utilie din această librărie în Pandas sunt metodele de verificare (cele cu is, isdigit(), isalpha(), etc). Aceste metode iau fiecare element din cadrul unui Series și verifică dacă acel element este de un anumit tip. În acest Series de mai sus avem prezent valoarea '5', valoare care deși apare ca și un integer, aceasta este un string. Cu ajutorul acestei metode se poate face această verificare."
   ]
  },
  {
   "cell_type": "code",
   "execution_count": 7,
   "metadata": {},
   "outputs": [
    {
     "data": {
      "text/plain": [
       "0    False\n",
       "1    False\n",
       "2    False\n",
       "3    False\n",
       "4     True\n",
       "dtype: bool"
      ]
     },
     "execution_count": 7,
     "metadata": {},
     "output_type": "execute_result"
    }
   ],
   "source": [
    "names.str.isdigit()"
   ]
  },
  {
   "cell_type": "markdown",
   "metadata": {},
   "source": [
    "Utilizând metoda de mai sus putem să obersvăm că ultimul element din cadrul acelui Series este de tip digit (deși este trecut ca și string). Cu ajutorul acestor metode putem verifica ce tipuri de date sunt prezente într-un anumit set de date"
   ]
  },
  {
   "cell_type": "code",
   "execution_count": 9,
   "metadata": {},
   "outputs": [],
   "source": [
    "messy_names = pd.Series(['andrei    ', 'bo;bo', '   cristina    '])"
   ]
  },
  {
   "cell_type": "code",
   "execution_count": 10,
   "metadata": {},
   "outputs": [
    {
     "data": {
      "text/plain": [
       "0         andrei    \n",
       "1              bo;bo\n",
       "2       cristina    \n",
       "dtype: object"
      ]
     },
     "execution_count": 10,
     "metadata": {},
     "output_type": "execute_result"
    }
   ],
   "source": [
    "messy_names"
   ]
  },
  {
   "cell_type": "markdown",
   "metadata": {},
   "source": [
    "După cum putem să obersvăm, în cadrul Series-ului de mai sus avem anumite date care nu sunt extrem de curate (există un semn de ';' în cadrul unui nume, iar altele au anumite spații (spaces) fie la început, fie la final). Cu ajutorul acestor metode pentru string-uri putem să curățăm aceste date. Pentru început o să înlocuim acel semn de ;"
   ]
  },
  {
   "cell_type": "code",
   "execution_count": 11,
   "metadata": {},
   "outputs": [
    {
     "data": {
      "text/plain": [
       "0         andrei    \n",
       "1               bobo\n",
       "2       cristina    \n",
       "dtype: object"
      ]
     },
     "execution_count": 11,
     "metadata": {},
     "output_type": "execute_result"
    }
   ],
   "source": [
    "messy_names.str.replace(';', '')"
   ]
  },
  {
   "cell_type": "markdown",
   "metadata": {},
   "source": [
    "În acest moment am reușit să eliminăm acel caracter, mai rămâne doar să eliminăm spațiile care sunt în plus. Pentru codul de mai sus putem să înșiruim mai multe metode (aceste metode trebuie însă înșiruite împreună cu librăbia str)"
   ]
  },
  {
   "cell_type": "code",
   "execution_count": 12,
   "metadata": {},
   "outputs": [
    {
     "data": {
      "text/plain": [
       "0      andrei\n",
       "1        bobo\n",
       "2    cristina\n",
       "dtype: object"
      ]
     },
     "execution_count": 12,
     "metadata": {},
     "output_type": "execute_result"
    }
   ],
   "source": [
    "messy_names.str.replace(';', '').str.strip()"
   ]
  },
  {
   "cell_type": "markdown",
   "metadata": {},
   "source": [
    "Datele din acest Series fiind anumite nume, mai putem să le și capitalizăm (să trecem prima literă cu majusculă)"
   ]
  },
  {
   "cell_type": "code",
   "execution_count": 13,
   "metadata": {},
   "outputs": [
    {
     "data": {
      "text/plain": [
       "0      Andrei\n",
       "1        Bobo\n",
       "2    Cristina\n",
       "dtype: object"
      ]
     },
     "execution_count": 13,
     "metadata": {},
     "output_type": "execute_result"
    }
   ],
   "source": [
    "messy_names.str.replace(';', '').str.strip().str.capitalize()"
   ]
  },
  {
   "cell_type": "markdown",
   "metadata": {},
   "source": [
    "Dacă aceste înșiruiri de metode sunt prea multe și prea complicate, acestea se pot pune toate într-o anumită metodă, iar metoda aceasta să se apeleze utilizând metoda apply() din Pandas"
   ]
  },
  {
   "cell_type": "code",
   "execution_count": 22,
   "metadata": {},
   "outputs": [],
   "source": [
    "def cleanup_name(name):\n",
    "    name = name.replace(';', '')\n",
    "    name = name.strip()\n",
    "    name = name.capitalize()\n",
    "    return name"
   ]
  },
  {
   "cell_type": "code",
   "execution_count": 23,
   "metadata": {},
   "outputs": [
    {
     "data": {
      "text/plain": [
       "0      Andrei\n",
       "1        Bobo\n",
       "2    Cristina\n",
       "dtype: object"
      ]
     },
     "execution_count": 23,
     "metadata": {},
     "output_type": "execute_result"
    }
   ],
   "source": [
    "messy_names.apply(cleanup_name)"
   ]
  },
  {
   "cell_type": "markdown",
   "metadata": {},
   "source": [
    "## Recapitulare"
   ]
  },
  {
   "cell_type": "markdown",
   "metadata": {},
   "source": [
    "În cadrul acestui tutorial am învățat următoarele lucruri:\n",
    "\n",
    "    1. Cum putem utiliza librăria str pentru a folosi metode specifice string-urilor în Pandas\n",
    "\n",
    "        df.str.strip()\n",
    "\n",
    "    2. Cum putem înșirui mai multe metode \n",
    "\n",
    "        df.str.replace(';', '').str.strip().str.capitalize()"
   ]
  },
  {
   "cell_type": "markdown",
   "metadata": {},
   "source": []
  }
 ],
 "metadata": {
  "kernelspec": {
   "display_name": "Python 3.9.12 ('base')",
   "language": "python",
   "name": "python3"
  },
  "language_info": {
   "codemirror_mode": {
    "name": "ipython",
    "version": 3
   },
   "file_extension": ".py",
   "mimetype": "text/x-python",
   "name": "python",
   "nbconvert_exporter": "python",
   "pygments_lexer": "ipython3",
   "version": "3.9.12"
  },
  "orig_nbformat": 4,
  "vscode": {
   "interpreter": {
    "hash": "40d3a090f54c6569ab1632332b64b2c03c39dcf918b08424e98f38b5ae0af88f"
   }
  }
 },
 "nbformat": 4,
 "nbformat_minor": 2
}
