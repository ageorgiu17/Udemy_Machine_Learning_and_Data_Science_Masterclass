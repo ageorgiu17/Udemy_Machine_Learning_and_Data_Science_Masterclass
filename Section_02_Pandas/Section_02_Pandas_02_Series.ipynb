{
 "cells": [
  {
   "cell_type": "markdown",
   "metadata": {},
   "source": [
    "## Pandas Series - Part Two"
   ]
  },
  {
   "cell_type": "markdown",
   "metadata": {},
   "source": [
    "În continuare o să ne uităm peste anumite opreații ce se pot realiza cu obiecte Series în Pandas. Pentru asta o să creem două dicționarii care o să reprezinte vânzările imaginare ale unei companii din 2 quartere."
   ]
  },
  {
   "cell_type": "code",
   "execution_count": 2,
   "metadata": {},
   "outputs": [],
   "source": [
    "import pandas as pd"
   ]
  },
  {
   "cell_type": "code",
   "execution_count": 1,
   "metadata": {},
   "outputs": [],
   "source": [
    "q1 = {\n",
    "    'Japan' : 80,\n",
    "    'China' : 450,\n",
    "    'India' : 200,\n",
    "    'USA' : 250\n",
    "}\n",
    "\n",
    "q2 = {\n",
    "    'Brazil' : 100,\n",
    "    'China' : 500,\n",
    "    'India' : 210,\n",
    "    'USA' : 260\n",
    "}"
   ]
  },
  {
   "cell_type": "code",
   "execution_count": 3,
   "metadata": {},
   "outputs": [],
   "source": [
    "sales_q1 = pd.Series(q1)\n"
   ]
  },
  {
   "cell_type": "code",
   "execution_count": 4,
   "metadata": {},
   "outputs": [],
   "source": [
    "sales_q2 = pd.Series(q2)"
   ]
  },
  {
   "cell_type": "code",
   "execution_count": 5,
   "metadata": {},
   "outputs": [
    {
     "data": {
      "text/plain": [
       "Japan     80\n",
       "China    450\n",
       "India    200\n",
       "USA      250\n",
       "dtype: int64"
      ]
     },
     "execution_count": 5,
     "metadata": {},
     "output_type": "execute_result"
    }
   ],
   "source": [
    "sales_q1"
   ]
  },
  {
   "cell_type": "code",
   "execution_count": 6,
   "metadata": {},
   "outputs": [
    {
     "data": {
      "text/plain": [
       "Brazil    100\n",
       "China     500\n",
       "India     210\n",
       "USA       260\n",
       "dtype: int64"
      ]
     },
     "execution_count": 6,
     "metadata": {},
     "output_type": "execute_result"
    }
   ],
   "source": [
    "sales_q2"
   ]
  },
  {
   "cell_type": "markdown",
   "metadata": {},
   "source": [
    "Cu aceste două dicțioanrii am creat două obiecte de tip Series în Pandas. După cum am spus, putem să preluăm informații din acel Series pe baza index-ului"
   ]
  },
  {
   "cell_type": "code",
   "execution_count": 7,
   "metadata": {},
   "outputs": [
    {
     "data": {
      "text/plain": [
       "80"
      ]
     },
     "execution_count": 7,
     "metadata": {},
     "output_type": "execute_result"
    }
   ],
   "source": [
    "sales_q1['Japan']"
   ]
  },
  {
   "cell_type": "markdown",
   "metadata": {},
   "source": [
    "Preluarea acestor informații utilizând index-ul acesta de string presupune că trebuie să trecem acest index exact cum este trecut în acel Series. Dacă trecem un nume de index care nu există în tabel (fie că în cazul de față este o țară care nu există sau se trec greșit o țară) o să primi o eroare. Pentru a vedea toate valorile ce sunt prezente într-un Series ca și index putem să utilizăm metoda 'keys()'"
   ]
  },
  {
   "cell_type": "code",
   "execution_count": 9,
   "metadata": {},
   "outputs": [
    {
     "data": {
      "text/plain": [
       "Index(['Japan', 'China', 'India', 'USA'], dtype='object')"
      ]
     },
     "execution_count": 9,
     "metadata": {},
     "output_type": "execute_result"
    }
   ],
   "source": [
    "sales_q1.keys()"
   ]
  },
  {
   "cell_type": "markdown",
   "metadata": {},
   "source": [
    "În continuare o să trecvem peste anumite operații basic din Pandas ce se pot utiliza pentru 2 obiecte Series. Din moment ce aceste Series sunt create pe baza unui array din NumPy putem utiliza operații de tipul 'broadcast' (cum am văzut și la NumPy, putem aduna două array-uri). De exemplu, dacă dorim să afăm procentajul pentru fiecare valorea dintr-un Series putem foarte ușor să împărțim acel Series la 100"
   ]
  },
  {
   "cell_type": "code",
   "execution_count": 10,
   "metadata": {},
   "outputs": [
    {
     "data": {
      "text/plain": [
       "Japan    0.8\n",
       "China    4.5\n",
       "India    2.0\n",
       "USA      2.5\n",
       "dtype: float64"
      ]
     },
     "execution_count": 10,
     "metadata": {},
     "output_type": "execute_result"
    }
   ],
   "source": [
    "sales_q1 / 100"
   ]
  },
  {
   "cell_type": "markdown",
   "metadata": {},
   "source": [
    "Ceea ce este util la un astfel de Series este faptul că atunci când realizăm anumite operații pe două obiecte Series o să ia în consiuderare acest index (acest string label ce este trecut ca și index). Dacă aruncăm o privire peste aceste două Series, observăm că în primul Series avem țara 'Japan', iar aceasta a fost înlocuită cu 'Brazil' în cel de-al doilea Series. Ce o să se întâmple dacă dorim să calculăm numărul total de vânzări de pe jumătatea de an? (adică sales_q1 + sales_q2)"
   ]
  },
  {
   "cell_type": "code",
   "execution_count": 11,
   "metadata": {},
   "outputs": [
    {
     "data": {
      "text/plain": [
       "Brazil      NaN\n",
       "China     950.0\n",
       "India     410.0\n",
       "Japan       NaN\n",
       "USA       510.0\n",
       "dtype: float64"
      ]
     },
     "execution_count": 11,
     "metadata": {},
     "output_type": "execute_result"
    }
   ],
   "source": [
    "sales_q1 + sales_q2"
   ]
  },
  {
   "cell_type": "markdown",
   "metadata": {},
   "source": [
    "Pandas este destul de deștept încât să facă match la elementele care au același index în ambele Series, iar cele care sunt diferite le pune valorea 'NaN'. Prin acest procedeu putem să vedem date care nu sunt prezente în ambele Series, care este un lucru bun. Totuși, este posibil ca în unele situații să dorim ca acele date să fie completate cu valorile care se găsesc în cadrul obiectului Series de unde face parte. Pentru a putea face asta, atunci trebuie să utilizăm metoda 'add()'. Pentru această metodă există un argumet denumit 'fill_value'. La acest argument trebui să îi specificăm cu ce valoare să înlocuiască elementele din celălat Series unde nu există date. De exemplu în sales_q1 avem Japan, dar nu avem și în sales_q1. Dacă pentru fill_values îi atribuim valoarea 0, atunci pentru sales_q2, pentru Japan o să înlocuiască cu valoarea 0 din momente ce nu există date pentru Japan"
   ]
  },
  {
   "cell_type": "code",
   "execution_count": 13,
   "metadata": {},
   "outputs": [
    {
     "data": {
      "text/plain": [
       "Brazil    100.0\n",
       "China     950.0\n",
       "India     410.0\n",
       "Japan      80.0\n",
       "USA       510.0\n",
       "dtype: float64"
      ]
     },
     "execution_count": 13,
     "metadata": {},
     "output_type": "execute_result"
    }
   ],
   "source": [
    "sales_q1.add(sales_q2, fill_value=0)"
   ]
  },
  {
   "cell_type": "markdown",
   "metadata": {},
   "source": [
    "Ceea ce trebuie reținut din aceste operații pe care le-am făcut este faptul că inițial aceste Series cu care am lucrat erau de tip integer, dar din moment ce am efectuat anumite operații pe baza lor, rezultatul final va fi convertit în float. Acest lucru este făcut automat de către Pandas, iar de cele mai multe ori nu o să ne încurce la calcule dacă avem numere de tip integer sau float. Pentru a verifica ce tip de date conține un Series se poate utiliza atributul 'dtype'"
   ]
  },
  {
   "cell_type": "code",
   "execution_count": 14,
   "metadata": {},
   "outputs": [
    {
     "data": {
      "text/plain": [
       "dtype('int64')"
      ]
     },
     "execution_count": 14,
     "metadata": {},
     "output_type": "execute_result"
    }
   ],
   "source": [
    "sales_q1.dtype"
   ]
  },
  {
   "cell_type": "code",
   "execution_count": 15,
   "metadata": {},
   "outputs": [],
   "source": [
    "first_half = sales_q1.add(sales_q2, fill_value=0)"
   ]
  },
  {
   "cell_type": "code",
   "execution_count": 16,
   "metadata": {},
   "outputs": [
    {
     "data": {
      "text/plain": [
       "dtype('float64')"
      ]
     },
     "execution_count": 16,
     "metadata": {},
     "output_type": "execute_result"
    }
   ],
   "source": [
    "first_half.dtype"
   ]
  },
  {
   "cell_type": "markdown",
   "metadata": {},
   "source": [
    "În cazul în care dorim să modificăm un tip de date, putem utiliza metoda 'astype()', metodă la care îi oferim ca și argument tipul de date la care dorim să convertim acest Series"
   ]
  },
  {
   "cell_type": "code",
   "execution_count": 17,
   "metadata": {},
   "outputs": [
    {
     "data": {
      "text/plain": [
       "Brazil    100\n",
       "China     950\n",
       "India     410\n",
       "Japan      80\n",
       "USA       510\n",
       "dtype: int64"
      ]
     },
     "execution_count": 17,
     "metadata": {},
     "output_type": "execute_result"
    }
   ],
   "source": [
    "first_half.astype(int)"
   ]
  },
  {
   "cell_type": "markdown",
   "metadata": {},
   "source": [
    "## Recapitulare"
   ]
  },
  {
   "cell_type": "markdown",
   "metadata": {},
   "source": [
    "În cadrul acestui tutorial am învățat următoarele lucruri:\n",
    "\n",
    "    1. Cum putem extrage date dintr-un Series utilizându-ne de string label ca și index\n",
    "\n",
    "        sales_q1['Japan']\n",
    "\n",
    "    2. Cum putem afișa toate valorile de label dintr-un Series\n",
    "\n",
    "        sales_q1.keys()\n",
    "\n",
    "    3. Cum putem aduna valorile din două Series (sau cum putem efectua operații aritmentice pe două Series)\n",
    "\n",
    "        sales_q1 + sales_q2\n",
    "\n",
    "            # valorile care nu sunt prezente în ambele Series o să fie înlocuite cu NaN\n",
    "\n",
    "        sales_q1.add(sales_q2, fill_value=0)\n",
    "\n",
    "            # valorile din sales_q1 ce nu sunt prezente în sales_q2 o să fie înlocuite cu valorea 0 (la fel se întâmplă și cu cele care sunt în sales_q2 dar nu sunt în sales_q1)\n",
    "\n",
    "    4. Cum putem verifica ce tip de date reține un Series\n",
    "\n",
    "        sales_q1.dtype\n",
    "\n",
    "    5. Cum putem modifica tipul de date ce este reținut într-un Series\n",
    "\n",
    "        sales_q1.astype(float)"
   ]
  },
  {
   "cell_type": "markdown",
   "metadata": {},
   "source": []
  },
  {
   "cell_type": "markdown",
   "metadata": {},
   "source": []
  }
 ],
 "metadata": {
  "kernelspec": {
   "display_name": "Python 3.9.12 ('base')",
   "language": "python",
   "name": "python3"
  },
  "language_info": {
   "codemirror_mode": {
    "name": "ipython",
    "version": 3
   },
   "file_extension": ".py",
   "mimetype": "text/x-python",
   "name": "python",
   "nbconvert_exporter": "python",
   "pygments_lexer": "ipython3",
   "version": "3.9.12"
  },
  "orig_nbformat": 4,
  "vscode": {
   "interpreter": {
    "hash": "40d3a090f54c6569ab1632332b64b2c03c39dcf918b08424e98f38b5ae0af88f"
   }
  }
 },
 "nbformat": 4,
 "nbformat_minor": 2
}
