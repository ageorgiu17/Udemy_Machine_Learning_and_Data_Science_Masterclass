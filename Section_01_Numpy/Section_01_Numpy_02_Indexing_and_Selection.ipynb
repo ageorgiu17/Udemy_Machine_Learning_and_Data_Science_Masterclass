{
 "cells": [
  {
   "cell_type": "markdown",
   "metadata": {},
   "source": [
    "# Indexing and Selection"
   ]
  },
  {
   "cell_type": "markdown",
   "metadata": {},
   "source": [
    "În cadrul acestei părți din NumPy o să discutăm de partea de indexare și selecție. O să începem prin a prelua dintr-un array un element după care o să preluăm o parte din array (un slice). O să mai aruncăm o privire și peste partea de selecție în cadrul unui array bi-dimensional, iar la final o să ne uităm cum anume putem utiliza condiții pentru a executa anumite selecții."
   ]
  },
  {
   "cell_type": "code",
   "execution_count": 1,
   "metadata": {},
   "outputs": [],
   "source": [
    "# importing the library\n",
    "import numpy as np"
   ]
  },
  {
   "cell_type": "code",
   "execution_count": 2,
   "metadata": {},
   "outputs": [],
   "source": [
    "# creating an array\n",
    "arr = np.arange(0, 10)"
   ]
  },
  {
   "cell_type": "code",
   "execution_count": 4,
   "metadata": {},
   "outputs": [
    {
     "data": {
      "text/plain": [
       "array([0, 1, 2, 3, 4, 5, 6, 7, 8, 9])"
      ]
     },
     "execution_count": 4,
     "metadata": {},
     "output_type": "execute_result"
    }
   ],
   "source": [
    "# printing the array\n",
    "arr"
   ]
  },
  {
   "cell_type": "markdown",
   "metadata": {},
   "source": [
    "Pentru a selecta o singură valoare din cadrul unui array tot ce trebuie să facem este să specificăm între paranteze drepte index-ul de unde dorim să preluăm acel element. Acest procedeu este precum cel de selecție dint-o listă normală din Python"
   ]
  },
  {
   "cell_type": "code",
   "execution_count": 5,
   "metadata": {},
   "outputs": [
    {
     "data": {
      "text/plain": [
       "8"
      ]
     },
     "execution_count": 5,
     "metadata": {},
     "output_type": "execute_result"
    }
   ],
   "source": [
    "arr[8]"
   ]
  },
  {
   "cell_type": "markdown",
   "metadata": {},
   "source": [
    "La fel se procedează și pentru partea de slicing, se utilizează precum slicing-ul normal la o listă"
   ]
  },
  {
   "cell_type": "code",
   "execution_count": 6,
   "metadata": {},
   "outputs": [
    {
     "data": {
      "text/plain": [
       "array([1, 2, 3, 4])"
      ]
     },
     "execution_count": 6,
     "metadata": {},
     "output_type": "execute_result"
    }
   ],
   "source": [
    "arr[1:5]"
   ]
  },
  {
   "cell_type": "markdown",
   "metadata": {},
   "source": [
    "### Broadcasting (difuzare)"
   ]
  },
  {
   "cell_type": "markdown",
   "metadata": {},
   "source": [
    "În continuare o să ne uităm la procedeul denumit 'broadcasting'. Un array diferă de o listă normală din Python pentru abilitatea lor de 'broadcasting'. În cadrul unei liste din Python putem reasigna părți dintr-o anumită listă cu o nouă parte care are același număr de elemente cu numărul de elemente ce dorim să îl modificăm. În cadrul unui array de NumPy putem să 'difuzăm' o singură valorea pentru un set de mai multe valori. Ca și exemplu o să luăm un 'slice' din acea listă și o să îi atribuim o singură valoare."
   ]
  },
  {
   "cell_type": "code",
   "execution_count": 7,
   "metadata": {},
   "outputs": [],
   "source": [
    "arr[:5] = 100"
   ]
  },
  {
   "cell_type": "markdown",
   "metadata": {},
   "source": [
    "Ce anume face codul de mai sus, ia toate valorile din array de la prinul index până la indexul 5 (indexul 5 nu este inclus) și setează pentru fiecare elemente valoarea 100. Dacă afișăm acuma din nou array-ul o să observăm că elementele de la 0 la 5 au acuma valoarea 100"
   ]
  },
  {
   "cell_type": "code",
   "execution_count": 8,
   "metadata": {},
   "outputs": [
    {
     "data": {
      "text/plain": [
       "array([100, 100, 100, 100, 100,   5,   6,   7,   8,   9])"
      ]
     },
     "execution_count": 8,
     "metadata": {},
     "output_type": "execute_result"
    }
   ],
   "source": [
    "arr"
   ]
  },
  {
   "cell_type": "markdown",
   "metadata": {},
   "source": [
    "Acest tip de reasignare nu este posibil cu o listă normală în Python"
   ]
  },
  {
   "cell_type": "markdown",
   "metadata": {},
   "source": [
    "Un lucru care trebuie specificat este faptul că atunci când facem slicing la un array și setăm rezultatul la o nouă variabilă, atunci variabila respectivă o să funcționeze ca și un pointer către array-ul inițiatl. Pentru a înțelege mai bine acest concept o să trecem print-un exemplu."
   ]
  },
  {
   "cell_type": "code",
   "execution_count": 9,
   "metadata": {},
   "outputs": [],
   "source": [
    "# setting the array back to normal\n",
    "arr = np.arange(0, 11)"
   ]
  },
  {
   "cell_type": "code",
   "execution_count": 10,
   "metadata": {},
   "outputs": [
    {
     "data": {
      "text/plain": [
       "array([ 0,  1,  2,  3,  4,  5,  6,  7,  8,  9, 10])"
      ]
     },
     "execution_count": 10,
     "metadata": {},
     "output_type": "execute_result"
    }
   ],
   "source": [
    "arr"
   ]
  },
  {
   "cell_type": "code",
   "execution_count": 11,
   "metadata": {},
   "outputs": [],
   "source": [
    "slice_arr = arr[:5]"
   ]
  },
  {
   "cell_type": "code",
   "execution_count": 13,
   "metadata": {},
   "outputs": [
    {
     "data": {
      "text/plain": [
       "array([0, 1, 2, 3, 4])"
      ]
     },
     "execution_count": 13,
     "metadata": {},
     "output_type": "execute_result"
    }
   ],
   "source": [
    "slice_arr"
   ]
  },
  {
   "cell_type": "markdown",
   "metadata": {},
   "source": [
    "Până acuma am preluat un slice din array-ul mare și l-am atribuit unei variabile. În continuare o să modificăm valorile elementelor din cadrul acelei variabile"
   ]
  },
  {
   "cell_type": "code",
   "execution_count": 14,
   "metadata": {},
   "outputs": [],
   "source": [
    "slice_arr[:] = 99"
   ]
  },
  {
   "cell_type": "code",
   "execution_count": 15,
   "metadata": {},
   "outputs": [
    {
     "data": {
      "text/plain": [
       "array([99, 99, 99, 99, 99])"
      ]
     },
     "execution_count": 15,
     "metadata": {},
     "output_type": "execute_result"
    }
   ],
   "source": [
    "slice_arr"
   ]
  },
  {
   "cell_type": "markdown",
   "metadata": {},
   "source": [
    "Am modificat toate valorile din cadrul acelei variabile și le-am setat valoarea la 99. Deși atribuirea am făcut-o la variabila nou creată, acum dacă afișăm array-ul inițial (la care nu am modificat nimic) o să avem parte de o surpriză"
   ]
  },
  {
   "cell_type": "code",
   "execution_count": 16,
   "metadata": {},
   "outputs": [
    {
     "data": {
      "text/plain": [
       "array([99, 99, 99, 99, 99,  5,  6,  7,  8,  9, 10])"
      ]
     },
     "execution_count": 16,
     "metadata": {},
     "output_type": "execute_result"
    }
   ],
   "source": [
    "arr"
   ]
  },
  {
   "cell_type": "markdown",
   "metadata": {},
   "source": [
    "După cum se poate observa, deși nu am modificat nimic la array-ul inițial, primele valori din cadrul acestui array au fost modificate. Acest lucru se întâmplă deoarece după cum spuneam reasignarea unui slice la o nouă variabilă funcționează precum un pointer. Pentru a putea efectua modificări la un array și să nu se modifice array-ul inițial, atunci trebuie să creem o copie a acelui array utilizând metoda '.copy()'"
   ]
  },
  {
   "cell_type": "code",
   "execution_count": 17,
   "metadata": {},
   "outputs": [],
   "source": [
    "# setting the array back to normal\n",
    "arr = np.arange(0, 11)"
   ]
  },
  {
   "cell_type": "code",
   "execution_count": 18,
   "metadata": {},
   "outputs": [],
   "source": [
    "arr_copy = arr.copy()"
   ]
  },
  {
   "cell_type": "code",
   "execution_count": 19,
   "metadata": {},
   "outputs": [],
   "source": [
    "arr_copy[:] = 100"
   ]
  },
  {
   "cell_type": "code",
   "execution_count": 20,
   "metadata": {},
   "outputs": [
    {
     "data": {
      "text/plain": [
       "array([ 0,  1,  2,  3,  4,  5,  6,  7,  8,  9, 10])"
      ]
     },
     "execution_count": 20,
     "metadata": {},
     "output_type": "execute_result"
    }
   ],
   "source": [
    "arr"
   ]
  },
  {
   "cell_type": "code",
   "execution_count": 21,
   "metadata": {},
   "outputs": [
    {
     "data": {
      "text/plain": [
       "array([100, 100, 100, 100, 100, 100, 100, 100, 100, 100, 100])"
      ]
     },
     "execution_count": 21,
     "metadata": {},
     "output_type": "execute_result"
    }
   ],
   "source": [
    "arr_copy"
   ]
  },
  {
   "cell_type": "markdown",
   "metadata": {},
   "source": [
    "În continuare o să discutăm despre metoda de a selecta anumite date dintr-un array bi-dimensional, Să creem un array bi-dimensional."
   ]
  },
  {
   "cell_type": "code",
   "execution_count": 2,
   "metadata": {},
   "outputs": [],
   "source": [
    "array_2d = np.array([[5, 10, 15], [20, 25, 30], [35, 40, 45]])"
   ]
  },
  {
   "cell_type": "code",
   "execution_count": 3,
   "metadata": {},
   "outputs": [
    {
     "data": {
      "text/plain": [
       "array([[ 5, 10, 15],\n",
       "       [20, 25, 30],\n",
       "       [35, 40, 45]])"
      ]
     },
     "execution_count": 3,
     "metadata": {},
     "output_type": "execute_result"
    }
   ],
   "source": [
    "array_2d"
   ]
  },
  {
   "cell_type": "markdown",
   "metadata": {},
   "source": [
    "Indexarea pentru un array bi-dimensioanl funcționează precum indexarea la o listă din Python, deoarece teoretic în cadrul unei liste exitsă mai multe liste (nested lists). De exemplu, dacă dorim să extragem un anumit rând din cadrul acestui array (primul rând, care se află pe index-ul 0), atunci este destul să specificăm un set de paranteze drepte în care să trecem index-ul pe care se găsește rândul pe care dorim să îl preluăm"
   ]
  },
  {
   "cell_type": "code",
   "execution_count": 4,
   "metadata": {},
   "outputs": [
    {
     "data": {
      "text/plain": [
       "array([ 5, 10, 15])"
      ]
     },
     "execution_count": 4,
     "metadata": {},
     "output_type": "execute_result"
    }
   ],
   "source": [
    "array_2d[0]"
   ]
  },
  {
   "cell_type": "markdown",
   "metadata": {},
   "source": [
    "În acest moment avem reurnat un array uni dimesional, iar dacă dorim să extragem anumite elemente din cadrul acestui array atunci putem utiliza partea de indexare (cum se face normal) pentru acest array. Prin urmare, o să avem un set de paranteze drepte, unul pentru rândul de unde dorim să extragem informațiile, iar al doilea set de paranteze drepte pentru elementul de pe acel rând"
   ]
  },
  {
   "cell_type": "code",
   "execution_count": 5,
   "metadata": {},
   "outputs": [
    {
     "data": {
      "text/plain": [
       "15"
      ]
     },
     "execution_count": 5,
     "metadata": {},
     "output_type": "execute_result"
    }
   ],
   "source": [
    "array_2d[0][2]"
   ]
  },
  {
   "cell_type": "markdown",
   "metadata": {},
   "source": [
    "Pentru un array din NumPy putem să modificăm modul prin care extragem aceste informații, nu este nevoie să utilizăm două seturi de paranteze drepte, este destul să utilizăm doar un set și să despărțim cele două valori printr-o virgulă"
   ]
  },
  {
   "cell_type": "code",
   "execution_count": 6,
   "metadata": {},
   "outputs": [
    {
     "data": {
      "text/plain": [
       "15"
      ]
     },
     "execution_count": 6,
     "metadata": {},
     "output_type": "execute_result"
    }
   ],
   "source": [
    "array_2d[0, 2]"
   ]
  },
  {
   "cell_type": "markdown",
   "metadata": {},
   "source": [
    "Se poate utiliza și partea de slicing pentru a extrage valori dintr-un array bi-dimensional. Să presupunem că dorim să extragem doar din primele două rânduri, ultimele două valori. Pentru început să extragem primele două rânduri din cadrul acestui array"
   ]
  },
  {
   "cell_type": "code",
   "execution_count": 8,
   "metadata": {},
   "outputs": [
    {
     "data": {
      "text/plain": [
       "array([[ 5, 10, 15],\n",
       "       [20, 25, 30]])"
      ]
     },
     "execution_count": 8,
     "metadata": {},
     "output_type": "execute_result"
    }
   ],
   "source": [
    "array_2d[:2]"
   ]
  },
  {
   "cell_type": "markdown",
   "metadata": {},
   "source": [
    "În acest moment avem primele două rânduri din cadrul acestui array, am extras aceste rânduri utilizând partea de slicing. Putem utiliza tot slicing în continuare pentru a extrage doar ultimele două valori din cadrul acestui array ce a rezultat"
   ]
  },
  {
   "cell_type": "code",
   "execution_count": 9,
   "metadata": {},
   "outputs": [
    {
     "data": {
      "text/plain": [
       "array([[10, 15],\n",
       "       [25, 30]])"
      ]
     },
     "execution_count": 9,
     "metadata": {},
     "output_type": "execute_result"
    }
   ],
   "source": [
    "array_2d[:2, 1:]"
   ]
  },
  {
   "cell_type": "markdown",
   "metadata": {},
   "source": [
    "Cel mai des tip de selecție în cadrul unui set de date o să fie selecția pe bază de condiție. Să creem din nou un array nou pe care să îl utilizăm pentru acest tip de selecție pe bază de condiție"
   ]
  },
  {
   "cell_type": "code",
   "execution_count": 10,
   "metadata": {},
   "outputs": [],
   "source": [
    "arr = np.arange(1, 11)"
   ]
  },
  {
   "cell_type": "code",
   "execution_count": 11,
   "metadata": {},
   "outputs": [
    {
     "data": {
      "text/plain": [
       "array([ 1,  2,  3,  4,  5,  6,  7,  8,  9, 10])"
      ]
     },
     "execution_count": 11,
     "metadata": {},
     "output_type": "execute_result"
    }
   ],
   "source": [
    "arr"
   ]
  },
  {
   "cell_type": "markdown",
   "metadata": {},
   "source": [
    "Avem array-ul de mai sus. Să presupunem că dorim să selectăm din acel array doar anumite elemente care sunt mai mari decât valorea 4. Cum putem face acest lucru? Putem să utilizăm o condișție, iar condiția este următoarea:"
   ]
  },
  {
   "cell_type": "code",
   "execution_count": 12,
   "metadata": {},
   "outputs": [
    {
     "data": {
      "text/plain": [
       "array([False, False, False, False,  True,  True,  True,  True,  True,\n",
       "        True])"
      ]
     },
     "execution_count": 12,
     "metadata": {},
     "output_type": "execute_result"
    }
   ],
   "source": [
    "arr > 4"
   ]
  },
  {
   "cell_type": "markdown",
   "metadata": {},
   "source": [
    "Sintaxa 'arr > 4' retunrează un array cu valori de tip boolean unde valori cu True reprezintă valorile care îndeplinesc această condiție, iar cele cu False, valorile care nu îndeplinesc condiția. Prin urmare, unde este True înseamnă că există valori mai mari ca și 4, iar unde este False sunt valori mai mici sau egale cu 4. Putem să creem un filtru cu această condiție și să utilizăm după acest filtru pentru a extrage valorile care returnează True"
   ]
  },
  {
   "cell_type": "code",
   "execution_count": 13,
   "metadata": {},
   "outputs": [],
   "source": [
    "filter_arr = arr > 4"
   ]
  },
  {
   "cell_type": "code",
   "execution_count": 14,
   "metadata": {},
   "outputs": [
    {
     "data": {
      "text/plain": [
       "array([ 5,  6,  7,  8,  9, 10])"
      ]
     },
     "execution_count": 14,
     "metadata": {},
     "output_type": "execute_result"
    }
   ],
   "source": [
    "arr[filter_arr]"
   ]
  },
  {
   "cell_type": "markdown",
   "metadata": {},
   "source": [
    "# Recapitulare"
   ]
  },
  {
   "cell_type": "markdown",
   "metadata": {},
   "source": [
    "În cadrul acestui tutorial am învățăt următoarele lucruri:\n",
    "\n",
    "    1. Cum să selectăm elemente dintr-un array uni dimensional (utilizând partea de index și slicing)\n",
    "\n",
    "        arr[5] # indexing\n",
    "\n",
    "        arr[2:5] # slicing\n",
    "    \n",
    "    2. Cum funcționează partea de broadcasting (difuzare), concept care nu este disponibil pentru o listă normală din Python\n",
    "\n",
    "        arr[2:5] = 99\n",
    "    \n",
    "    3. Partea de slicing, deși salvată într-o variabilă nouă are rolul doar de pointer, array-ul inițial o să fie modificat\n",
    "\n",
    "        arr = np.arange(1, 11)\n",
    "\n",
    "        slice_arr = arr[:5]\n",
    "\n",
    "        slice_arr[:] = 100 # se modifică și array-ul 'arr' de la index-ul 5\n",
    "\n",
    "    4. Pentru a face o copie de array se va utiliza metoda '.copy()'\n",
    "\n",
    "        copy_arr = arr.copy()\n",
    "\n",
    "    5. Cum putem utiliza partea de indexing și slicing pentru un array bi-dimensional\n",
    "\n",
    "        arr[0] # returnează primul rând dintr=un array bi-dimenional\n",
    "\n",
    "        arr[0][1] # returnează elementul de pe index-ul doi din primul rând de pe un array bi-dimensional\n",
    "\n",
    "        arr[0, 1] # identic ca și sintaxa de mai sus, returnează elementul de pe index-ul doi din primul rând de pe un array bi-dimensional\n",
    "\n",
    "        arr[:2] # retunrează primele două rânduri dintr-un array bi-dimensional (utilizând partea de slicing)\n",
    "\n",
    "        arr[:2, 1:] # retunrează valorile de la index-ul unu până la final din primele două rânduri dintr-un array bi-dimensional (utlizează slicing atât pentru selectarea rândurilor, cât și pentru selectarea elementelor din rând)\n",
    "\n",
    "    5. Cum putem utiliza condiții pentru a face o selecție\n",
    "\n",
    "        arr > 4 # retunrează un array cu valori booleane care reprezintă o mască pentru array-ul unde se face comparația. Valorile cu False sunt cele care nu îndeplinesc condiția, iar cele cu True sunt cele care îndeplinesc condiția\n",
    "\n",
    "        filter_arr = arr > 4 # salvarea condiției într-un filtru\n",
    "\n",
    "        arr[filter_arr] # aplicarea filtrului pentru acel array\n",
    "\n",
    "        arr[arr > 4] # rezultat indentic ca și sintaxa de mai sus"
   ]
  },
  {
   "cell_type": "markdown",
   "metadata": {},
   "source": []
  }
 ],
 "metadata": {
  "kernelspec": {
   "display_name": "Python 3.9.12 ('base')",
   "language": "python",
   "name": "python3"
  },
  "language_info": {
   "codemirror_mode": {
    "name": "ipython",
    "version": 3
   },
   "file_extension": ".py",
   "mimetype": "text/x-python",
   "name": "python",
   "nbconvert_exporter": "python",
   "pygments_lexer": "ipython3",
   "version": "3.9.12"
  },
  "orig_nbformat": 4,
  "vscode": {
   "interpreter": {
    "hash": "40d3a090f54c6569ab1632332b64b2c03c39dcf918b08424e98f38b5ae0af88f"
   }
  }
 },
 "nbformat": 4,
 "nbformat_minor": 2
}
