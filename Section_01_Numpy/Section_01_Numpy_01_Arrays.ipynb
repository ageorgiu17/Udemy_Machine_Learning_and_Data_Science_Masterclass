{
 "cells": [
  {
   "cell_type": "markdown",
   "metadata": {},
   "source": [
    "Prima librărie pe care o să o învățăm este 'numpy'. Aproape toate librăriile pe care le vom folosi în cadrul acestui tutorial sunt bazate pe 'numpy'. Scopul aceste secțiuni este să învățăm următoarele lucrui:\n",
    "\n",
    "-  Să înțelegem librăria numpy\n",
    "\n",
    "-  Să creem listte (arrays) utilizând numpy\n",
    "\n",
    "-  Să preluăm informații dintr-un array de numpy utilizând partea de slicing și de indexare\n",
    "\n",
    "-  Să învățăm operații basic de numpy"
   ]
  },
  {
   "cell_type": "markdown",
   "metadata": {},
   "source": [
    "### Ce anume este NumPy?"
   ]
  },
  {
   "cell_type": "markdown",
   "metadata": {},
   "source": [
    "NumPy este o librărie din Python utilizată pentru a crea N dimensional Arrays (liste de o dimensiune N). N dimensional Array înseamnă că aceste array-uri pot fi structurate ușor de la 1D la 2D, la 3D, la 4D etc. Ce este important pentru NumPy, este abilitatea de a difuza rapid funcții și are o mulțime de funcționalități deja create, precum algebră lineară, distribuție spațială, funcții trigonometrice."
   ]
  },
  {
   "cell_type": "markdown",
   "metadata": {},
   "source": [
    "Deși la primva vedere un array din NumPy este foarte asemănător cu o listă din Python, defapt aceste arrays sunt mult mai mult de atâta. Procedeul de a difuaz funcții pe permite să aplicăm o funcție pe un întreg data set foarte ușor și rapid."
   ]
  },
  {
   "cell_type": "markdown",
   "metadata": {},
   "source": [
    "# NumPy Arrays"
   ]
  },
  {
   "cell_type": "markdown",
   "metadata": {},
   "source": [
    "Există mai multe metode prin care putem crea un array în NumPy, dar o să ne focusăm doar pe trei\n",
    "\n",
    "-   transformarea unei liste din Python într-un array\n",
    "\n",
    "-  utilizarea unor funcții buit-in\n",
    "\n",
    "-  generarea de date random utilizând NumPy"
   ]
  },
  {
   "cell_type": "markdown",
   "metadata": {},
   "source": [
    " Pentru a putea utiliza librăria, aceasta trebui instalată și după importată. Pentru a instala librăria o să ne folosim de comanda pip"
   ]
  },
  {
   "cell_type": "raw",
   "metadata": {},
   "source": [
    "pip install numpy"
   ]
  },
  {
   "cell_type": "markdown",
   "metadata": {},
   "source": [
    "Prin convenție, importăm librărial NumPy sub denumirea de 'np'"
   ]
  },
  {
   "cell_type": "code",
   "execution_count": 2,
   "metadata": {},
   "outputs": [],
   "source": [
    "import numpy as np"
   ]
  },
  {
   "cell_type": "markdown",
   "metadata": {},
   "source": [
    "După ce am importat librăria NumPy să învățăm cum anume putem crea un array. Putem să creem un aray prim transformarea unei liste normale din Python"
   ]
  },
  {
   "cell_type": "code",
   "execution_count": 3,
   "metadata": {},
   "outputs": [],
   "source": [
    "mylist = [1, 2, 3]"
   ]
  },
  {
   "cell_type": "code",
   "execution_count": 4,
   "metadata": {},
   "outputs": [
    {
     "data": {
      "text/plain": [
       "list"
      ]
     },
     "execution_count": 4,
     "metadata": {},
     "output_type": "execute_result"
    }
   ],
   "source": [
    "type(mylist)"
   ]
  },
  {
   "cell_type": "markdown",
   "metadata": {},
   "source": [
    "Pentru a transforma o listă într-un array, o să utilizăm metoda `array()`. În cadrul acestei metode o să trecem lista respectivă"
   ]
  },
  {
   "cell_type": "code",
   "execution_count": 5,
   "metadata": {},
   "outputs": [
    {
     "data": {
      "text/plain": [
       "array([1, 2, 3])"
      ]
     },
     "execution_count": 5,
     "metadata": {},
     "output_type": "execute_result"
    }
   ],
   "source": [
    "np.array(mylist)"
   ]
  },
  {
   "cell_type": "markdown",
   "metadata": {},
   "source": [
    "Din output-ul de mai sus se poate observa faptul că acel obiect este acuma un array. Putem să salvăm codul de mai sus în cadrul unei variabiel și după să vedem ce tip de obiect este"
   ]
  },
  {
   "cell_type": "code",
   "execution_count": 6,
   "metadata": {},
   "outputs": [],
   "source": [
    "myarr = np.array(mylist)"
   ]
  },
  {
   "cell_type": "code",
   "execution_count": 7,
   "metadata": {},
   "outputs": [
    {
     "data": {
      "text/plain": [
       "numpy.ndarray"
      ]
     },
     "execution_count": 7,
     "metadata": {},
     "output_type": "execute_result"
    }
   ],
   "source": [
    "type(myarr)"
   ]
  },
  {
   "cell_type": "markdown",
   "metadata": {},
   "source": [
    "Putem să trecem și la nivelul următor, acela de a crea un vector bi dimensional (precum o matrice)"
   ]
  },
  {
   "cell_type": "code",
   "execution_count": 8,
   "metadata": {},
   "outputs": [],
   "source": [
    "mymatrix = [[1, 2, 3], [4, 5, 6], [7, 8, 9]]"
   ]
  },
  {
   "cell_type": "code",
   "execution_count": 9,
   "metadata": {},
   "outputs": [
    {
     "data": {
      "text/plain": [
       "[[1, 2, 3], [4, 5, 6], [7, 8, 9]]"
      ]
     },
     "execution_count": 9,
     "metadata": {},
     "output_type": "execute_result"
    }
   ],
   "source": [
    "mymatrix"
   ]
  },
  {
   "cell_type": "markdown",
   "metadata": {},
   "source": [
    "În acest moment, ceea se afișează este o listă care este formată din trei liste individuale. Putem să pasăm această listă ca și argument pentru metoda 'array()' ca să vedem ce anume se întâmplă."
   ]
  },
  {
   "cell_type": "code",
   "execution_count": 10,
   "metadata": {},
   "outputs": [
    {
     "data": {
      "text/plain": [
       "array([[1, 2, 3],\n",
       "       [4, 5, 6],\n",
       "       [7, 8, 9]])"
      ]
     },
     "execution_count": 10,
     "metadata": {},
     "output_type": "execute_result"
    }
   ],
   "source": [
    "np.array(mymatrix)"
   ]
  },
  {
   "cell_type": "markdown",
   "metadata": {},
   "source": [
    "Se poate observa că numpy are fundamentele stabilite și recunoaște faptul că lista respectivă este una bi-dimensională"
   ]
  },
  {
   "cell_type": "markdown",
   "metadata": {},
   "source": [
    "De cele mai multe ori nu o să avem foarte mult de a face cu partea de convertire de date într-un array din numpy, ci cel mai mult o să ne folosim de metodele existente în cadrul acestei librării. Să aruncăm o privire peste aceste librării."
   ]
  },
  {
   "cell_type": "markdown",
   "metadata": {},
   "source": [
    "### np.arange()"
   ]
  },
  {
   "cell_type": "markdown",
   "metadata": {},
   "source": [
    "Metoda respectivă este echivalentul din Python pentru 'range()'. Ca și argumente trebuie să îi oferim un punct de plecare, unul de sosire și opțional un step. Metoda o să retunreze un array cu valorile respective"
   ]
  },
  {
   "cell_type": "code",
   "execution_count": 11,
   "metadata": {},
   "outputs": [
    {
     "data": {
      "text/plain": [
       "array([0, 1, 2, 3, 4, 5, 6, 7, 8, 9])"
      ]
     },
     "execution_count": 11,
     "metadata": {},
     "output_type": "execute_result"
    }
   ],
   "source": [
    "np.arange(0, 10)"
   ]
  },
  {
   "cell_type": "code",
   "execution_count": 12,
   "metadata": {},
   "outputs": [
    {
     "data": {
      "text/plain": [
       "array([0, 2, 4, 6, 8])"
      ]
     },
     "execution_count": 12,
     "metadata": {},
     "output_type": "execute_result"
    }
   ],
   "source": [
    "np.arange(0, 10, 2)"
   ]
  },
  {
   "cell_type": "code",
   "execution_count": 13,
   "metadata": {},
   "outputs": [
    {
     "data": {
      "text/plain": [
       "array([ 0,  2,  4,  6,  8, 10])"
      ]
     },
     "execution_count": 13,
     "metadata": {},
     "output_type": "execute_result"
    }
   ],
   "source": [
    "np.arange(0, 11, 2)"
   ]
  },
  {
   "cell_type": "markdown",
   "metadata": {},
   "source": [
    "### np.zeros()"
   ]
  },
  {
   "cell_type": "markdown",
   "metadata": {},
   "source": [
    "Un caz foarte comun este acela de a crea un array foarte mare de date ce conțin valorile 0 și 1. Metoda ce va fi utilizată pentru acest scop este 'np.zeros()\n",
    "'"
   ]
  },
  {
   "cell_type": "code",
   "execution_count": 14,
   "metadata": {},
   "outputs": [
    {
     "data": {
      "text/plain": [
       "array([0., 0., 0., 0., 0.])"
      ]
     },
     "execution_count": 14,
     "metadata": {},
     "output_type": "execute_result"
    }
   ],
   "source": [
    "np.zeros(5)"
   ]
  },
  {
   "cell_type": "markdown",
   "metadata": {},
   "source": [
    "Comanda de mai sus creează un array one dimensional cu 5 valori de zero în cadrul acelui array. De reținut este faptul că această metodă creează valorile respective ca și valori de tipul float pentru a păstra o precizie mai bună. Dacă dorim să creem un array bi-dimensional, atunci ca și argument putem să trecem un tuple, unde prima valoare reprezintă numărul de râduri, iar a doua reprezintă numărul de coloane."
   ]
  },
  {
   "cell_type": "code",
   "execution_count": 15,
   "metadata": {},
   "outputs": [
    {
     "data": {
      "text/plain": [
       "array([[0., 0., 0., 0.],\n",
       "       [0., 0., 0., 0.],\n",
       "       [0., 0., 0., 0.],\n",
       "       [0., 0., 0., 0.],\n",
       "       [0., 0., 0., 0.]])"
      ]
     },
     "execution_count": 15,
     "metadata": {},
     "output_type": "execute_result"
    }
   ],
   "source": [
    "np.zeros((5, 4))"
   ]
  },
  {
   "cell_type": "markdown",
   "metadata": {},
   "source": [
    "### np.ones()"
   ]
  },
  {
   "cell_type": "markdown",
   "metadata": {},
   "source": [
    "Metoda 'np.ones()' este extrem de similară precum 'np.zeros()', realizează același lucru, doar că în loc de valoarea 0. o să ne creeze un array cu valoarea 1."
   ]
  },
  {
   "cell_type": "code",
   "execution_count": 16,
   "metadata": {},
   "outputs": [
    {
     "data": {
      "text/plain": [
       "array([1., 1., 1., 1., 1., 1., 1.])"
      ]
     },
     "execution_count": 16,
     "metadata": {},
     "output_type": "execute_result"
    }
   ],
   "source": [
    "np.ones(7)"
   ]
  },
  {
   "cell_type": "markdown",
   "metadata": {},
   "source": [
    "### np.linspace()"
   ]
  },
  {
   "cell_type": "markdown",
   "metadata": {},
   "source": [
    "O altă metodă des utilizată o să fie cea de 'np.linespace()'. Această funcție returnează o serie de numere separate egal între ele în funcție de un interval specificat. Să nu se confunde cu sintaxa de la 'np.arange()' deoarece aceasta este un pic diferită. Funcția aceasta ia un argument pentru limita de start și altul pentru limita de final. Până aici este foarte asemănătoare cu metoda 'np.arange()'. Diferența vine pentru argumentul al treilea, argumentul care reprezintă numărul de elemente ce dorim să fie prezent în cadrul array-ului. Acel număr de elemente o să fie numai valori cuprinse între valorile setate pentru partea de start și stop."
   ]
  },
  {
   "cell_type": "code",
   "execution_count": 17,
   "metadata": {},
   "outputs": [
    {
     "data": {
      "text/plain": [
       "array([ 0.,  5., 10.])"
      ]
     },
     "execution_count": 17,
     "metadata": {},
     "output_type": "execute_result"
    }
   ],
   "source": [
    "np.linspace(0, 10, 3)"
   ]
  },
  {
   "cell_type": "markdown",
   "metadata": {},
   "source": [
    "Până în acest moment am trecut peste câteva funcții prin care putem crea un array după o listă din Python, sau altele prin care putem crea un array după un range în funcție de o valorea de start, una de stop, iar uneori un step. Ne-am mai uitat și peste partea prin care putem să creem un array (uni dimensional sau bi dimensional) doar cu valori de 0 sau 1. În continuare o să ne uităm peste modalitatea de a crea array cu anumite date random. Există multe librării pe care le-am putea utiliza pentru a crea date random. Din fericire, NumPy vine cu propria parte de generare de date random care poartă denumirea de 'random'"
   ]
  },
  {
   "cell_type": "markdown",
   "metadata": {},
   "source": [
    "Din cadrul acestei librării putem crea un array de date random (date cuprinse între valorile 0 și 1) utilizând metoda 'rand()'. Acestei metode trebuie să îi oferim ca și argument fie un singur număr (caz în care creează un array uni dimensional), fie două numere, caz în care creează un array bi dimensional."
   ]
  },
  {
   "cell_type": "markdown",
   "metadata": {},
   "source": [
    "### np.random.rand()"
   ]
  },
  {
   "cell_type": "code",
   "execution_count": 3,
   "metadata": {},
   "outputs": [
    {
     "data": {
      "text/plain": [
       "array([0.03070382, 0.79819811, 0.1494731 , 0.6051938 , 0.97335252])"
      ]
     },
     "execution_count": 3,
     "metadata": {},
     "output_type": "execute_result"
    }
   ],
   "source": [
    "np.random.rand(5)"
   ]
  },
  {
   "cell_type": "code",
   "execution_count": 4,
   "metadata": {},
   "outputs": [
    {
     "data": {
      "text/plain": [
       "array([[0.73594585, 0.37002815],\n",
       "       [0.70861372, 0.739056  ],\n",
       "       [0.20977399, 0.21886293],\n",
       "       [0.68482048, 0.12951716],\n",
       "       [0.13466566, 0.30613287]])"
      ]
     },
     "execution_count": 4,
     "metadata": {},
     "output_type": "execute_result"
    }
   ],
   "source": [
    "np.random.rand(5, 2)"
   ]
  },
  {
   "cell_type": "markdown",
   "metadata": {},
   "source": [
    "### np.random.randint()"
   ]
  },
  {
   "cell_type": "markdown",
   "metadata": {},
   "source": [
    "O altă metodă ce poate fi utilizată este moetoda 'randint()'. Metoda aceasta retunrează nu număr întreg între 2 valori specificate ca și argument"
   ]
  },
  {
   "cell_type": "code",
   "execution_count": 6,
   "metadata": {},
   "outputs": [
    {
     "data": {
      "text/plain": [
       "8"
      ]
     },
     "execution_count": 6,
     "metadata": {},
     "output_type": "execute_result"
    }
   ],
   "source": [
    "np.random.randint(0, 10)"
   ]
  },
  {
   "cell_type": "markdown",
   "metadata": {},
   "source": [
    "Pentru codul de mai sus, metoda returnează un număr random între valorile 0 și 10. Dacă dorim să ne returneze un array de valori uni dimensional, atunci trebuie să specificăm numărul de valori din array care să fie returnat"
   ]
  },
  {
   "cell_type": "code",
   "execution_count": 7,
   "metadata": {},
   "outputs": [
    {
     "data": {
      "text/plain": [
       "array([18,  3, 38])"
      ]
     },
     "execution_count": 7,
     "metadata": {},
     "output_type": "execute_result"
    }
   ],
   "source": [
    "np.random.randint(0, 50, 3)"
   ]
  },
  {
   "cell_type": "markdown",
   "metadata": {},
   "source": [
    "În situația în care se dorește să se retunreze un array bi dimensional de valori alese la întânplare utilizând metoda 'randint()', atunci pentru argumentul de valori o să se treacă un tuple.Î"
   ]
  },
  {
   "cell_type": "code",
   "execution_count": 8,
   "metadata": {},
   "outputs": [
    {
     "data": {
      "text/plain": [
       "array([[35,  0],\n",
       "       [33, 30],\n",
       "       [ 0, 39],\n",
       "       [40, 24],\n",
       "       [48, 16]])"
      ]
     },
     "execution_count": 8,
     "metadata": {},
     "output_type": "execute_result"
    }
   ],
   "source": [
    "np.random.randint(0, 50, (5, 2))"
   ]
  },
  {
   "cell_type": "markdown",
   "metadata": {},
   "source": [
    "### np.random.seed()"
   ]
  },
  {
   "cell_type": "markdown",
   "metadata": {},
   "source": [
    "Pentru a putea lucra cu astfel de date, cu date generate random (pseudo-random generated numbers) uneori este nevoie să utilizăm poate același set de date pentru a putea face debugging la o anumită parte de cod. În această situație intră în calcul metode 'seed()', metodă prin care putem să setăm 'rădăcina' (adică inputul) pentru algoritmul de generare de date random (deoarece aceste date se generează pe bază de algoritm). Din moment ce am setat acel 'seed', atunci putem să obținem același set de date cu valori așa zise 'random'.\n",
    "\n",
    "Pentru mai multe informații despre 'pseudo-random numbers' se poate accesa link-ul https://www.sharpsightlabs.com/blog/numpy-random-seed/"
   ]
  },
  {
   "cell_type": "code",
   "execution_count": 10,
   "metadata": {},
   "outputs": [
    {
     "data": {
      "text/plain": [
       "array([0.37454012, 0.95071431, 0.73199394, 0.59865848])"
      ]
     },
     "execution_count": 10,
     "metadata": {},
     "output_type": "execute_result"
    }
   ],
   "source": [
    "np.random.seed(42)\n",
    "np.random.rand(4)"
   ]
  },
  {
   "cell_type": "markdown",
   "metadata": {},
   "source": [
    "Dacă se rulează același cod din nou, se va observa că o să avem același rezultat"
   ]
  },
  {
   "cell_type": "code",
   "execution_count": 11,
   "metadata": {},
   "outputs": [
    {
     "data": {
      "text/plain": [
       "array([0.37454012, 0.95071431, 0.73199394, 0.59865848])"
      ]
     },
     "execution_count": 11,
     "metadata": {},
     "output_type": "execute_result"
    }
   ],
   "source": [
    "np.random.seed(42)\n",
    "np.random.rand(4)"
   ]
  },
  {
   "cell_type": "markdown",
   "metadata": {},
   "source": [
    "Un lucru de ținut minte este faptul că acele rânduri de cod trebuie trecute în aceași celulă pentru a primi aceleași rezultate. De asemenea, numărul '42' reprezintă așa zisa 'rădăcină' de la care pornește algoritmul de generare de numere, prin urmare acel număr poate fi modificat după placul utilizatorului, dar de reținut că atunci când se modidifică acea valore, atunci o să se modifice și valoarile returnate ca fiind 'random'"
   ]
  },
  {
   "cell_type": "markdown",
   "metadata": {},
   "source": [
    "Această metodă o să o utilizăm destul de des în cadrul acestui curs."
   ]
  },
  {
   "cell_type": "markdown",
   "metadata": {},
   "source": [
    "În continuare o să trecem peste anumite atribute și metode utilie pentru un array din NumPy. Pentru a le putea utiliza, trebui întâi să creem acest array."
   ]
  },
  {
   "cell_type": "code",
   "execution_count": 12,
   "metadata": {},
   "outputs": [],
   "source": [
    "arr = np.arange(0, 25)"
   ]
  },
  {
   "cell_type": "code",
   "execution_count": 13,
   "metadata": {},
   "outputs": [
    {
     "data": {
      "text/plain": [
       "array([ 0,  1,  2,  3,  4,  5,  6,  7,  8,  9, 10, 11, 12, 13, 14, 15, 16,\n",
       "       17, 18, 19, 20, 21, 22, 23, 24])"
      ]
     },
     "execution_count": 13,
     "metadata": {},
     "output_type": "execute_result"
    }
   ],
   "source": [
    "arr"
   ]
  },
  {
   "cell_type": "markdown",
   "metadata": {},
   "source": [
    "### .reshape()"
   ]
  },
  {
   "cell_type": "markdown",
   "metadata": {},
   "source": [
    "Ce anumte putem să facem cu acest array este să îl remodelăm. Prin remodelare putem să ne imaginăm la tipul array-ului (din uni dimensional să îl transformăm în bi-dimensional) sau dacă e cazul unui array bi-dimensional să îi modificăm structura. Din 5 coloane și 2 rânduri să modificăm astfel ca acest array să fie de 2 rânduri și 5 coloane. Metoda prin care putem face această operațiune poartă denumirea de 'reshape()'."
   ]
  },
  {
   "cell_type": "code",
   "execution_count": 14,
   "metadata": {},
   "outputs": [
    {
     "data": {
      "text/plain": [
       "array([[ 0,  1,  2,  3,  4],\n",
       "       [ 5,  6,  7,  8,  9],\n",
       "       [10, 11, 12, 13, 14],\n",
       "       [15, 16, 17, 18, 19],\n",
       "       [20, 21, 22, 23, 24]])"
      ]
     },
     "execution_count": 14,
     "metadata": {},
     "output_type": "execute_result"
    }
   ],
   "source": [
    "arr.reshape(5, 5)"
   ]
  },
  {
   "cell_type": "markdown",
   "metadata": {},
   "source": [
    "În array-ul de mai sus sunt prezente 25 de elemente. Dacă dorim să facem reshape la o un array care la final nu are 25 de elemente, atunci o să rezulte o eroare"
   ]
  },
  {
   "cell_type": "code",
   "execution_count": 16,
   "metadata": {},
   "outputs": [
    {
     "ename": "ValueError",
     "evalue": "cannot reshape array of size 25 into shape (5,4)",
     "output_type": "error",
     "traceback": [
      "\u001b[0;31m---------------------------------------------------------------------------\u001b[0m",
      "\u001b[0;31mValueError\u001b[0m                                Traceback (most recent call last)",
      "\u001b[1;32m/Users/andreig2/python/udemy/python_for_machine_learning_and_data_science_masterclass/Section_01_Numpy/Section_01_Numpy.ipynb Cell 68\u001b[0m in \u001b[0;36m<cell line: 1>\u001b[0;34m()\u001b[0m\n\u001b[0;32m----> <a href='vscode-notebook-cell:/Users/andreig2/python/udemy/python_for_machine_learning_and_data_science_masterclass/Section_01_Numpy/Section_01_Numpy.ipynb#ch0000084?line=0'>1</a>\u001b[0m arr\u001b[39m.\u001b[39;49mreshape(\u001b[39m5\u001b[39;49m, \u001b[39m4\u001b[39;49m)\n",
      "\u001b[0;31mValueError\u001b[0m: cannot reshape array of size 25 into shape (5,4)"
     ]
    }
   ],
   "source": [
    "arr.reshape(5, 4)"
   ]
  },
  {
   "cell_type": "markdown",
   "metadata": {},
   "source": [
    "### .max() \n",
    "\n",
    "### .min()\n",
    "\n",
    "### .argmax()\n",
    "\n",
    "### .argmin()"
   ]
  },
  {
   "cell_type": "markdown",
   "metadata": {},
   "source": [
    "Metodele de mai sunt iar anumite metode utilizate mai des cu NumPy. Metodele '.max()' și '.min()' returnează valoarea cea mai mare, repsectiv cea mai mică din cadrul unui array, iar aceleași metode, dar cu 'arg' ca și sufix ('argmax()' și 'argmin()') returnează index-ul pe care se găsesc acele valori (valoarea maximă sau valoarea minimă)"
   ]
  },
  {
   "cell_type": "code",
   "execution_count": 17,
   "metadata": {},
   "outputs": [],
   "source": [
    "# creating an array of random numbers\n",
    "\n",
    "rand_arr = np.random.randint(0, 100, 20)"
   ]
  },
  {
   "cell_type": "code",
   "execution_count": 19,
   "metadata": {},
   "outputs": [
    {
     "data": {
      "text/plain": [
       "array([82, 86, 74, 74, 87, 99, 23,  2, 21, 52,  1, 87, 29, 37,  1, 63, 59,\n",
       "       20, 32, 75])"
      ]
     },
     "execution_count": 19,
     "metadata": {},
     "output_type": "execute_result"
    }
   ],
   "source": [
    "# printing the values inside the array\n",
    "rand_arr"
   ]
  },
  {
   "cell_type": "code",
   "execution_count": 26,
   "metadata": {},
   "outputs": [
    {
     "data": {
      "text/plain": [
       "99"
      ]
     },
     "execution_count": 26,
     "metadata": {},
     "output_type": "execute_result"
    }
   ],
   "source": [
    "# printing the highest values from the array\n",
    "rand_arr.max()"
   ]
  },
  {
   "cell_type": "code",
   "execution_count": 24,
   "metadata": {},
   "outputs": [
    {
     "data": {
      "text/plain": [
       "5"
      ]
     },
     "execution_count": 24,
     "metadata": {},
     "output_type": "execute_result"
    }
   ],
   "source": [
    "# printing the index of the highest value from the array\n",
    "rand_arr.argmax()"
   ]
  },
  {
   "cell_type": "code",
   "execution_count": 27,
   "metadata": {},
   "outputs": [
    {
     "data": {
      "text/plain": [
       "1"
      ]
     },
     "execution_count": 27,
     "metadata": {},
     "output_type": "execute_result"
    }
   ],
   "source": [
    "# printing the smallest values from the array\n",
    "rand_arr.min()"
   ]
  },
  {
   "cell_type": "code",
   "execution_count": 28,
   "metadata": {},
   "outputs": [
    {
     "data": {
      "text/plain": [
       "10"
      ]
     },
     "execution_count": 28,
     "metadata": {},
     "output_type": "execute_result"
    }
   ],
   "source": [
    "# printing the index of the smallest value from the array\n",
    "rand_arr.argmin()"
   ]
  },
  {
   "cell_type": "markdown",
   "metadata": {},
   "source": [
    "### .dtype"
   ]
  },
  {
   "cell_type": "markdown",
   "metadata": {},
   "source": [
    "Putem să aflăm tipul de date ce este prezent în cadrul unui array utilizând atributul '.dtype'"
   ]
  },
  {
   "cell_type": "code",
   "execution_count": 30,
   "metadata": {},
   "outputs": [
    {
     "data": {
      "text/plain": [
       "dtype('int64')"
      ]
     },
     "execution_count": 30,
     "metadata": {},
     "output_type": "execute_result"
    }
   ],
   "source": [
    "rand_arr.dtype"
   ]
  },
  {
   "cell_type": "markdown",
   "metadata": {},
   "source": [
    "## Recapitulare"
   ]
  },
  {
   "cell_type": "markdown",
   "metadata": {},
   "source": [
    "În această parte din curs am învățat următoarele lucruri:\n",
    "\n",
    "    1. Cum să creem un array după o listă de valori\n",
    "\n",
    "        mylist = [1, 2, 3]\n",
    "\n",
    "        np.array(mylist)\n",
    "\n",
    "    2. Cum să creem un array dintr-un range de valori \n",
    "\n",
    "        np.arange(0, 10) # fără argumentul de step\n",
    "\n",
    "        np.arange(0, 10, 2) # cu argumentul de step\n",
    "\n",
    "    3. Cum să creem un array doar cu valori de 0\n",
    "\n",
    "        np.zeros(4) # un array uni dimensional\n",
    "\n",
    "        np.zeros((4, 2)) # un array bi-dimenional unde 4 reprezintă numărul de rânduri, iar 2 numărul de coloane. Aceste valori trebuie menționate în cadrul unui tuple\n",
    "\n",
    "    4. Cum să creem un array doar cu valori de 1\n",
    "\n",
    "        np.ones(4) # un array uni dimensional\n",
    "\n",
    "        np.ones((4, 2)) # un array bi-dimenional unde 4 reprezintă numărul de rânduri, iar 2 numărul de coloane. Aceste valori trebuie menționate în cadrul unui tuple\n",
    "\n",
    "    5. Cum să creem un array cu valori ce conțin distanța egală între acestea\n",
    "\n",
    "        np.linspace(0, 10, 3) # retunrează un array de 3 valori cu distanță egală între ele între valorile 0 și 10 (ambele valori incluse). Prin urmare o să returneze array([ 0.,  5., 10.])\n",
    "\n",
    "    6. Cum să creem un array cu valori așa zise random\n",
    "\n",
    "        np.random.rand(4) # returnează un array uni-dimensional de 4 elemente cu valori random cuprinse între 0 și 1\n",
    "\n",
    "        np.random.rand(4, 2) # returnează un array bi-dimensional de 4 rânduri și 2 coloane cu valori random cuprinse între 0 și 1\n",
    "\n",
    "    7. Cum să creem un array de valori întregi așa zise random\n",
    "\n",
    "        np.random.randint(0, 10) # returează un număr întreg random între valorile 0 și 10\n",
    "\n",
    "        np.random.randint(0, 10, 4) # retunrează un array uni-dimensional de 4 elemente cu valori random între 0 și 10\n",
    "\n",
    "        np.random.randint(0, 10, (4, 2)) # returnează un array bi-dimensional de 4 rânduri și 2 coloane cu valori random între 0 și 10\n",
    "\n",
    "    8. Cum să shimbăm 'rădăcina' pentru algoritmul de generare de numere random\n",
    "\n",
    "        np.random.seed(42) # utilizăm ca și 'rădăcină' pentru algoritmul de calcul valorea 42. Se va utiliza împreună cu o metodă de generare de valori random\n",
    "\n",
    "        np.random.rand(4) # în combinație cu np.random.seed(42) o să returneze mereu aceleași valori\n",
    "\n",
    "    9. Cum să remodelăm un array\n",
    "\n",
    "        arr = np.arange(0, 25)\n",
    "\n",
    "        arr.reshape(5, 5)\n",
    "\n",
    "    10. Utilizarea unor metode și atribute utile \n",
    "\n",
    "        arr.max()\n",
    "\n",
    "        arr.argmax()\n",
    "\n",
    "        arr.min()\n",
    "\n",
    "        arr.argmin()\n",
    "\n",
    "        arr.dtype\n",
    "\n",
    "        \n",
    "\n"
   ]
  },
  {
   "cell_type": "markdown",
   "metadata": {},
   "source": []
  }
 ],
 "metadata": {
  "kernelspec": {
   "display_name": "Python 3.9.12 ('base')",
   "language": "python",
   "name": "python3"
  },
  "language_info": {
   "codemirror_mode": {
    "name": "ipython",
    "version": 3
   },
   "file_extension": ".py",
   "mimetype": "text/x-python",
   "name": "python",
   "nbconvert_exporter": "python",
   "pygments_lexer": "ipython3",
   "version": "3.9.12"
  },
  "orig_nbformat": 4,
  "vscode": {
   "interpreter": {
    "hash": "40d3a090f54c6569ab1632332b64b2c03c39dcf918b08424e98f38b5ae0af88f"
   }
  }
 },
 "nbformat": 4,
 "nbformat_minor": 2
}
