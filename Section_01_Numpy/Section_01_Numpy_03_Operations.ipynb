{
 "cells": [
  {
   "cell_type": "markdown",
   "metadata": {},
   "source": [
    "În cadrul acestui tutorial o să învățăm despre cum putem utiliza operații aritmetice într-un array de NumPy și de asemenea o să aruncîm o privire peste câteva funcții generale și peste partea de statisctică."
   ]
  },
  {
   "cell_type": "code",
   "execution_count": 1,
   "metadata": {},
   "outputs": [],
   "source": [
    "import numpy as np"
   ]
  },
  {
   "cell_type": "code",
   "execution_count": 2,
   "metadata": {},
   "outputs": [],
   "source": [
    "arr = np.arange(0, 10)"
   ]
  },
  {
   "cell_type": "code",
   "execution_count": 3,
   "metadata": {},
   "outputs": [
    {
     "data": {
      "text/plain": [
       "array([0, 1, 2, 3, 4, 5, 6, 7, 8, 9])"
      ]
     },
     "execution_count": 3,
     "metadata": {},
     "output_type": "execute_result"
    }
   ],
   "source": [
    "arr"
   ]
  },
  {
   "cell_type": "markdown",
   "metadata": {},
   "source": [
    "Ce se întîmplă dacă la acea varibilă dorim să utilizăm operația '+ 5'. În acest caz, numpy o să ia toate elementele din cadrul acelui array și o să adune valoarea 5 cu fiecare element în parte"
   ]
  },
  {
   "cell_type": "code",
   "execution_count": 4,
   "metadata": {},
   "outputs": [
    {
     "data": {
      "text/plain": [
       "array([ 5,  6,  7,  8,  9, 10, 11, 12, 13, 14])"
      ]
     },
     "execution_count": 4,
     "metadata": {},
     "output_type": "execute_result"
    }
   ],
   "source": [
    "arr + 5"
   ]
  },
  {
   "cell_type": "markdown",
   "metadata": {},
   "source": [
    "În numpy, dacă avem două array-uri de aceeași dimensiune, atunci putem să facem anumite operații cu acestea. Operația înseamnă că ia fiecare elemente din array și realizează operația cu elementul de pe celălalt array care se găsește pe același index. Pentru o mai bună explicație, dacă se adună 2 array-uri atunci se ia primul element din primul array la care se adună primul element din al doilea array, pentru elementul doi din primul array se va aduna valoarea elementului doi din al doilea array și tot așa. Un lucru important este că aceste array-uri trebuie să fie de aceeași dimensiune"
   ]
  },
  {
   "cell_type": "code",
   "execution_count": 5,
   "metadata": {},
   "outputs": [
    {
     "data": {
      "text/plain": [
       "array([ 0,  2,  4,  6,  8, 10, 12, 14, 16, 18])"
      ]
     },
     "execution_count": 5,
     "metadata": {},
     "output_type": "execute_result"
    }
   ],
   "source": [
    "arr + arr"
   ]
  },
  {
   "cell_type": "markdown",
   "metadata": {},
   "source": [
    "Același comportament o să fie aplicat pentru orice operație aritmetică. Ce trebuie specificat aici este la împărțirea cu 0. În mod normal în Python, dacă se împarte un număr la 0, o să se returneze o eroare"
   ]
  },
  {
   "cell_type": "code",
   "execution_count": 6,
   "metadata": {},
   "outputs": [
    {
     "ename": "ZeroDivisionError",
     "evalue": "division by zero",
     "output_type": "error",
     "traceback": [
      "\u001b[0;31m---------------------------------------------------------------------------\u001b[0m",
      "\u001b[0;31mZeroDivisionError\u001b[0m                         Traceback (most recent call last)",
      "\u001b[1;32m/Users/andreig2/python/udemy/python_for_machine_learning_and_data_science_masterclass/Section_01_Numpy/Section_01_Numpy_03_Operations.ipynb Cell 10\u001b[0m in \u001b[0;36m<cell line: 1>\u001b[0;34m()\u001b[0m\n\u001b[0;32m----> <a href='vscode-notebook-cell:/Users/andreig2/python/udemy/python_for_machine_learning_and_data_science_masterclass/Section_01_Numpy/Section_01_Numpy_03_Operations.ipynb#ch0000017?line=0'>1</a>\u001b[0m \u001b[39m1\u001b[39;49m \u001b[39m/\u001b[39;49m \u001b[39m0\u001b[39;49m\n",
      "\u001b[0;31mZeroDivisionError\u001b[0m: division by zero"
     ]
    }
   ],
   "source": [
    "1 / 0"
   ]
  },
  {
   "cell_type": "markdown",
   "metadata": {},
   "source": [
    "Eroarea respectivă poartă denumirea de 'ZeroDivisionError' și prin intermediul acestei erori ni se spune că un număr nu poate fi împărțit la 0 (ceea ce este corect). NumPy în schimb nu o să returneze o eraore, ci o să returneze un avertisment. Codul o să funcționeze pentru restul valorilor dintr-un array, iar pentru situația cu împărțit la 0 o să treavă nan, adică Not a number value"
   ]
  },
  {
   "cell_type": "code",
   "execution_count": 7,
   "metadata": {},
   "outputs": [
    {
     "name": "stderr",
     "output_type": "stream",
     "text": [
      "/var/folders/25/wbp849wd23g71mfg09jwp7g88qjfs0/T/ipykernel_24577/3001117470.py:1: RuntimeWarning: invalid value encountered in true_divide\n",
      "  arr / arr\n"
     ]
    },
    {
     "data": {
      "text/plain": [
       "array([nan,  1.,  1.,  1.,  1.,  1.,  1.,  1.,  1.,  1.])"
      ]
     },
     "execution_count": 7,
     "metadata": {},
     "output_type": "execute_result"
    }
   ],
   "source": [
    "arr / arr"
   ]
  },
  {
   "cell_type": "markdown",
   "metadata": {},
   "source": [
    "Pe lângă aceste operații artitmetice, în NumPy există și o serie de funcții care pot fi aplicate la un array, funcții precum scoaterea de sub radical, funcții trigonometrice pentru unghiuri, logaritmi și alte funcții specifice"
   ]
  },
  {
   "cell_type": "code",
   "execution_count": 8,
   "metadata": {},
   "outputs": [
    {
     "data": {
      "text/plain": [
       "array([0.        , 1.        , 1.41421356, 1.73205081, 2.        ,\n",
       "       2.23606798, 2.44948974, 2.64575131, 2.82842712, 3.        ])"
      ]
     },
     "execution_count": 8,
     "metadata": {},
     "output_type": "execute_result"
    }
   ],
   "source": [
    "np.sqrt(arr)"
   ]
  },
  {
   "cell_type": "code",
   "execution_count": 9,
   "metadata": {},
   "outputs": [
    {
     "data": {
      "text/plain": [
       "array([ 1.        ,  0.54030231, -0.41614684, -0.9899925 , -0.65364362,\n",
       "        0.28366219,  0.96017029,  0.75390225, -0.14550003, -0.91113026])"
      ]
     },
     "execution_count": 9,
     "metadata": {},
     "output_type": "execute_result"
    }
   ],
   "source": [
    "np.cos(arr)"
   ]
  },
  {
   "cell_type": "code",
   "execution_count": 10,
   "metadata": {},
   "outputs": [
    {
     "name": "stderr",
     "output_type": "stream",
     "text": [
      "/var/folders/25/wbp849wd23g71mfg09jwp7g88qjfs0/T/ipykernel_24577/3120950136.py:1: RuntimeWarning: divide by zero encountered in log\n",
      "  np.log(arr)\n"
     ]
    },
    {
     "data": {
      "text/plain": [
       "array([      -inf, 0.        , 0.69314718, 1.09861229, 1.38629436,\n",
       "       1.60943791, 1.79175947, 1.94591015, 2.07944154, 2.19722458])"
      ]
     },
     "execution_count": 10,
     "metadata": {},
     "output_type": "execute_result"
    }
   ],
   "source": [
    "np.log(arr)"
   ]
  },
  {
   "cell_type": "markdown",
   "metadata": {},
   "source": [
    "O listă cu toate funcțiile universale ce pot fi apelate în NumPy se poate găsi la link-ul https://docs.scipy.org/doc/numpy-1.3.x/reference/ufuncs.html. Fiind un număr așa de mare de funcții, nu o să trecem prin fiecare în parte. În cadrul acestui curs nu o să utilizăm extrem de mult aceste funcții universale, ce o să utilizăm mai des reprezintă funcțiile referitoare la statistic pentru un anumit array (sau pentru un anumit set de date). Printre aceste metode specifice putem aminti metode care ne calculează suma tuturor valorilor dintr-un array, metode care ne calculează valorea medie dintr-un array, care ne extrag maximul dintr-un array sau care calculează deviația standard. Toate acestea sunt deja implementate în NumPy, nu mai trebuie să le creem de la 0 sau să le calculăm noi. În ceea ce privește deviația standard, o să învățăm mai multe despre aceasta în momentul în care o să avem de a face cu seturi de date reale."
   ]
  },
  {
   "cell_type": "code",
   "execution_count": 11,
   "metadata": {},
   "outputs": [
    {
     "data": {
      "text/plain": [
       "45"
      ]
     },
     "execution_count": 11,
     "metadata": {},
     "output_type": "execute_result"
    }
   ],
   "source": [
    "np.sum(arr)"
   ]
  },
  {
   "cell_type": "code",
   "execution_count": 12,
   "metadata": {},
   "outputs": [
    {
     "data": {
      "text/plain": [
       "4.5"
      ]
     },
     "execution_count": 12,
     "metadata": {},
     "output_type": "execute_result"
    }
   ],
   "source": [
    "np.mean(arr)"
   ]
  },
  {
   "cell_type": "code",
   "execution_count": 13,
   "metadata": {},
   "outputs": [
    {
     "data": {
      "text/plain": [
       "2.8722813232690143"
      ]
     },
     "execution_count": 13,
     "metadata": {},
     "output_type": "execute_result"
    }
   ],
   "source": [
    "arr.std()"
   ]
  },
  {
   "cell_type": "markdown",
   "metadata": {},
   "source": [
    "Ce anume trebuie să specificăm este componenta care face legătură la axe. Până în acest moment am efectuat operații doar pentru un array uni-dimensional. Să creem un array bi-dimensional pentru a putea vedea cum anume ne influențează această componentă de axe. O să creem inițial un array uni-dimensional după care o să ne folosim de metoda 'reshape()' pentru a transforma acel array într-un array bi-dimensional"
   ]
  },
  {
   "cell_type": "code",
   "execution_count": 14,
   "metadata": {},
   "outputs": [],
   "source": [
    "arr = np.arange(0, 25)"
   ]
  },
  {
   "cell_type": "code",
   "execution_count": 15,
   "metadata": {},
   "outputs": [
    {
     "data": {
      "text/plain": [
       "array([ 0,  1,  2,  3,  4,  5,  6,  7,  8,  9, 10, 11, 12, 13, 14, 15, 16,\n",
       "       17, 18, 19, 20, 21, 22, 23, 24])"
      ]
     },
     "execution_count": 15,
     "metadata": {},
     "output_type": "execute_result"
    }
   ],
   "source": [
    "arr"
   ]
  },
  {
   "cell_type": "code",
   "execution_count": 16,
   "metadata": {},
   "outputs": [],
   "source": [
    "arr2d = arr.reshape(5, 5)"
   ]
  },
  {
   "cell_type": "code",
   "execution_count": 17,
   "metadata": {},
   "outputs": [
    {
     "data": {
      "text/plain": [
       "array([[ 0,  1,  2,  3,  4],\n",
       "       [ 5,  6,  7,  8,  9],\n",
       "       [10, 11, 12, 13, 14],\n",
       "       [15, 16, 17, 18, 19],\n",
       "       [20, 21, 22, 23, 24]])"
      ]
     },
     "execution_count": 17,
     "metadata": {},
     "output_type": "execute_result"
    }
   ],
   "source": [
    "arr2d"
   ]
  },
  {
   "cell_type": "markdown",
   "metadata": {},
   "source": [
    "În acest moment avem un array bi-dimensional. Să utilizăm metoda 'sum()' pe acest array pentru a vedea ce rezultat o să avem."
   ]
  },
  {
   "cell_type": "code",
   "execution_count": 19,
   "metadata": {},
   "outputs": [
    {
     "data": {
      "text/plain": [
       "300"
      ]
     },
     "execution_count": 19,
     "metadata": {},
     "output_type": "execute_result"
    }
   ],
   "source": [
    "arr2d.sum()"
   ]
  },
  {
   "cell_type": "markdown",
   "metadata": {},
   "source": [
    "Pentru codul de mai sus, outputul reprezintă suma tuturor elementelor din array. Să ne imaginăm că dorim să avem acea sumă calculată pe coloane sau pe rânduri. Metoda 'sum()' are un parametru care poartă denumirea 'axis', iar pentru acesta putem să specificăm pe ce axă să se aplice această metodă. Acest parametru ia ca și argument o valoare integer, care poate fi 0 sau 1. Cum ne dăm seama ce reprezintă aceste valori?\n",
    "\n",
    "Atunci când utilizăm metoda 'reshape(5, 5)', primul număr reprezintă numărul de rânduri, iar al doilea reprezintă numărul de coloane. Prin urmare, valoare 0 pentru parametrul 'axis' reprezintă rândurile, iar valoarea 1 reprezintă coloanele."
   ]
  },
  {
   "cell_type": "code",
   "execution_count": 21,
   "metadata": {},
   "outputs": [
    {
     "data": {
      "text/plain": [
       "array([50, 55, 60, 65, 70])"
      ]
     },
     "execution_count": 21,
     "metadata": {},
     "output_type": "execute_result"
    }
   ],
   "source": [
    "arr2d.sum(axis=0)"
   ]
  },
  {
   "cell_type": "markdown",
   "metadata": {},
   "source": [
    "Când se utilizează parametrul 'axis=0', ceea ce reprezintă axa rândurilor, atunci NumPy o să ia fiecare element de pe fiecare rând dintr-o anumită coloană și o să le adune pe toate. De exemplu, rezultatul '50' de mai sus reprezintă elementele din coloana 0 adunate (0 + 5 + 10 + 15 + 20). Practic, se calculează valorile pe coloane atunci când se specifică axa pentru rânduri (ceea ce poate fi un pic confuz)"
   ]
  },
  {
   "cell_type": "code",
   "execution_count": 22,
   "metadata": {},
   "outputs": [
    {
     "data": {
      "text/plain": [
       "array([ 10,  35,  60,  85, 110])"
      ]
     },
     "execution_count": 22,
     "metadata": {},
     "output_type": "execute_result"
    }
   ],
   "source": [
    "arr2d.sum(axis=1)"
   ]
  },
  {
   "cell_type": "markdown",
   "metadata": {},
   "source": [
    "# Recapitulare"
   ]
  },
  {
   "cell_type": "markdown",
   "metadata": {},
   "source": [
    "În cadrul acestei părți am învățat următoarele lucruri:\n",
    "\n",
    "    1. Cum funcționează operațiile aritmetice cu arrays în NumPy\n",
    "\n",
    "        arr + 1 # adaugă valorea 1 la fiecare element în parte din array\n",
    "\n",
    "        arr + arr # adună elementele aflate pe același index, de aceea cele 2 array-uri trebuie să fie identice ca și dimensiune\n",
    "    \n",
    "    2. Împărțirea la 0 returnează un avertisment, nu o eroare. Restul codului o să funcționeze pentru celelelate valori din array, acolo unde se întâlnește 0 o să se pună valoarea 'nan'\n",
    "\n",
    "    3. Utilizarea funcțiilor universale din NumPy\n",
    "\n",
    "        np.sum(arr)\n",
    "\n",
    "        arr.std()\n",
    "\n",
    "        # ambele variante sunt acceptate și funcționează la fel\n",
    "\n",
    "    4. Utilizarea funcțiilor universale din NumPy pentru array-uri bi-dimensionale\n",
    "\n",
    "        arr2d.sum() # ia fiecare element în parte din array și îl adună\n",
    "\n",
    "        arr2d.sum(axis=0) # calculează suma elementelor pe coloane\n",
    "\n",
    "        arr2d.sum(axis=1) # calculează suma elementelor pe rânduri"
   ]
  },
  {
   "cell_type": "markdown",
   "metadata": {},
   "source": []
  }
 ],
 "metadata": {
  "kernelspec": {
   "display_name": "Python 3.9.12 ('base')",
   "language": "python",
   "name": "python3"
  },
  "language_info": {
   "codemirror_mode": {
    "name": "ipython",
    "version": 3
   },
   "file_extension": ".py",
   "mimetype": "text/x-python",
   "name": "python",
   "nbconvert_exporter": "python",
   "pygments_lexer": "ipython3",
   "version": "3.9.12"
  },
  "orig_nbformat": 4,
  "vscode": {
   "interpreter": {
    "hash": "40d3a090f54c6569ab1632332b64b2c03c39dcf918b08424e98f38b5ae0af88f"
   }
  }
 },
 "nbformat": 4,
 "nbformat_minor": 2
}
