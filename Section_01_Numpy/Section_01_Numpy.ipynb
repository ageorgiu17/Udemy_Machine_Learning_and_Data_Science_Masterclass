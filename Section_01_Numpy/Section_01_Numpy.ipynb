{
 "cells": [
  {
   "cell_type": "markdown",
   "metadata": {},
   "source": [
    "Prima librărie pe care o să o învățăm este 'numpy'. Aproape toate librăriile pe care le vom folosi în cadrul acestui tutorial sunt bazate pe 'numpy'. Scopul aceste secțiuni este să învățăm următoarele lucrui:\n",
    "\n",
    "-  Să înțelegem librăria numpy\n",
    "\n",
    "-  Să creem listte (arrays) utilizând numpy\n",
    "\n",
    "-  Să preluăm informații dintr-un array de numpy utilizând partea de slicing și de indexare\n",
    "\n",
    "-  Să învățăm operații basic de numpy"
   ]
  },
  {
   "cell_type": "markdown",
   "metadata": {},
   "source": [
    "### Ce anume este NumPy?"
   ]
  },
  {
   "cell_type": "markdown",
   "metadata": {},
   "source": [
    "NumPy este o librărie din Python utilizată pentru a crea N dimensional Arrays (liste de o dimensiune N). N dimensional Array înseamnă că aceste array-uri pot fi structurate ușor de la 1D la 2D, la 3D, la 4D etc. Ce este important pentru NumPy, este abilitatea de a difuza rapid funcții și are o mulțime de funcționalități deja create, precum algebră lineară, distribuție spațială, funcții trigonometrice."
   ]
  },
  {
   "cell_type": "markdown",
   "metadata": {},
   "source": [
    "Deși la primva vedere un array din NumPy este foarte asemănător cu o listă din Python, defapt aceste arrays sunt mult mai mult de atâta. Procedeul de a difuaz funcții pe permite să aplicăm o funcție pe un întreg data set foarte ușor și rapid."
   ]
  },
  {
   "cell_type": "markdown",
   "metadata": {},
   "source": [
    "# NumPy Arrays"
   ]
  },
  {
   "cell_type": "markdown",
   "metadata": {},
   "source": [
    "Există mai multe metode prin care putem crea un array în NumPy, dar o să ne focusăm doar pe trei\n",
    "\n",
    "-   transformarea unei liste din Python într-un array\n",
    "\n",
    "-  utilizarea unor funcții buit-in\n",
    "\n",
    "-  generarea de date random utilizând NumPy"
   ]
  },
  {
   "cell_type": "markdown",
   "metadata": {},
   "source": [
    " Pentru a putea utiliza librăria, aceasta trebui instalată și după importată. Pentru a instala librăria o să ne folosim de comanda pip"
   ]
  },
  {
   "cell_type": "raw",
   "metadata": {},
   "source": [
    "pip install numpy"
   ]
  },
  {
   "cell_type": "markdown",
   "metadata": {},
   "source": [
    "Prin convenție, importăm librărial NumPy sub denumirea de 'np'"
   ]
  },
  {
   "cell_type": "code",
   "execution_count": 2,
   "metadata": {},
   "outputs": [],
   "source": [
    "import numpy as np"
   ]
  },
  {
   "cell_type": "markdown",
   "metadata": {},
   "source": [
    "După ce am importat librăria NumPy să învățăm cum anume putem crea un array. Putem să creem un aray prim transformarea unei liste normale din Python"
   ]
  },
  {
   "cell_type": "code",
   "execution_count": 3,
   "metadata": {},
   "outputs": [],
   "source": [
    "mylist = [1, 2, 3]"
   ]
  },
  {
   "cell_type": "code",
   "execution_count": 4,
   "metadata": {},
   "outputs": [
    {
     "data": {
      "text/plain": [
       "list"
      ]
     },
     "execution_count": 4,
     "metadata": {},
     "output_type": "execute_result"
    }
   ],
   "source": [
    "type(mylist)"
   ]
  },
  {
   "cell_type": "markdown",
   "metadata": {},
   "source": [
    "Pentru a transforma o listă într-un array, o să utilizăm metoda `array()`. În cadrul acestei metode o să trecem lista respectivă"
   ]
  },
  {
   "cell_type": "code",
   "execution_count": 5,
   "metadata": {},
   "outputs": [
    {
     "data": {
      "text/plain": [
       "array([1, 2, 3])"
      ]
     },
     "execution_count": 5,
     "metadata": {},
     "output_type": "execute_result"
    }
   ],
   "source": [
    "np.array(mylist)"
   ]
  },
  {
   "cell_type": "markdown",
   "metadata": {},
   "source": [
    "Din output-ul de mai sus se poate observa faptul că acel obiect este acuma un array. Putem să salvăm codul de mai sus în cadrul unei variabiel și după să vedem ce tip de obiect este"
   ]
  },
  {
   "cell_type": "code",
   "execution_count": 6,
   "metadata": {},
   "outputs": [],
   "source": [
    "myarr = np.array(mylist)"
   ]
  },
  {
   "cell_type": "code",
   "execution_count": 7,
   "metadata": {},
   "outputs": [
    {
     "data": {
      "text/plain": [
       "numpy.ndarray"
      ]
     },
     "execution_count": 7,
     "metadata": {},
     "output_type": "execute_result"
    }
   ],
   "source": [
    "type(myarr)"
   ]
  },
  {
   "cell_type": "markdown",
   "metadata": {},
   "source": [
    "Putem să trecem și la nivelul următor, acela de a crea un vector bi dimensional (precum o matrice)"
   ]
  },
  {
   "cell_type": "code",
   "execution_count": 8,
   "metadata": {},
   "outputs": [],
   "source": [
    "mymatrix = [[1, 2, 3], [4, 5, 6], [7, 8, 9]]"
   ]
  },
  {
   "cell_type": "code",
   "execution_count": 9,
   "metadata": {},
   "outputs": [
    {
     "data": {
      "text/plain": [
       "[[1, 2, 3], [4, 5, 6], [7, 8, 9]]"
      ]
     },
     "execution_count": 9,
     "metadata": {},
     "output_type": "execute_result"
    }
   ],
   "source": [
    "mymatrix"
   ]
  },
  {
   "cell_type": "markdown",
   "metadata": {},
   "source": [
    "În acest moment, ceea se afișează este o listă care este formată din trei liste individuale. Putem să pasăm această listă ca și argument pentru metoda 'array()' ca să vedem ce anume se întâmplă."
   ]
  },
  {
   "cell_type": "code",
   "execution_count": 10,
   "metadata": {},
   "outputs": [
    {
     "data": {
      "text/plain": [
       "array([[1, 2, 3],\n",
       "       [4, 5, 6],\n",
       "       [7, 8, 9]])"
      ]
     },
     "execution_count": 10,
     "metadata": {},
     "output_type": "execute_result"
    }
   ],
   "source": [
    "np.array(mymatrix)"
   ]
  },
  {
   "cell_type": "markdown",
   "metadata": {},
   "source": [
    "Se poate observa că numpy are fundamentele stabilite și recunoaște faptul că lista respectivă este una bi-dimensională"
   ]
  },
  {
   "cell_type": "markdown",
   "metadata": {},
   "source": [
    "De cele mai multe ori nu o să avem foarte mult de a face cu partea de convertire de date într-un array din numpy, ci cel mai mult o să ne folosim de metodele existente în cadrul acestei librării. Să aruncăm o privire peste aceste librării."
   ]
  },
  {
   "cell_type": "markdown",
   "metadata": {},
   "source": [
    "### np.arange()"
   ]
  },
  {
   "cell_type": "markdown",
   "metadata": {},
   "source": [
    "Metoda respectivă este echivalentul din Python pentru 'range()'. Ca și argumente trebuie să îi oferim un punct de plecare, unul de sosire și opțional un step. Metoda o să retunreze un array cu valorile respective"
   ]
  },
  {
   "cell_type": "code",
   "execution_count": 11,
   "metadata": {},
   "outputs": [
    {
     "data": {
      "text/plain": [
       "array([0, 1, 2, 3, 4, 5, 6, 7, 8, 9])"
      ]
     },
     "execution_count": 11,
     "metadata": {},
     "output_type": "execute_result"
    }
   ],
   "source": [
    "np.arange(0, 10)"
   ]
  },
  {
   "cell_type": "code",
   "execution_count": 12,
   "metadata": {},
   "outputs": [
    {
     "data": {
      "text/plain": [
       "array([0, 2, 4, 6, 8])"
      ]
     },
     "execution_count": 12,
     "metadata": {},
     "output_type": "execute_result"
    }
   ],
   "source": [
    "np.arange(0, 10, 2)"
   ]
  },
  {
   "cell_type": "code",
   "execution_count": 13,
   "metadata": {},
   "outputs": [
    {
     "data": {
      "text/plain": [
       "array([ 0,  2,  4,  6,  8, 10])"
      ]
     },
     "execution_count": 13,
     "metadata": {},
     "output_type": "execute_result"
    }
   ],
   "source": [
    "np.arange(0, 11, 2)"
   ]
  },
  {
   "cell_type": "markdown",
   "metadata": {},
   "source": [
    "### np.zeros()"
   ]
  },
  {
   "cell_type": "markdown",
   "metadata": {},
   "source": [
    "Un caz foarte comun este acela de a crea un array foarte mare de date ce conțin valorile 0 și 1. Metoda ce va fi utilizată pentru acest scop este 'np.zeros()\n",
    "'"
   ]
  },
  {
   "cell_type": "code",
   "execution_count": 14,
   "metadata": {},
   "outputs": [
    {
     "data": {
      "text/plain": [
       "array([0., 0., 0., 0., 0.])"
      ]
     },
     "execution_count": 14,
     "metadata": {},
     "output_type": "execute_result"
    }
   ],
   "source": [
    "np.zeros(5)"
   ]
  },
  {
   "cell_type": "markdown",
   "metadata": {},
   "source": [
    "Comanda de mai sus creează un array one dimensional cu 5 valori de zero în cadrul acelui array. De reținut este faptul că această metodă creează valorile respective ca și valori de tipul float pentru a păstra o precizie mai bună. Dacă dorim să creem un array bi-dimensional, atunci ca și argument putem să trecem un tuple, unde prima valoare reprezintă numărul de râduri, iar a doua reprezintă numărul de coloane."
   ]
  },
  {
   "cell_type": "code",
   "execution_count": 15,
   "metadata": {},
   "outputs": [
    {
     "data": {
      "text/plain": [
       "array([[0., 0., 0., 0.],\n",
       "       [0., 0., 0., 0.],\n",
       "       [0., 0., 0., 0.],\n",
       "       [0., 0., 0., 0.],\n",
       "       [0., 0., 0., 0.]])"
      ]
     },
     "execution_count": 15,
     "metadata": {},
     "output_type": "execute_result"
    }
   ],
   "source": [
    "np.zeros((5, 4))"
   ]
  },
  {
   "cell_type": "code",
   "execution_count": null,
   "metadata": {},
   "outputs": [],
   "source": []
  }
 ],
 "metadata": {
  "kernelspec": {
   "display_name": "Python 3.9.12 ('base')",
   "language": "python",
   "name": "python3"
  },
  "language_info": {
   "codemirror_mode": {
    "name": "ipython",
    "version": 3
   },
   "file_extension": ".py",
   "mimetype": "text/x-python",
   "name": "python",
   "nbconvert_exporter": "python",
   "pygments_lexer": "ipython3",
   "version": "3.9.12"
  },
  "orig_nbformat": 4,
  "vscode": {
   "interpreter": {
    "hash": "40d3a090f54c6569ab1632332b64b2c03c39dcf918b08424e98f38b5ae0af88f"
   }
  }
 },
 "nbformat": 4,
 "nbformat_minor": 2
}
