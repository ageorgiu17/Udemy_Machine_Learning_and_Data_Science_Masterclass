{
 "cells": [
  {
   "cell_type": "markdown",
   "metadata": {},
   "source": [
    "# Scikit-Learn cross_validate"
   ]
  },
  {
   "cell_type": "markdown",
   "metadata": {},
   "source": [
    "Prin metoda corss_validate putem să ne uităm peste mai mulți metrici de performanță a modelului și de asemenea putem să vedem și cât timp a luat partea de antrenare și validare a modelului pentru fiecare validare în parte."
   ]
  },
  {
   "cell_type": "code",
   "execution_count": 1,
   "metadata": {},
   "outputs": [],
   "source": [
    "# importing the libraries\n",
    "import numpy as np\n",
    "import pandas as pd\n",
    "import matplotlib.pyplot as plt\n",
    "import seaborn as sns"
   ]
  },
  {
   "cell_type": "code",
   "execution_count": 2,
   "metadata": {},
   "outputs": [],
   "source": [
    "# read the data into a DataFrame\n",
    "df = pd.read_csv('../data/DATA/Advertising.csv')"
   ]
  },
  {
   "cell_type": "code",
   "execution_count": 3,
   "metadata": {},
   "outputs": [
    {
     "data": {
      "text/html": [
       "<div>\n",
       "<style scoped>\n",
       "    .dataframe tbody tr th:only-of-type {\n",
       "        vertical-align: middle;\n",
       "    }\n",
       "\n",
       "    .dataframe tbody tr th {\n",
       "        vertical-align: top;\n",
       "    }\n",
       "\n",
       "    .dataframe thead th {\n",
       "        text-align: right;\n",
       "    }\n",
       "</style>\n",
       "<table border=\"1\" class=\"dataframe\">\n",
       "  <thead>\n",
       "    <tr style=\"text-align: right;\">\n",
       "      <th></th>\n",
       "      <th>TV</th>\n",
       "      <th>radio</th>\n",
       "      <th>newspaper</th>\n",
       "      <th>sales</th>\n",
       "    </tr>\n",
       "  </thead>\n",
       "  <tbody>\n",
       "    <tr>\n",
       "      <th>0</th>\n",
       "      <td>230.1</td>\n",
       "      <td>37.8</td>\n",
       "      <td>69.2</td>\n",
       "      <td>22.1</td>\n",
       "    </tr>\n",
       "    <tr>\n",
       "      <th>1</th>\n",
       "      <td>44.5</td>\n",
       "      <td>39.3</td>\n",
       "      <td>45.1</td>\n",
       "      <td>10.4</td>\n",
       "    </tr>\n",
       "    <tr>\n",
       "      <th>2</th>\n",
       "      <td>17.2</td>\n",
       "      <td>45.9</td>\n",
       "      <td>69.3</td>\n",
       "      <td>9.3</td>\n",
       "    </tr>\n",
       "    <tr>\n",
       "      <th>3</th>\n",
       "      <td>151.5</td>\n",
       "      <td>41.3</td>\n",
       "      <td>58.5</td>\n",
       "      <td>18.5</td>\n",
       "    </tr>\n",
       "    <tr>\n",
       "      <th>4</th>\n",
       "      <td>180.8</td>\n",
       "      <td>10.8</td>\n",
       "      <td>58.4</td>\n",
       "      <td>12.9</td>\n",
       "    </tr>\n",
       "  </tbody>\n",
       "</table>\n",
       "</div>"
      ],
      "text/plain": [
       "      TV  radio  newspaper  sales\n",
       "0  230.1   37.8       69.2   22.1\n",
       "1   44.5   39.3       45.1   10.4\n",
       "2   17.2   45.9       69.3    9.3\n",
       "3  151.5   41.3       58.5   18.5\n",
       "4  180.8   10.8       58.4   12.9"
      ]
     },
     "execution_count": 3,
     "metadata": {},
     "output_type": "execute_result"
    }
   ],
   "source": [
    "# print the head of the data\n",
    "df.head()"
   ]
  },
  {
   "cell_type": "code",
   "execution_count": 4,
   "metadata": {},
   "outputs": [],
   "source": [
    "# importing the functions from sklearn\n",
    "from sklearn.model_selection import train_test_split\n",
    "from sklearn.linear_model import Ridge\n",
    "from sklearn.preprocessing import StandardScaler\n",
    "\n",
    "# split the data into Features and labels\n",
    "X = df.drop('sales', axis=1)\n",
    "y = df['sales']\n",
    "\n",
    "# split the data into train-test sets\n",
    "X_train, X_test, y_train, y_test = train_test_split(X, y, test_size=0.3, random_state=101)\n",
    "\n",
    "# create a scaler, fit the scaler and transform the data\n",
    "scaler = StandardScaler()\n",
    "scaler.fit(X_train)\n",
    "X_train = scaler.transform(X_train)\n",
    "X_test = scaler.transform(X_test)\n"
   ]
  },
  {
   "cell_type": "code",
   "execution_count": 5,
   "metadata": {},
   "outputs": [],
   "source": [
    "# create a model\n",
    "model = Ridge(alpha=100)"
   ]
  },
  {
   "cell_type": "markdown",
   "metadata": {},
   "source": [
    "După ce am preprocesat datele și am creat un model de Ridge Regression o să importăm metoda de cross_validate. Metoda se găsește în modulul de model_selection din sklearn"
   ]
  },
  {
   "cell_type": "code",
   "execution_count": 6,
   "metadata": {},
   "outputs": [],
   "source": [
    "from sklearn.model_selection import cross_validate"
   ]
  },
  {
   "cell_type": "markdown",
   "metadata": {},
   "source": [
    "Ce este diferit de metoda cross_val_score este faptul că pentru parametrul de scoring acum putem să oferim ca și valoare o listă de string-uri"
   ]
  },
  {
   "cell_type": "code",
   "execution_count": 7,
   "metadata": {},
   "outputs": [
    {
     "ename": "ValueError",
     "evalue": "'neg_mean_squared_error, neg_mean_aboslute_error' is not a valid scoring value. Use sorted(sklearn.metrics.SCORERS.keys()) to get valid options.",
     "output_type": "error",
     "traceback": [
      "\u001b[0;31m---------------------------------------------------------------------------\u001b[0m",
      "\u001b[0;31mKeyError\u001b[0m                                  Traceback (most recent call last)",
      "File \u001b[0;32m/opt/anaconda3/lib/python3.9/site-packages/sklearn/metrics/_scorer.py:404\u001b[0m, in \u001b[0;36mget_scorer\u001b[0;34m(scoring)\u001b[0m\n\u001b[1;32m    403\u001b[0m \u001b[39mtry\u001b[39;00m:\n\u001b[0;32m--> 404\u001b[0m     scorer \u001b[39m=\u001b[39m SCORERS[scoring]\n\u001b[1;32m    405\u001b[0m \u001b[39mexcept\u001b[39;00m \u001b[39mKeyError\u001b[39;00m:\n",
      "\u001b[0;31mKeyError\u001b[0m: 'neg_mean_squared_error, neg_mean_aboslute_error'",
      "\nDuring handling of the above exception, another exception occurred:\n",
      "\u001b[0;31mValueError\u001b[0m                                Traceback (most recent call last)",
      "\u001b[1;32m/Users/andreig2/python/udemy/python_for_machine_learning_and_data_science_masterclass/Section_09_Cross_Validation_and_Grid_Search/Section_09_Cross_Validation_and_Grid_Search_04_cross_validate.ipynb Cell 11\u001b[0m in \u001b[0;36m<cell line: 1>\u001b[0;34m()\u001b[0m\n\u001b[0;32m----> <a href='vscode-notebook-cell:/Users/andreig2/python/udemy/python_for_machine_learning_and_data_science_masterclass/Section_09_Cross_Validation_and_Grid_Search/Section_09_Cross_Validation_and_Grid_Search_04_cross_validate.ipynb#X24sZmlsZQ%3D%3D?line=0'>1</a>\u001b[0m scores \u001b[39m=\u001b[39m cross_validate(model, X_train, y_train, scoring\u001b[39m=\u001b[39;49m[\u001b[39m'\u001b[39;49m\u001b[39mneg_mean_squared_error, neg_mean_aboslute_error\u001b[39;49m\u001b[39m'\u001b[39;49m], cv\u001b[39m=\u001b[39;49m\u001b[39m10\u001b[39;49m)\n",
      "File \u001b[0;32m/opt/anaconda3/lib/python3.9/site-packages/sklearn/model_selection/_validation.py:262\u001b[0m, in \u001b[0;36mcross_validate\u001b[0;34m(estimator, X, y, groups, scoring, cv, n_jobs, verbose, fit_params, pre_dispatch, return_train_score, return_estimator, error_score)\u001b[0m\n\u001b[1;32m    260\u001b[0m     scorers \u001b[39m=\u001b[39m check_scoring(estimator, scoring)\n\u001b[1;32m    261\u001b[0m \u001b[39melse\u001b[39;00m:\n\u001b[0;32m--> 262\u001b[0m     scorers \u001b[39m=\u001b[39m _check_multimetric_scoring(estimator, scoring)\n\u001b[1;32m    264\u001b[0m \u001b[39m# We clone the estimator to make sure that all the folds are\u001b[39;00m\n\u001b[1;32m    265\u001b[0m \u001b[39m# independent, and that it is pickle-able.\u001b[39;00m\n\u001b[1;32m    266\u001b[0m parallel \u001b[39m=\u001b[39m Parallel(n_jobs\u001b[39m=\u001b[39mn_jobs, verbose\u001b[39m=\u001b[39mverbose, pre_dispatch\u001b[39m=\u001b[39mpre_dispatch)\n",
      "File \u001b[0;32m/opt/anaconda3/lib/python3.9/site-packages/sklearn/metrics/_scorer.py:554\u001b[0m, in \u001b[0;36m_check_multimetric_scoring\u001b[0;34m(estimator, scoring)\u001b[0m\n\u001b[1;32m    549\u001b[0m         \u001b[39melse\u001b[39;00m:\n\u001b[1;32m    550\u001b[0m             \u001b[39mraise\u001b[39;00m \u001b[39mValueError\u001b[39;00m(\n\u001b[1;32m    551\u001b[0m                 \u001b[39mf\u001b[39m\u001b[39m\"\u001b[39m\u001b[39m{\u001b[39;00merr_msg\u001b[39m}\u001b[39;00m\u001b[39m Non-string types were found \u001b[39m\u001b[39m\"\u001b[39m\n\u001b[1;32m    552\u001b[0m                 \u001b[39mf\u001b[39m\u001b[39m\"\u001b[39m\u001b[39min the given list. Got \u001b[39m\u001b[39m{\u001b[39;00mscoring\u001b[39m!r}\u001b[39;00m\u001b[39m\"\u001b[39m\n\u001b[1;32m    553\u001b[0m             )\n\u001b[0;32m--> 554\u001b[0m     scorers \u001b[39m=\u001b[39m {\n\u001b[1;32m    555\u001b[0m         scorer: check_scoring(estimator, scoring\u001b[39m=\u001b[39mscorer) \u001b[39mfor\u001b[39;00m scorer \u001b[39min\u001b[39;00m scoring\n\u001b[1;32m    556\u001b[0m     }\n\u001b[1;32m    557\u001b[0m \u001b[39melse\u001b[39;00m:\n\u001b[1;32m    558\u001b[0m     \u001b[39mraise\u001b[39;00m \u001b[39mValueError\u001b[39;00m(\u001b[39mf\u001b[39m\u001b[39m\"\u001b[39m\u001b[39m{\u001b[39;00merr_msg\u001b[39m}\u001b[39;00m\u001b[39m Empty list was given. \u001b[39m\u001b[39m{\u001b[39;00mscoring\u001b[39m!r}\u001b[39;00m\u001b[39m\"\u001b[39m)\n",
      "File \u001b[0;32m/opt/anaconda3/lib/python3.9/site-packages/sklearn/metrics/_scorer.py:555\u001b[0m, in \u001b[0;36m<dictcomp>\u001b[0;34m(.0)\u001b[0m\n\u001b[1;32m    549\u001b[0m         \u001b[39melse\u001b[39;00m:\n\u001b[1;32m    550\u001b[0m             \u001b[39mraise\u001b[39;00m \u001b[39mValueError\u001b[39;00m(\n\u001b[1;32m    551\u001b[0m                 \u001b[39mf\u001b[39m\u001b[39m\"\u001b[39m\u001b[39m{\u001b[39;00merr_msg\u001b[39m}\u001b[39;00m\u001b[39m Non-string types were found \u001b[39m\u001b[39m\"\u001b[39m\n\u001b[1;32m    552\u001b[0m                 \u001b[39mf\u001b[39m\u001b[39m\"\u001b[39m\u001b[39min the given list. Got \u001b[39m\u001b[39m{\u001b[39;00mscoring\u001b[39m!r}\u001b[39;00m\u001b[39m\"\u001b[39m\n\u001b[1;32m    553\u001b[0m             )\n\u001b[1;32m    554\u001b[0m     scorers \u001b[39m=\u001b[39m {\n\u001b[0;32m--> 555\u001b[0m         scorer: check_scoring(estimator, scoring\u001b[39m=\u001b[39;49mscorer) \u001b[39mfor\u001b[39;00m scorer \u001b[39min\u001b[39;00m scoring\n\u001b[1;32m    556\u001b[0m     }\n\u001b[1;32m    557\u001b[0m \u001b[39melse\u001b[39;00m:\n\u001b[1;32m    558\u001b[0m     \u001b[39mraise\u001b[39;00m \u001b[39mValueError\u001b[39;00m(\u001b[39mf\u001b[39m\u001b[39m\"\u001b[39m\u001b[39m{\u001b[39;00merr_msg\u001b[39m}\u001b[39;00m\u001b[39m Empty list was given. \u001b[39m\u001b[39m{\u001b[39;00mscoring\u001b[39m!r}\u001b[39;00m\u001b[39m\"\u001b[39m)\n",
      "File \u001b[0;32m/opt/anaconda3/lib/python3.9/site-packages/sklearn/metrics/_scorer.py:453\u001b[0m, in \u001b[0;36mcheck_scoring\u001b[0;34m(estimator, scoring, allow_none)\u001b[0m\n\u001b[1;32m    448\u001b[0m     \u001b[39mraise\u001b[39;00m \u001b[39mTypeError\u001b[39;00m(\n\u001b[1;32m    449\u001b[0m         \u001b[39m\"\u001b[39m\u001b[39mestimator should be an estimator implementing \u001b[39m\u001b[39m'\u001b[39m\u001b[39mfit\u001b[39m\u001b[39m'\u001b[39m\u001b[39m method, \u001b[39m\u001b[39m%r\u001b[39;00m\u001b[39m was passed\u001b[39m\u001b[39m\"\u001b[39m\n\u001b[1;32m    450\u001b[0m         \u001b[39m%\u001b[39m estimator\n\u001b[1;32m    451\u001b[0m     )\n\u001b[1;32m    452\u001b[0m \u001b[39mif\u001b[39;00m \u001b[39misinstance\u001b[39m(scoring, \u001b[39mstr\u001b[39m):\n\u001b[0;32m--> 453\u001b[0m     \u001b[39mreturn\u001b[39;00m get_scorer(scoring)\n\u001b[1;32m    454\u001b[0m \u001b[39melif\u001b[39;00m callable(scoring):\n\u001b[1;32m    455\u001b[0m     \u001b[39m# Heuristic to ensure user has not passed a metric\u001b[39;00m\n\u001b[1;32m    456\u001b[0m     module \u001b[39m=\u001b[39m \u001b[39mgetattr\u001b[39m(scoring, \u001b[39m\"\u001b[39m\u001b[39m__module__\u001b[39m\u001b[39m\"\u001b[39m, \u001b[39mNone\u001b[39;00m)\n",
      "File \u001b[0;32m/opt/anaconda3/lib/python3.9/site-packages/sklearn/metrics/_scorer.py:406\u001b[0m, in \u001b[0;36mget_scorer\u001b[0;34m(scoring)\u001b[0m\n\u001b[1;32m    404\u001b[0m         scorer \u001b[39m=\u001b[39m SCORERS[scoring]\n\u001b[1;32m    405\u001b[0m     \u001b[39mexcept\u001b[39;00m \u001b[39mKeyError\u001b[39;00m:\n\u001b[0;32m--> 406\u001b[0m         \u001b[39mraise\u001b[39;00m \u001b[39mValueError\u001b[39;00m(\n\u001b[1;32m    407\u001b[0m             \u001b[39m\"\u001b[39m\u001b[39m%r\u001b[39;00m\u001b[39m is not a valid scoring value. \u001b[39m\u001b[39m\"\u001b[39m\n\u001b[1;32m    408\u001b[0m             \u001b[39m\"\u001b[39m\u001b[39mUse sorted(sklearn.metrics.SCORERS.keys()) \u001b[39m\u001b[39m\"\u001b[39m\n\u001b[1;32m    409\u001b[0m             \u001b[39m\"\u001b[39m\u001b[39mto get valid options.\u001b[39m\u001b[39m\"\u001b[39m \u001b[39m%\u001b[39m scoring\n\u001b[1;32m    410\u001b[0m         )\n\u001b[1;32m    411\u001b[0m \u001b[39melse\u001b[39;00m:\n\u001b[1;32m    412\u001b[0m     scorer \u001b[39m=\u001b[39m scoring\n",
      "\u001b[0;31mValueError\u001b[0m: 'neg_mean_squared_error, neg_mean_aboslute_error' is not a valid scoring value. Use sorted(sklearn.metrics.SCORERS.keys()) to get valid options."
     ]
    }
   ],
   "source": [
    "scores = cross_validate(model, X_train, y_train, scoring=['neg_mean_squared_error, neg_mean_aboslute_error'], cv=10)"
   ]
  },
  {
   "cell_type": "code",
   "execution_count": null,
   "metadata": {},
   "outputs": [],
   "source": [
    "score"
   ]
  }
 ],
 "metadata": {
  "kernelspec": {
   "display_name": "Python 3.9.12 ('base')",
   "language": "python",
   "name": "python3"
  },
  "language_info": {
   "codemirror_mode": {
    "name": "ipython",
    "version": 3
   },
   "file_extension": ".py",
   "mimetype": "text/x-python",
   "name": "python",
   "nbconvert_exporter": "python",
   "pygments_lexer": "ipython3",
   "version": "3.9.12"
  },
  "orig_nbformat": 4,
  "vscode": {
   "interpreter": {
    "hash": "40d3a090f54c6569ab1632332b64b2c03c39dcf918b08424e98f38b5ae0af88f"
   }
  }
 },
 "nbformat": 4,
 "nbformat_minor": 2
}
