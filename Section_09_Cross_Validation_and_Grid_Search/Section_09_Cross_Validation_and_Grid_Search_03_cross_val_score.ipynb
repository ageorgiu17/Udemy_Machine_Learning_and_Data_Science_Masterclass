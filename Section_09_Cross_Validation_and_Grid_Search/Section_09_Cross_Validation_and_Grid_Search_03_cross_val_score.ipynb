{
 "cells": [
  {
   "cell_type": "markdown",
   "metadata": {},
   "source": [
    "# Scikit-Learn cross_val_score"
   ]
  },
  {
   "cell_type": "markdown",
   "metadata": {},
   "source": [
    "Urmează partea în care o să ne uităm peste metoda cross_val_score din Scikit-Learn ce ne permite să realizăm Cross Validation pentru orice model. Utilizând asta nu mai trebuie să ne facem griji dacă modelul respectiv are implementat sau nu partea de Cross Validation (precum are implementat Ridge și Lasso care au versiunea de CV - ce provine de la Cross Validation). Pentru început o să revizuim partea de Cross Validation (K-Fold cross-validation)"
   ]
  },
  {
   "cell_type": "markdown",
   "metadata": {},
   "source": [
    "Știm că pentru un set de date îl împărțim în set de date de train și test. Până în secțiunea aceasta am utilizat setul de testare și pentru partea de evaluare a performanței modelului, abia acuma am început să reținem o porțiune din setul de date pentru partea de evaluare a performanței (validation set). În ceea ce părivește cross-validation, prima dată este împărțit setul de date din nou în train-test set. Setul de testare este pus deoparte și nu trebuie să ne atingem de el. Cu ceea ce rămâne, adică setul de antrenare, trebuie să alegem o valoare pentru acel parametru de K-fold (în metoda de 'cross_val_score' poartă denumirea de cv). Acest parametru o să împartă setul de antrenare în atâtea părți câte îi oferim ca și valoare pentru acel parametru K-fold. Dacă îi oferim valorea 5 de exemmplu, atunci"
   ]
  }
 ],
 "metadata": {
  "kernelspec": {
   "display_name": "Python 3.10.5 64-bit",
   "language": "python",
   "name": "python3"
  },
  "language_info": {
   "name": "python",
   "version": "3.10.5"
  },
  "orig_nbformat": 4,
  "vscode": {
   "interpreter": {
    "hash": "aee8b7b246df8f9039afb4144a1f6fd8d2ca17a180786b69acc140d282b71a49"
   }
  }
 },
 "nbformat": 4,
 "nbformat_minor": 2
}
