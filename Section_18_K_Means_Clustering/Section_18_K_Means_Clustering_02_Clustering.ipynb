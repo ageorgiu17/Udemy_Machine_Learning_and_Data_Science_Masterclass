{
 "cells": [
  {
   "cell_type": "markdown",
   "metadata": {},
   "source": [
    "# Clustering"
   ]
  },
  {
   "attachments": {},
   "cell_type": "markdown",
   "metadata": {},
   "source": [
    "O să începem cu o discușție generală despre conceptul de Clustering (nu o să ne referim la algoritmul de K-Means Clustering, ci doar la Clustering în general).\n",
    "\n",
    "Clustering folosește date care nu au label pentru a căuta similarități între aceste date și încearcă să le grupeze în clustere (grupuri) în funcție de aceste similarități"
   ]
  },
  {
   "attachments": {},
   "cell_type": "markdown",
   "metadata": {},
   "source": [
    "Să zicem că avem un set de date care au valori doar pentru Features. Avem un set de date cu mai multe Features (X1, X2) și mai multe valori pentru aceste features"
   ]
  },
  {
   "attachments": {},
   "cell_type": "markdown",
   "metadata": {},
   "source": [
    "| X1 | X2 | \n",
    "| --- | --- |\n",
    "| 2   | 4 |\n",
    "| 6   | 3 |\n",
    "| ...   | ... |\n",
    "| 1   | 2 |"
   ]
  },
  {
   "attachments": {},
   "cell_type": "markdown",
   "metadata": {},
   "source": [
    "Ce putem să facem cu aceste valori este să le punem pe toate într-un grafic, într-un plot. Dacă le afișăm într-un grafic, acestea ar putea arăta ca în exemplul de mai jos:\n",
    "\n",
    "<img src = '../SS/clustering_01.png'>"
   ]
  },
  {
   "attachments": {},
   "cell_type": "markdown",
   "metadata": {},
   "source": [
    "Din acest grafic am putea distince trei grupuri separate (trei clustere). De menționat însă că nu știm exact dacă aceste date reprezintă trei grupuri separate sau nu. Conceptul de Clustering ne spune că punctele care sunt mai apropiate într-un anumit spațiu au o probabilitate mai mare să fie similare și le-am putea grupa în clustere"
   ]
  },
  {
   "attachments": {},
   "cell_type": "markdown",
   "metadata": {},
   "source": [
    "<img src='../SS/clustering_02.png'>"
   ]
  },
  {
   "attachments": {},
   "cell_type": "markdown",
   "metadata": {},
   "source": [
    "La final, datele o să arate ca și în graficul de mai sus unde s-au creat trei clustere (grupuri) de date."
   ]
  },
  {
   "attachments": {},
   "cell_type": "markdown",
   "metadata": {},
   "source": [
    "Ceea ce nu putem ști sigur în aceste cazuri este dacă această împărțire a datelor în clustere este cea corectă sau nu, iar asta apare deoarece nu avem acel Y label după care să ne dăm seama. În situația de față (cazul de mai sus) am utilizat doar două features și am putut să le facem un plot la acestea, dar știm că de cele mai multe ori o să avem un număr mai mare de features (3, 5, 7, .. etc) și nu o să putem să le facem plot la acele date. De asemenea pentru cazul de mai sus s-au ales trei clustere. de unde știm că acesta este numărul corect? Dacă defapt trebuia să împărțim datele doar în două cluster?"
   ]
  },
  {
   "attachments": {},
   "cell_type": "markdown",
   "metadata": {},
   "source": [
    "Ceea ce nu mai face acest concept de Clustering, acesta nu ne creează și label-ul pentru aceste date, chiar dacă suntem siguri că aceste numărul de clustere este cel corect, acest concept nu ne și creează label-urile pentru acestea. Conceptul doar o să ne dea numărul de grupuri, iar noi ca și Machine Learning Engineer sau Data Scientist o să trebuiască să ne uită prin date și să încercăm să găsim un label potrivit pentru aceste grupe"
   ]
  },
  {
   "attachments": {},
   "cell_type": "markdown",
   "metadata": {},
   "source": [
    "Putem să ne imaginăm acest concept de Clustering ca și o încercare de a descoperi label-uri pentru un set de date."
   ]
  },
  {
   "attachments": {},
   "cell_type": "markdown",
   "metadata": {},
   "source": [
    "Din moment ce nu avem aceeași modalitate de a verifica perfomanța unui model (nu avem metricile de squared error sau accuracy, precision) este destul de greu să comparăm două modele de Machine Learning care se ocupă cu partea de clustering."
   ]
  },
  {
   "cell_type": "markdown",
   "metadata": {},
   "source": []
  }
 ],
 "metadata": {
  "language_info": {
   "name": "python"
  },
  "orig_nbformat": 4
 },
 "nbformat": 4,
 "nbformat_minor": 2
}
