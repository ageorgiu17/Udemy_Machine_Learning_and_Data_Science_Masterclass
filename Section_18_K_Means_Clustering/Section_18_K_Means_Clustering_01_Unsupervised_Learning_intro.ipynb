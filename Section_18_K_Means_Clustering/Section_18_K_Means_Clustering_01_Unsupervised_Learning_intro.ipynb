{
 "cells": [
  {
   "attachments": {},
   "cell_type": "markdown",
   "metadata": {},
   "source": [
    "# Unsupervised Learning"
   ]
  },
  {
   "attachments": {},
   "cell_type": "markdown",
   "metadata": {},
   "source": [
    "O să ne focusăm în restul cursului pe partea de Unsupervised Learning. Până acuma la partea de Supervised Learning utilizam date care aveau un label și făceam predict la anumite date, iar ceea ce obținem ca și label la acest predict este fie o regresie (prețul unei case) sau o clasificare. Să vedem acum ce este Unsupervised Learning."
   ]
  },
  {
   "attachments": {},
   "cell_type": "markdown",
   "metadata": {},
   "source": [
    "Pentru un model de Unsupervised Learning o să folosim date care nu au label, iar asta înseamnă că nu știm care este răspunsul corect, ci o să trebuiască să descoperim anumite pattern-uri în aceste date, clustere sau alte componente. În ceea ce privește partea de Unsupervised Learning, și această categorie se împarte în două:\n",
    "\n",
    "1. Clustering\n",
    "\n",
    "    Folosim features pentru a împărți datele în Clustere\n",
    "\n",
    "2. Dimensionality Reduction\n",
    "\n",
    "    Folosește features pentru a le combina și a le reduce în mai puține componente"
   ]
  },
  {
   "attachments": {},
   "cell_type": "markdown",
   "metadata": {},
   "source": [
    "În ceea ce privește partea de Unsupervised Learning, aici ne folosim doar de Features, deoarece nu avem la dispoziție acel Y label, nu avem cu ce să comparăm ca să vedem dacă este rezultatul corect sau nu. Aici apare paradigma între Supervised și Unsupervised Machine Learning. Toți acei metrici din Supervised Learning nu ne mai ajută și în acest caz, trebuie să găsim alte metode de a verifica perfomanța unui model de Unsupervised Learning și o să vedem că o să ne și schimbăm percepția despre ce înseamnă performanța unui model pentru Unsupervised Learning."
   ]
  },
  {
   "attachments": {},
   "cell_type": "markdown",
   "metadata": {},
   "source": [
    "În ceea ce privește un model de Machine Learning pe partea de Unsupervised Learning o să începem aici și cu partea de colectare de date, o să fim nevoiți să curățăm datele respective, putem face un EDA la acele date, însă cam aici se oprește ceea ce am învățat până acuma. Nu putem să facem un split la date doarece nu o să avem date de testare. Ceea ce o să facem acuma o să căutăm anumite pattern-uri în datele respective"
   ]
  },
  {
   "cell_type": "markdown",
   "metadata": {},
   "source": []
  }
 ],
 "metadata": {
  "language_info": {
   "name": "python"
  },
  "orig_nbformat": 4
 },
 "nbformat": 4,
 "nbformat_minor": 2
}
