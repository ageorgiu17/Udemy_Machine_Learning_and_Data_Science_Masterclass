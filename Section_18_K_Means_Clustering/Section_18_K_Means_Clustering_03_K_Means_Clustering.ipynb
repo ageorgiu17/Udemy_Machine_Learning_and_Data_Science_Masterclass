{
 "cells": [
  {
   "cell_type": "markdown",
   "metadata": {},
   "source": [
    "# K Means Clustering"
   ]
  },
  {
   "attachments": {},
   "cell_type": "markdown",
   "metadata": {},
   "source": [
    "Cum anume funcționează algoritmul de K-Means Clustering? Conceptul de bază este destul de simplu. Pentru acest algoritm trebuie îndeplinite un set de proprietăți, și anume faptul că un punct trebuie neapărat să aparțină de un cluster (algoritmul nu acceptă ca anumite puncte să fie neclasificate) și că fiecare punct poate să aparțină unui singur cluster."
   ]
  },
  {
   "attachments": {},
   "cell_type": "markdown",
   "metadata": {},
   "source": [
    "Pentru exemplu o să utilizăm un set de valori care au două features deoarece acestea pot fi reprezentate într-un grafic."
   ]
  },
  {
   "attachments": {},
   "cell_type": "markdown",
   "metadata": {},
   "source": [
    "<img src='../SS/clustering_01.png'>"
   ]
  },
  {
   "attachments": {},
   "cell_type": "markdown",
   "metadata": {},
   "source": [
    "Avem datele de mai sus unde avem feature-urile y și x. Pentru început trebuie să ne decidem câte clustere dorim să avem la final. Acest lucru se face prin specificarea unei valori pentru hyperparametrul K și trebuie să facem acest lucru înainte de a rula modelul de clusterizare."
   ]
  },
  {
   "attachments": {},
   "cell_type": "markdown",
   "metadata": {},
   "source": [
    "O să alegem valoarea 3 pentru acest parametru. De menționat însă faptul că pentru proiectele reale nu o să putem vizualiza datele deloc, prin urmare trebuie să stabilim acest parametru fără a avea o reprezentare vizuală (ca și cea de sus) a datelor."
   ]
  },
  {
   "attachments": {},
   "cell_type": "markdown",
   "metadata": {},
   "source": [
    "După ce am ales valoarea 3 pentru acest parametru, algoritmul o să aleagă trei puncte distincte la întâmplare din setul de date și o să trateze aceste trei puncte ca și 'cluster points'. Punctele care rămân pe lângă aceste trei puncte ce reprezintă centrul clusterelor o să trebuiască să fie adăugate la unul dintre aceste trei clustere. Atribuirea la un cluster se va face prin apropiere, și anume un punct din setul de date o să fie trecut în clusterul de care este cel mai apropiat"
   ]
  },
  {
   "attachments": {},
   "cell_type": "markdown",
   "metadata": {},
   "source": [
    "Prin acest procedeu se creează trei clustere, dar din moment ce centrul acestora a fost ales la întâmplare există o foarte mare probabilitate ca punctele alese ca și centru să nu fie cele mai potrivite. Din cauza asta trebuie să iterăm prin acest algoritm pentru a găsi centrul ideal al fiecărui cluster. Pentru a face asta o să calculăm centrul pentru punctele clusterelor. Din punct de vedere matematic, fiecare punct din setul de date este un vector, iar pentru aceste puncte putem calcula o medie."
   ]
  },
  {
   "attachments": {},
   "cell_type": "markdown",
   "metadata": {},
   "source": [
    "Pentru fiecare din punctele dintr-un cluster o să calculăm meida și o să facem o medie pe baza fiecărui punct. Ceea ce rezultă este o valoare, valoare care o să reprezinte centrul clusterului. Pentru fiecare cluster o să realizăm această operație, prin urmare o să avem trei noi centre de cluster (aceste puncte care reprezintă noile centre de cluster nu există în realitate). Acum urmează partea de iterație unde o să luăm fiecare punct din setul de date și o să îl atribuim noile centre de clustere. Din moment ce acuma avem noi puncte centrale pentru clustere este probabil să avem puncte care înainte erau asignate într-un cluster, dar acuma sunt în altul. O să continuăm această iterație până ce numai există reasignare a punctelor în clustere diferite."
   ]
  },
  {
   "attachments": {},
   "cell_type": "markdown",
   "metadata": {},
   "source": [
    "Pentru acest algoritm apare întrebarea cum anume putem alege o valoarea potrivită pentru acel parametru K și cum am putea evalua cât de bine a rulat algoritmul cu acea valoare K?"
   ]
  },
  {
   "cell_type": "markdown",
   "metadata": {},
   "source": []
  }
 ],
 "metadata": {
  "kernelspec": {
   "display_name": "base",
   "language": "python",
   "name": "python3"
  },
  "language_info": {
   "codemirror_mode": {
    "name": "ipython",
    "version": 3
   },
   "file_extension": ".py",
   "mimetype": "text/x-python",
   "name": "python",
   "nbconvert_exporter": "python",
   "pygments_lexer": "ipython3",
   "version": "3.9.12"
  },
  "orig_nbformat": 4
 },
 "nbformat": 4,
 "nbformat_minor": 2
}
