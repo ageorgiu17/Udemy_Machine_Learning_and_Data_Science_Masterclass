{
 "cells": [
  {
   "cell_type": "markdown",
   "metadata": {},
   "source": [
    "# Matplotlib - Figure Parameters"
   ]
  },
  {
   "cell_type": "markdown",
   "metadata": {},
   "source": [
    "Până în acest moment am învățat cum anume să creem un obiect, să îi adăugăm un set de axe (sau mai multe) și să creem un plot. În continuare o să aruncăm o privire peste modul în care putem să modificăm anumiți parametri care țin de acest obiect, cum ar fi mărimea canvasului sau rezoluția acestuia (dpi = dots per pixel)"
   ]
  },
  {
   "cell_type": "markdown",
   "metadata": {},
   "source": []
  }
 ],
 "metadata": {
  "language_info": {
   "name": "python"
  },
  "orig_nbformat": 4
 },
 "nbformat": 4,
 "nbformat_minor": 2
}
