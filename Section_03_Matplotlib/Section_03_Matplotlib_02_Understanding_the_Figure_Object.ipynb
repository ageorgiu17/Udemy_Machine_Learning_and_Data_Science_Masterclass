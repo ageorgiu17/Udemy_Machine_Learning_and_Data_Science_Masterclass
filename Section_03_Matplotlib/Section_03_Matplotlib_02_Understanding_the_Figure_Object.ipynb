{
 "cells": [
  {
   "cell_type": "markdown",
   "metadata": {},
   "source": [
    "# Matplotlib - Understanding the Figure Object"
   ]
  },
  {
   "cell_type": "markdown",
   "metadata": {},
   "source": [
    "În prima parte a acestei secțiuni despre Matplotlib am creat un plot simplu pe baza funcțiilor. În cadrul acestei părți o să începem să creem plot-uri utilizând Figure Object (adică partea de OOP). Acest figure object la început este un simplu canvas care este gol, adăugăm axe la acest obiect după care facem plot la acele axe. Pentru a crea un astfel de obiect o să se utilizeze metoda 'plt.figure()'. Metoda aceasta nu o să creeze un plot până în momentul în care adăugăm axe la acest plot"
   ]
  },
  {
   "cell_type": "markdown",
   "metadata": {},
   "source": [
    "Când se utilizează metoda plt.figure() doar o să se creeze un canvas cu o anumită dimensiune, dar acest canvas este gol și nu este afișat. Să creem acest canvas"
   ]
  },
  {
   "cell_type": "code",
   "execution_count": 1,
   "metadata": {},
   "outputs": [],
   "source": [
    "import matplotlib.pyplot as plt"
   ]
  },
  {
   "cell_type": "code",
   "execution_count": 2,
   "metadata": {},
   "outputs": [
    {
     "data": {
      "text/plain": [
       "<Figure size 432x288 with 0 Axes>"
      ]
     },
     "execution_count": 2,
     "metadata": {},
     "output_type": "execute_result"
    },
    {
     "data": {
      "text/plain": [
       "<Figure size 432x288 with 0 Axes>"
      ]
     },
     "metadata": {},
     "output_type": "display_data"
    }
   ],
   "source": [
    "plt.figure()"
   ]
  },
  {
   "cell_type": "markdown",
   "metadata": {},
   "source": [
    "După cum am specificat, acest canvas nu se poate vizualiza momentan, primim doar informații despre mărimea acestui canvas (432x288) și faptul că nu are nicio axă. Putem să modificăm mărimea acestui canvas. Pentru asta, fiind un obiect putem să îi specificăm la construcție atributul care se ocupă de partea de mărime a canvasului. Acest atribut poartă denumirea de 'figsize' și o să îi atribuim o tuplă de valori (valorile respective reprezintă mărimea în inch)"
   ]
  },
  {
   "cell_type": "code",
   "execution_count": 3,
   "metadata": {},
   "outputs": [
    {
     "data": {
      "text/plain": [
       "<Figure size 720x720 with 0 Axes>"
      ]
     },
     "execution_count": 3,
     "metadata": {},
     "output_type": "execute_result"
    },
    {
     "data": {
      "text/plain": [
       "<Figure size 720x720 with 0 Axes>"
      ]
     },
     "metadata": {},
     "output_type": "display_data"
    }
   ],
   "source": [
    "plt.figure(figsize=(10, 10))"
   ]
  },
  {
   "cell_type": "markdown",
   "metadata": {},
   "source": [
    "În acest moment putem oberva faptul că mărimea acestui canvas s-a mărit la 720x720 pixeli"
   ]
  },
  {
   "cell_type": "markdown",
   "metadata": {},
   "source": [
    "De cele mai multe ori, acest obiect o să fie salvat într-o nouă variabilă, deoarece asupra acelei variabile o să apelăm anumite funcții specifice"
   ]
  },
  {
   "cell_type": "code",
   "execution_count": 4,
   "metadata": {},
   "outputs": [
    {
     "data": {
      "text/plain": [
       "<Figure size 432x288 with 0 Axes>"
      ]
     },
     "metadata": {},
     "output_type": "display_data"
    }
   ],
   "source": [
    "fig = plt.figure()"
   ]
  },
  {
   "cell_type": "markdown",
   "metadata": {},
   "source": [
    "O metodă pe care trebuie să o apelăm este metoda 'add_axes([])'. Această metodă ia ca și argmuente patru valori, valori care reprezintă bottom-left și upper-right ale unui canvas. Metoda respectivă din nou o să o atribuim unei variabile. Asupra acelei variabile după o să utilizăm metoda 'plot()' pentru a crea un plot după anumite date"
   ]
  },
  {
   "cell_type": "code",
   "execution_count": 5,
   "metadata": {},
   "outputs": [],
   "source": [
    "axes = fig.add_axes([0, 0, 1, 1])"
   ]
  },
  {
   "cell_type": "code",
   "execution_count": 6,
   "metadata": {},
   "outputs": [
    {
     "data": {
      "text/plain": [
       "[]"
      ]
     },
     "execution_count": 6,
     "metadata": {},
     "output_type": "execute_result"
    }
   ],
   "source": [
    "axes.plot()"
   ]
  },
  {
   "cell_type": "markdown",
   "metadata": {},
   "source": [
    "Prim metoda fig.add_axes() putem să adăugăm mai multe axe într-un canvas, astfel încât să avem mai multe grafice în același canvas (deși nu este ceva se utilizează foarte des, există opțiunea asta. Pentru a adăuga mai multe grafice se utilizează sub ploturi). Acestea sunt conceptele de bază pentru a crea ploturi utilizând un Figure Object din matplotlib. O să începem să și creem acete ploturi. Pentru asta o să avem nevoie de date."
   ]
  },
  {
   "cell_type": "code",
   "execution_count": 7,
   "metadata": {},
   "outputs": [],
   "source": [
    "import numpy as np"
   ]
  },
  {
   "cell_type": "code",
   "execution_count": 8,
   "metadata": {},
   "outputs": [],
   "source": [
    "a = np.linspace(0, 10, 11)"
   ]
  },
  {
   "cell_type": "code",
   "execution_count": 9,
   "metadata": {},
   "outputs": [],
   "source": [
    "b = a ** 4"
   ]
  },
  {
   "cell_type": "code",
   "execution_count": 10,
   "metadata": {},
   "outputs": [
    {
     "data": {
      "text/plain": [
       "array([ 0.,  1.,  2.,  3.,  4.,  5.,  6.,  7.,  8.,  9., 10.])"
      ]
     },
     "execution_count": 10,
     "metadata": {},
     "output_type": "execute_result"
    }
   ],
   "source": [
    "a"
   ]
  },
  {
   "cell_type": "code",
   "execution_count": 11,
   "metadata": {},
   "outputs": [
    {
     "data": {
      "text/plain": [
       "array([0.000e+00, 1.000e+00, 1.600e+01, 8.100e+01, 2.560e+02, 6.250e+02,\n",
       "       1.296e+03, 2.401e+03, 4.096e+03, 6.561e+03, 1.000e+04])"
      ]
     },
     "execution_count": 11,
     "metadata": {},
     "output_type": "execute_result"
    }
   ],
   "source": [
    "b"
   ]
  },
  {
   "cell_type": "code",
   "execution_count": 12,
   "metadata": {},
   "outputs": [],
   "source": [
    "x = np.arange(0, 10)"
   ]
  },
  {
   "cell_type": "code",
   "execution_count": 13,
   "metadata": {},
   "outputs": [],
   "source": [
    "y = 2 * x"
   ]
  },
  {
   "cell_type": "code",
   "execution_count": 14,
   "metadata": {},
   "outputs": [
    {
     "data": {
      "text/plain": [
       "array([0, 1, 2, 3, 4, 5, 6, 7, 8, 9])"
      ]
     },
     "execution_count": 14,
     "metadata": {},
     "output_type": "execute_result"
    }
   ],
   "source": [
    "x"
   ]
  },
  {
   "cell_type": "code",
   "execution_count": 15,
   "metadata": {},
   "outputs": [
    {
     "data": {
      "text/plain": [
       "array([ 0,  2,  4,  6,  8, 10, 12, 14, 16, 18])"
      ]
     },
     "execution_count": 15,
     "metadata": {},
     "output_type": "execute_result"
    }
   ],
   "source": [
    "y"
   ]
  },
  {
   "cell_type": "markdown",
   "metadata": {},
   "source": [
    "O să reparcurgem toate etapele de mai sus pentru a crea un plot utilizând Figure Object. Pentru început trebuie să creem din nou variabila fig la care să îi atribuim ca și valoare obiectul de tip Figure"
   ]
  },
  {
   "cell_type": "code",
   "execution_count": 16,
   "metadata": {},
   "outputs": [
    {
     "data": {
      "text/plain": [
       "<Figure size 432x288 with 0 Axes>"
      ]
     },
     "metadata": {},
     "output_type": "display_data"
    }
   ],
   "source": [
    "fig = plt.figure()"
   ]
  },
  {
   "cell_type": "markdown",
   "metadata": {},
   "source": [
    "Următorul pas este de a adăuga acel set de axe pentru canvas-ul respectiv, set de axe ce o să fie adăugat utilizând metoda 'add_axes()'"
   ]
  },
  {
   "cell_type": "code",
   "execution_count": 17,
   "metadata": {},
   "outputs": [
    {
     "data": {
      "image/png": "[encoded data removed]",
      "text/plain": [
       "<Figure size 432x288 with 1 Axes>"
      ]
     },
     "metadata": {
      "needs_background": "light"
     },
     "output_type": "display_data"
    }
   ],
   "source": [
    "fig = plt.figure()\n",
    "axes = fig.add_axes([0, 0, 1, 1])"
   ]
  },
  {
   "cell_type": "markdown",
   "metadata": {},
   "source": [
    "Abia în acest moment ne este afișat acel canvas cu axele respective. În cadrul acestor axe putem să creem acel plot. Pentru a crea un plot o să fim nevoiți ca pentru variabila axes să apelăm metoda 'plot'. Acestei metode o să îi oferim ca și argumente două seturi de date pe baza căruia dorim să creeze acel plot"
   ]
  },
  {
   "cell_type": "code",
   "execution_count": 21,
   "metadata": {},
   "outputs": [
    {
     "data": {
      "text/plain": [
       "[<matplotlib.lines.Line2D at 0x7f9d60cef3d0>]"
      ]
     },
     "execution_count": 21,
     "metadata": {},
     "output_type": "execute_result"
    },
    {
     "data": {
      "image/png": "[encoded data removed]",
      "text/plain": [
       "<Figure size 432x288 with 1 Axes>"
      ]
     },
     "metadata": {
      "needs_background": "light"
     },
     "output_type": "display_data"
    }
   ],
   "source": [
    "fig = plt.figure()\n",
    "axes = fig.add_axes([0, 0, 1, 1])\n",
    "axes.plot(x, y)"
   ]
  },
  {
   "cell_type": "markdown",
   "metadata": {},
   "source": [
    "Se poate observa că acum avem acele date din x și y sub forma unui plot. După cum am specificat, la acest obiect de tip Figure putem să adăugăm mai multe axe pentru a crea mai multe plot-uri în cadrul aceluiași canvas. În continuare o să mai adăugăm un set de axe (de data asta o să fie mai mici, nu o să ocupe tot canvas-ul) unde o să facem un plot pentru un alt set de date (variabilele a și b)"
   ]
  },
  {
   "cell_type": "code",
   "execution_count": 31,
   "metadata": {},
   "outputs": [
    {
     "data": {
      "text/plain": [
       "[<matplotlib.lines.Line2D at 0x7f9d63f3fa60>]"
      ]
     },
     "execution_count": 31,
     "metadata": {},
     "output_type": "execute_result"
    },
    {
     "data": {
      "image/png": "[encoded data removed]",
      "text/plain": [
       "<Figure size 432x288 with 2 Axes>"
      ]
     },
     "metadata": {
      "needs_background": "light"
     },
     "output_type": "display_data"
    }
   ],
   "source": [
    "fig = plt.figure()\n",
    "\n",
    "# LARGE AXES\n",
    "axes1 = fig.add_axes([0, 0, 1, 1])\n",
    "axes1.plot(x, y)\n",
    "\n",
    "# SMALL AXES\n",
    "axes2 = fig.add_axes([0.1, 0.6, 0.4, 0.4])\n",
    "axes2.plot(a, b)"
   ]
  },
  {
   "cell_type": "markdown",
   "metadata": {},
   "source": [
    "Cel mai bun mod de a vedea cum anume funcționează parametrii din metoda add_axes() este să încercăm diferite combinații și să vedem unde anume ne setează acele axe în cadrul canvasului cu care lucrăm"
   ]
  },
  {
   "cell_type": "markdown",
   "metadata": {},
   "source": [
    "În acest moment, având două axe cu valori diferite care dețin informații diferite trebuie să aibă denumiri diferite în ceea ce privește partea de label și de title. În cazul acesta trebuie să setăm valori diferite pentru fiecare label. Pentru a face asta, la fiecare axă avem varianta de a seta aceste informații separat. Pentru a seta de exemplu titlul, o să utilizăm metoda 'set_title()' asupra uneia dintre axele din canvas (axis1.set_title()). Metodele de setare de label, titul și limite sunt identice cu cele utilizate pentru 'plt', singura diferență este că acestea au 'set_' în față"
   ]
  },
  {
   "cell_type": "code",
   "execution_count": 32,
   "metadata": {},
   "outputs": [
    {
     "data": {
      "text/plain": [
       "Text(0, 0.5, 'Y axis for small plot')"
      ]
     },
     "execution_count": 32,
     "metadata": {},
     "output_type": "execute_result"
    },
    {
     "data": {
      "image/png": "[encoded data removed]",
      "text/plain": [
       "<Figure size 432x288 with 2 Axes>"
      ]
     },
     "metadata": {
      "needs_background": "light"
     },
     "output_type": "display_data"
    }
   ],
   "source": [
    "fig = plt.figure()\n",
    "\n",
    "# LARGE AXES\n",
    "axes1 = fig.add_axes([0, 0, 1, 1])\n",
    "axes1.plot(x, y)\n",
    "axes1.set_title('Linear plot for X and Y')\n",
    "axes1.set_xlabel('X axis for large plot')\n",
    "axes1.set_ylabel('Y axis for large plot')\n",
    "\n",
    "# SMALL AXES\n",
    "axes2 = fig.add_axes([0.1, 0.6, 0.4, 0.4])\n",
    "axes2.plot(a, b)\n",
    "axes2.set_title('Linear plot for A and B')\n",
    "axes2.set_xlabel('X axis for small plot')\n",
    "axes2.set_ylabel('Y axis for small plot')"
   ]
  },
  {
   "cell_type": "markdown",
   "metadata": {},
   "source": [
    "## Recapitulare"
   ]
  },
  {
   "cell_type": "markdown",
   "metadata": {},
   "source": [
    "În cadrul acestui tutorial am învățat următoarele lucruri:\n",
    "\n",
    "    1. Cum putem să creem un obiect de tipul Figure Object pentru a crea plot-uri\n",
    "\n",
    "        fig = plt.figure()\n",
    "\n",
    "    2. Cum putem să adăugăm un set de axe pentru acest obiect\n",
    "\n",
    "        fig = plt.figure()\n",
    "\n",
    "        axes = fig.add_axes([0, 0, 1, 1])\n",
    "\n",
    "    3. Cum să creem un plot pentru aceste axe adăugate în obiect\n",
    "\n",
    "        fig = plt.figure()\n",
    "\n",
    "        axes = fig.add_axes([0, 0, 1, 1])\n",
    "\n",
    "        axes.plot(x, y)\n",
    "\n",
    "    4. Cum putem să adăugăm mai multe axe pentru un obiect\n",
    "\n",
    "        fig = plt.figure()\n",
    "\n",
    "        axes1 = fig.add_axes([0, 0, 1, 1])\n",
    "\n",
    "        axes2 = fig.add_axes([0.1, 0.6, 0.4, 0.4])\n",
    "\n",
    "        axes1.plot(x, y)\n",
    "\n",
    "        axes2.plot(a, b)\n",
    "\n",
    "    5. Cum putem să adăugăm titlu, label-uri sau limite pentru fiecare axă în parte\n",
    "\n",
    "        fig = plt.figure()\n",
    "\n",
    "        axes1 = fig.add_axes([0, 0, 1, 1])\n",
    "\n",
    "        axes1.set_title('First set of axis')\n",
    "\n",
    "        axes2 = fig.add_axes([0.1, 0.6, 0.4, 0.4])\n",
    "\n",
    "        axes2.set_xlabel('X axis for the second set of axis')\n",
    "\n",
    "        axes1.plot(x, y)\n",
    "\n",
    "        axes2.plot(a, b)\n"
   ]
  },
  {
   "cell_type": "markdown",
   "metadata": {},
   "source": []
  }
 ],
 "metadata": {
  "kernelspec": {
   "display_name": "Python 3.9.12 ('base')",
   "language": "python",
   "name": "python3"
  },
  "language_info": {
   "codemirror_mode": {
    "name": "ipython",
    "version": 3
   },
   "file_extension": ".py",
   "mimetype": "text/x-python",
   "name": "python",
   "nbconvert_exporter": "python",
   "pygments_lexer": "ipython3",
   "version": "3.9.12"
  },
  "orig_nbformat": 4,
  "vscode": {
   "interpreter": {
    "hash": "40d3a090f54c6569ab1632332b64b2c03c39dcf918b08424e98f38b5ae0af88f"
   }
  }
 },
 "nbformat": 4,
 "nbformat_minor": 2
}
