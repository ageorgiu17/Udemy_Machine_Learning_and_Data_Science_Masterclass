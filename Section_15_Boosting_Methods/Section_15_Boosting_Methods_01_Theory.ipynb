{
 "cells": [
  {
   "attachments": {},
   "cell_type": "markdown",
   "metadata": {},
   "source": [
    "# Boosting Methods"
   ]
  },
  {
   "attachments": {},
   "cell_type": "markdown",
   "metadata": {},
   "source": [
    "În secțiunile precedente ne-am uitat peste algoritmul de DecisionTree și peste o metodă prin care putem îmbunătăți acel model utilizând ceea ce este cunoscut ca și Random Forest, model care folosește un ansamblu de modele de tipul Decision Tree. Mai există și o altă metodă de a îmbunătăți acel model de Decision Tree prin ceea ce poartă denumirea de 'Boosting Methods'."
   ]
  },
  {
   "attachments": {},
   "cell_type": "markdown",
   "metadata": {},
   "source": [
    "Acest concept de boosting nu reprezintă un algoritm de Machine Learning. Acesta poate fi considerat ca și o metodologie ce poate fi aplicată la un model de Machine Learning care deja există. Totuși această metodologie este cea mai potrivită să fie aplicată pentru un model de tip Decision Tree. Când vorbim despre boosting ne referim la adunarea mai multor 'weak learners' într-un model mai puternic. Această metodologie sugerează faptul că o combinație de estimatori (algoritmi de Machinea Learning) cu un anumit coeficient aplicat pentru fiecare estimator ar putea să fie folosit ca un singur estimator care să aibă o performanță mai bună."
   ]
  },
  {
   "attachments": {},
   "cell_type": "markdown",
   "metadata": {},
   "source": [
    "## ADA Boosting (Adaptive Boosting)"
   ]
  },
  {
   "attachments": {},
   "cell_type": "markdown",
   "metadata": {},
   "source": [
    "ADA Boosting funcționează cun un ansamblu de 'weak learners' pe care mai apoi îi combină folosind suma ponderată (weighted sum). În mare parte funcționează prin utilizarea unui weak learner precedent pentru a adapta misclasificarea instanțelor pentru estimatorul curent. Spre deosebire de Random Forest unde se creează acei Decision Tree în paralel, ADA Boosting creează acești estimatori în serie. De aici provine și denumirea de Adaptive Boosting, deoarece adaptăm un model în funcție de modelul precedent"
   ]
  },
  {
   "attachments": {},
   "cell_type": "markdown",
   "metadata": {},
   "source": [
    "Un weak learner este un model prea simplu pentru a performa bine pe un anumit set de date. Pentru Decison Tree un astfel de weak model (weak learner) este un model care are doar un singure Node și două Leaf Node. Spre deosebire de un singur Decision Tree care este antrenat pe toate Features din setul de date (fitting the data hard), conceptul de boosting agregează acea multitudine de weak learners într-un ansambul de model. Asta îi permite acelui ansamblu de modele să învețe încet din Features pe care le are setul de date deoarece trebuie să construim un model de Decision Tree pentru a putea să îl construiască pe următorul, astfel învățând pe parcurs."
   ]
  },
  {
   "attachments": {},
   "cell_type": "markdown",
   "metadata": {},
   "source": [
    "Spre deosebire de RandomForest, Adaptive Boosting face posibilă partea de overfit, dar ar fi nevoie de extrem de multe modele de Decision Tree pentru a se ajunge la asta"
   ]
  },
  {
   "cell_type": "markdown",
   "metadata": {},
   "source": []
  }
 ],
 "metadata": {
  "kernelspec": {
   "display_name": "base",
   "language": "python",
   "name": "python3"
  },
  "language_info": {
   "name": "python",
   "version": "3.9.12"
  },
  "orig_nbformat": 4,
  "vscode": {
   "interpreter": {
    "hash": "40d3a090f54c6569ab1632332b64b2c03c39dcf918b08424e98f38b5ae0af88f"
   }
  }
 },
 "nbformat": 4,
 "nbformat_minor": 2
}
