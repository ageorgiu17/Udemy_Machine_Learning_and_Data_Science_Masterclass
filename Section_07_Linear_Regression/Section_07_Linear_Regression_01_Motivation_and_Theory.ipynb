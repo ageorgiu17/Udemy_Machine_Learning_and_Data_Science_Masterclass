{
 "cells": [
  {
   "cell_type": "markdown",
   "metadata": {},
   "source": [
    "# Linear Regression - Theory and Motivation"
   ]
  },
  {
   "cell_type": "markdown",
   "metadata": {},
   "source": [
    "Nevoia pentru un astfel de algoritm de Linear Regression a apărut pentru a îmbunătăți navigația bazată pe astronomie în decursul anilor 1700 și 1800. Să încercăm să înțelegem acest algoritm. O relație liniară (Linear Regression) implică o relație constatntă în linie dreaptă. Cel mai simplu exemplu este atunci când avem două array-uri care sunt egale.\n",
    "\n",
    "- x = [1, 2, 3]\n",
    "\n",
    "- y = [1, 2, 3]"
   ]
  },
  {
   "cell_type": "markdown",
   "metadata": {},
   "source": [
    "În acest exemplu simplu, x este egal cu y (x = y). Dacă în cadrul array-ului x se adaugă valoarea 1.5, atunci putem să prezicem că pentru acea valoare, y o să aibă valoarea 1.5 deoarece algoritmul pe care se bazează este x = y. În cazul datelor din lumea reală, aceste date nu o să aibă o asemenea corelație, prin urmare trebuie să decidem unde anume trebuie să tragem linia respectivă. Putem să ne imagină aici un scatterplot (cu care am mai tot lucrat) unde de multe ori am văzut că datele sunt răsfirate, nu există o asemenea corelație între date."
   ]
  },
  {
   "cell_type": "markdown",
   "metadata": {},
   "source": [
    "## Linear Regression OLS Theory"
   ]
  },
  {
   "cell_type": "markdown",
   "metadata": {},
   "source": [
    "OLS provine de la Ordinary Least Squares și este o tehnică comună de estimare a coeficienților într-o ecuație de regresie liniară care descrie relația dintre una sau mai multe variabile cantitative și o variabilă dependentă. Least square provinde la eroarea pătratică minimă (minimun square error). Ecuația unei linii drepte este următoare:\n",
    "\n",
    "y = mx + b\n",
    "\n",
    "- m = panta \n",
    "\n",
    "- b = intercepția cu axa y"
   ]
  },
  {
   "cell_type": "markdown",
   "metadata": {},
   "source": [
    "În cadrul acestei ecuații există loc doar pentru un anumit feature, și anume pentru x. Problema este că atunci când o să avem anumite featers multiple pe baza cărora să facem predicția atunci trebuie să folosim o anumită tehnică denumită 'gradient descent'. În continuare o să vedem cum anume putem să transformă un set de date într-o notație matematică pentru o regresie liniară. După asta o să rezolvăm un simplu caz pentru un anumit feature pentru a explora partea de OLS după care o să folosim și gradient descent pentru mai multe features. "
   ]
  },
  {
   "cell_type": "markdown",
   "metadata": {},
   "source": [
    "O regresie liniară ne permite să construim o relație între mai multe features pentru a face o estimare "
   ]
  },
  {
   "cell_type": "markdown",
   "metadata": {},
   "source": [
    "| Area m2 | Bedrooms | Bathrooms | Price |\n",
    "| --- | --- | --- | --- |\n",
    "| 200   | 3 | 2 | 500.000 $|\n",
    "| 190   | 2 | 1 | 450.000 $|\n",
    "| 230   | 3 | 3 | 650.000 $|\n",
    "| 180   | 1 | 1 | 400.000 $|\n",
    "| 210   | 2 | 2 | 550.000 $|"
   ]
  },
  {
   "cell_type": "markdown",
   "metadata": {},
   "source": [
    "O să luăm acest data set și o să încercăm să îl translatăm cât de bine reușim într-o formă cât mai generală pentru regresia liniară. Deoarece am zis că este o notație matematică, nu o să mai folosim denumirea de bedrooms, bathrooms, o să le notăm cu X, deoarece după cum se știe X reprezintă partea de Features. Pentru partea de label o să schimbăm denumirea din 'price' în y"
   ]
  },
  {
   "cell_type": "markdown",
   "metadata": {},
   "source": [
    "| X1 | X2 | X3 | y |\n",
    "| --- | --- | --- | --- |\n",
    "| 200   | 3 | 2 | 500.000 $|\n",
    "| 190   | 2 | 1 | 450.000 $|\n",
    "| 230   | 3 | 3 | 650.000 $|\n",
    "| 180   | 1 | 1 | 400.000 $|\n",
    "| 210   | 2 | 2 | 550.000 $|"
   ]
  },
  {
   "cell_type": "markdown",
   "metadata": {},
   "source": [
    "Instanțele fiecărui Features o să le redenumin din nou cu notații matematice și o să arate în acest fel:"
   ]
  },
  {
   "cell_type": "markdown",
   "metadata": {},
   "source": [
    "| X1 | X2 | X3 | y |\n",
    "| --- | --- | --- | --- |\n",
    "| X1 - 1   | X2 - 1 | X3 - 1 | y - 1 |\n",
    "| X1 - 2   | X2 - 2 | X3 - 2 | y - 2 |\n",
    "| X1 - 3   | X2 - 3 | X3 - 3 | y - 3 |\n",
    "| X1 - 4   | X2 - 4 | X3 - 4 | y - 4 |\n",
    "| X1 - 5   | X2 - 5 | X3 - 5 | y - 5 |"
   ]
  },
  {
   "cell_type": "markdown",
   "metadata": {},
   "source": [
    "Am făcut acest lucru deoarece dorim să ajungem la o formă generală de regresie liniară, de asta nu contează dacă ținem sau nu cont de datele din tabel. Pentru partea de notație trebuie să știm features cu care lucrăm și ceea ce dorim să prezicem, adică labels, prin urmare ne-am putea folosi doar de denumirea features, nu și de datele acestora"
   ]
  },
  {
   "cell_type": "markdown",
   "metadata": {},
   "source": [
    "| X1 | X2 | X3 | y |\n",
    "| --- | --- | --- | --- |"
   ]
  },
  {
   "cell_type": "markdown",
   "metadata": {},
   "source": [
    "Pentru a face referire mai ușor la ecuația linii drepte putem să interschimbăm X cu y"
   ]
  },
  {
   "cell_type": "markdown",
   "metadata": {},
   "source": [
    "| y | X1 | X1 | X3 |\n",
    "| --- | --- | --- | --- |"
   ]
  },
  {
   "cell_type": "markdown",
   "metadata": {},
   "source": [
    "În continuare ce putem să facem este să zicem că fiecare feature are un anumit coeficient (de cele mai multe ori denumit beta) și astfel avem forma generală pentru o regresie liniară"
   ]
  },
  {
   "cell_type": "markdown",
   "metadata": {},
   "source": [
    "ŷ = β0X0 + ... + βnXn"
   ]
  },
  {
   "cell_type": "markdown",
   "metadata": {},
   "source": [
    "În esență, predicția pentru valorea y trebuie să fie egală cu o anumită combinație liniară unde avem un coeficient beta pentru primul feature, un alt coeficient beta pentru al doilea feature și tot așa"
   ]
  },
  {
   "cell_type": "markdown",
   "metadata": {},
   "source": [
    "Pentru problemele simple unde avem doar un singur feature putem să rezolvăm valoarea pentru beta cu o soluție analitică. În cazul în care avem mai multe features cu care trebuie să lucrăm, atunci avem nevoie de un gradient descent. O să trecem prin exemplul cu un singur feature și o să utilizăm OLS (Ordinary Least Square)"
   ]
  },
  {
   "cell_type": "markdown",
   "metadata": {},
   "source": [
    "AICI SE MAI POATE VERIFICA DIN NOU VIDEO-UL CARE ȚINE DE PARTEA DE EXPLICARE"
   ]
  },
  {
   "cell_type": "markdown",
   "metadata": {},
   "source": [
    "### Cost function"
   ]
  },
  {
   "cell_type": "markdown",
   "metadata": {},
   "source": []
  }
 ],
 "metadata": {
  "kernelspec": {
   "display_name": "Python 3.10.5 64-bit",
   "language": "python",
   "name": "python3"
  },
  "language_info": {
   "name": "python",
   "version": "3.10.5"
  },
  "orig_nbformat": 4,
  "vscode": {
   "interpreter": {
    "hash": "aee8b7b246df8f9039afb4144a1f6fd8d2ca17a180786b69acc140d282b71a49"
   }
  }
 },
 "nbformat": 4,
 "nbformat_minor": 2
}
