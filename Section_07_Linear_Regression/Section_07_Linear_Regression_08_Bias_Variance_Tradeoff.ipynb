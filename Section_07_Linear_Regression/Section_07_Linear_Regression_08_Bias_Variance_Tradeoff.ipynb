{
 "cells": [
  {
   "cell_type": "markdown",
   "metadata": {},
   "source": [
    "# Bias-Variance Tradeoff - Overfitting vs. Underfitting the data"
   ]
  },
  {
   "cell_type": "markdown",
   "metadata": {},
   "source": [
    "În partea trecută am văzut că acel model de Polynomial Regression este mai bun decât cel de Linear Regression. Acum apare întrebarea cum anume putem alege cei mai buni parametrii pentru un model? Următorul pas ar fi de a alege cei mai buni parametrii pentru un anumit model. Momentan nu putem modifica ceva la modelul de Linear Regression, dar putem modifica nivelul ecuației pentru acel Polynomial Feature (ecuație de gradul 2, 3, 4, 5, etc.) Cum anume se decide care este cel mai bun grad pentru ecuația respectivă"
   ]
  },
  {
   "cell_type": "markdown",
   "metadata": {},
   "source": [
    "Aici intră în discuție partea de Bias-Variance Tradeofff (sau Overfitting vs. Underfitting). Acest concept este extrem de important pentru toți algoritmii  din categoria de Supervised din Machine Learning. Ce anume înseamnă asta?"
   ]
  },
  {
   "cell_type": "markdown",
   "metadata": {},
   "source": [
    "Am văzut că un model de Polynomial Regression are o performanță mai bună decât un model de Linear Regression. Cum anume decidem gradul ecuației respective? Alegem o ecuație de gradul 2, 3, 4? Ce ne oprește să mergem până la o ecuație care are un grad extrem de mare? La ce trebuie să ne așteptăm atunci când creștem complexitatea unui model?"
   ]
  },
  {
   "cell_type": "markdown",
   "metadata": {},
   "source": [
    "În general. creșterea complexității unui model de Machine Learning conduce la ceea ce se numește Bias-Variance Tradeoff. Dorim să avem un model care are o performanță bună pe datele pe care nu le-a văzut, dar dorim să ca acest model să recunoască anumite pattern-uri pe datele pe care a fost antrenat. Un bias sau variance mare pot duce la creare de modele greșite, care au o performanță mai slabă. Aceste concepte se pot vizualiza prin considerentul cum că un model face Overfit (varainace mare )la date sau Underfit (bias mare)."
   ]
  },
  {
   "cell_type": "markdown",
   "metadata": {},
   "source": [
    "### Overfitting"
   ]
  },
  {
   "cell_type": "markdown",
   "metadata": {},
   "source": [
    "În situația de overfit, modelul antrenează (fit) prea mult zgomot (noise) din datele pe care le primește. În acest caz se produc erori mici pe datele de antrenare, dar erori mari pentru datele de testare sau validare. Din cauza asta de cele mai multe ori este extrem de greu să ne dăm seama că un anumit model face Overfit la date, deoarece are o performanță extrem de bună la datele de antrenare."
   ]
  },
  {
   "cell_type": "markdown",
   "metadata": {},
   "source": [
    "<img src='../SS/good_fit.png'>"
   ]
  },
  {
   "cell_type": "markdown",
   "metadata": {},
   "source": [
    "Să presupunem că avem situația de mai sus unde avem un model care face fit la datele respective. Linia respectivă este una bună pentru datele respective, iar atunci când se primesc noi date, teoretic modelul o să generalizeze bine noile instanțe și o să facă predicții bune. Ce anume se întâmplă atunci când modelul face Overfit la date? În acest caz, atunci graph-ul o să arate ceva de genul:"
   ]
  },
  {
   "cell_type": "markdown",
   "metadata": {},
   "source": [
    "<img src='../SS/overfit.png'>"
   ]
  },
  {
   "cell_type": "markdown",
   "metadata": {},
   "source": [
    "Atunci când un model face overfit, atunci un model o să ia prea mult zgomot (noise) din datele de antrenare și o să facă overfit la date. Care este totuși eroarea pentru acest caz? Din moment ce atinge aparoape fiecare punct din acel graph, eroarea este aproape de 0. Din cauza asta este foarte greu de a prezice dacă un model face overfit la date, deoarece putem crede doar că are o performanță extrem de bună. În momentul în care se primesc date noi, atunci o să avem o eroare mare, însă eroarea aceasta o să apară doar pe datele de testare sau atunci când este în producție, ceea ce nu este bine."
   ]
  },
  {
   "cell_type": "markdown",
   "metadata": {},
   "source": [
    "Din aceste cauze este bine să folosim concepte precum Cross validation (peste care o să ne utiăm în viitor), să împărțim și mai mult setul de date cu care se lucrează pentru a avea și un set de validare sau să aruncăm o privire peste erorile pentru datele de antrenare și peste erorile din datele de testare."
   ]
  },
  {
   "cell_type": "markdown",
   "metadata": {},
   "source": [
    "## Underfitting"
   ]
  },
  {
   "cell_type": "markdown",
   "metadata": {},
   "source": [
    "Opusul acestui comportament este reprezentat de Underfitting. Acest comportament apare atunci când un model nu face fit bine la setul de date pe care este antrenat și este de obicei rezultatul unui model prea simplu. Graficul pentru Underfit arată ceva de genul:"
   ]
  },
  {
   "cell_type": "markdown",
   "metadata": {},
   "source": [
    "<img src='../SS/underfit.png'>"
   ]
  },
  {
   "cell_type": "markdown",
   "metadata": {},
   "source": [
    "Undefitting = high bias/ low variance\n",
    "\n",
    "Overfitting = low bias/ high variance"
   ]
  },
  {
   "cell_type": "markdown",
   "metadata": {},
   "source": [
    "Comportamentul de Overfitting poate duce la performanțe slabe atât pentru datele de antrenare cât și pentru cele de testare. De obicei este mai ușor de identificat decât comportamentul de Overfitting."
   ]
  },
  {
   "cell_type": "markdown",
   "metadata": {},
   "source": [
    "Exemplele de mai sus se potrivesc doar când avem de lucru cu un singur feature din setul de date. Atunci când există un număr mai mare de features, această vizualizare nu este posibilă. Pentru a vedea dacă un model face Overfit sau Underfit la date, atunci trebuie să facem un plot între eroare rezultată și complexitatea modelului."
   ]
  },
  {
   "cell_type": "markdown",
   "metadata": {},
   "source": [
    "Ce înseamnă parte de complexitate a modelului? Atunci când un model este mai complex (pentru un Polynomial regression are o valoare mai mare pentru parametrul de degree, iar pentru un alt model atunci ne referim la partea de tunare a modelului prin hyperparametrii) eroarea ar trebuie să fie tot mai mică. Aceasta este situația cea mai dorită (pe măsură ce creștem gradul ecuației, eroarea o să scadă). Un model slab se comportă invers, atunci când se crește complexitatea, eroarea crește și ea. Să vedem comportamentul în cazul în care s-a împărțit setul de date în train set și test set"
   ]
  },
  {
   "cell_type": "markdown",
   "metadata": {},
   "source": [
    "<img src='../SS/tradeoff.png'>"
   ]
  },
  {
   "cell_type": "markdown",
   "metadata": {},
   "source": [
    "În situația de mai sus avem explicate cazurile de mai sus. Cu linia albastră este prezentată corelația dintre Error și Model Complexity. Un model ar trebui să aibă o eraore tot mai mică atunci când se crește complexitatea acestuia. Cu linia portocalie este reprezentată corelația dintre Error și Model Complexity pentru datele de testare. Până la linia punctată cu roșu avem un model care este bun, unde este cam aceași corelație între eroare și complexitate atât pe datele de antrenare, cât și pe cele de testare. După ce se trece de acea linie se poate observa că eraorea pentru datele de testare crește semnificativ, ceea ce înseamnă că modelul realizează un Overfit la date."
   ]
  },
  {
   "cell_type": "markdown",
   "metadata": {},
   "source": [
    "De multe ori acea diferență dintre eroare și model complexity pentru datele de testare va exista o explozie dintr-o dată pentru această corelație, nu o să fie o creștere graduală."
   ]
  },
  {
   "cell_type": "markdown",
   "metadata": {},
   "source": [
    "Acum că am înțeles ce anume reprezintă conceptul de Bias-Variance Tradeoff putem să ne întoarce la modelul nostru de Polynomial Regression și să modificăm complexitatea acestui algoritm (adică să modificăm gradul ecuației). O să vedem cum anume putem să alegem complexitatea optimă pentru acest model și o să facem asta prin vizulizarea măsurării corelației dintre complexitatea modelului și eroare care o retunrează acel model. O să trebuiască să ne uităm peste această eroare atât pentru datele de antrenare cât și pentru cele de testare pentru a verifica dacă modelul face un Overfit la date sau nu."
   ]
  },
  {
   "cell_type": "markdown",
   "metadata": {},
   "source": [
    "Să refacem din nou acel model de Polynomial Regression"
   ]
  },
  {
   "cell_type": "code",
   "execution_count": 1,
   "metadata": {},
   "outputs": [],
   "source": [
    "# importing the libraries\n",
    "import numpy as np\n",
    "import pandas as pd\n",
    "import matplotlib.pyplot as plt\n",
    "import seaborn as sns"
   ]
  },
  {
   "cell_type": "code",
   "execution_count": 2,
   "metadata": {},
   "outputs": [],
   "source": [
    "# read the date into a DataFrame\n",
    "df = pd.read_csv('../data/08-Linear-Regression-Models/Advertising.csv')"
   ]
  },
  {
   "cell_type": "code",
   "execution_count": 3,
   "metadata": {},
   "outputs": [
    {
     "data": {
      "text/html": [
       "<div>\n",
       "<style scoped>\n",
       "    .dataframe tbody tr th:only-of-type {\n",
       "        vertical-align: middle;\n",
       "    }\n",
       "\n",
       "    .dataframe tbody tr th {\n",
       "        vertical-align: top;\n",
       "    }\n",
       "\n",
       "    .dataframe thead th {\n",
       "        text-align: right;\n",
       "    }\n",
       "</style>\n",
       "<table border=\"1\" class=\"dataframe\">\n",
       "  <thead>\n",
       "    <tr style=\"text-align: right;\">\n",
       "      <th></th>\n",
       "      <th>TV</th>\n",
       "      <th>radio</th>\n",
       "      <th>newspaper</th>\n",
       "      <th>sales</th>\n",
       "    </tr>\n",
       "  </thead>\n",
       "  <tbody>\n",
       "    <tr>\n",
       "      <th>0</th>\n",
       "      <td>230.1</td>\n",
       "      <td>37.8</td>\n",
       "      <td>69.2</td>\n",
       "      <td>22.1</td>\n",
       "    </tr>\n",
       "    <tr>\n",
       "      <th>1</th>\n",
       "      <td>44.5</td>\n",
       "      <td>39.3</td>\n",
       "      <td>45.1</td>\n",
       "      <td>10.4</td>\n",
       "    </tr>\n",
       "    <tr>\n",
       "      <th>2</th>\n",
       "      <td>17.2</td>\n",
       "      <td>45.9</td>\n",
       "      <td>69.3</td>\n",
       "      <td>9.3</td>\n",
       "    </tr>\n",
       "    <tr>\n",
       "      <th>3</th>\n",
       "      <td>151.5</td>\n",
       "      <td>41.3</td>\n",
       "      <td>58.5</td>\n",
       "      <td>18.5</td>\n",
       "    </tr>\n",
       "    <tr>\n",
       "      <th>4</th>\n",
       "      <td>180.8</td>\n",
       "      <td>10.8</td>\n",
       "      <td>58.4</td>\n",
       "      <td>12.9</td>\n",
       "    </tr>\n",
       "  </tbody>\n",
       "</table>\n",
       "</div>"
      ],
      "text/plain": [
       "      TV  radio  newspaper  sales\n",
       "0  230.1   37.8       69.2   22.1\n",
       "1   44.5   39.3       45.1   10.4\n",
       "2   17.2   45.9       69.3    9.3\n",
       "3  151.5   41.3       58.5   18.5\n",
       "4  180.8   10.8       58.4   12.9"
      ]
     },
     "execution_count": 3,
     "metadata": {},
     "output_type": "execute_result"
    }
   ],
   "source": [
    "# printing the head of the data\n",
    "df.head()"
   ]
  },
  {
   "cell_type": "code",
   "execution_count": 5,
   "metadata": {},
   "outputs": [],
   "source": [
    "# Separating the Features from labels\n",
    "X = df.drop(columns='sales')\n",
    "y = df['sales']"
   ]
  },
  {
   "cell_type": "code",
   "execution_count": 6,
   "metadata": {},
   "outputs": [],
   "source": [
    "# importing the methods needed from sklearn to create a Polynomial Feature\n",
    "from sklearn.preprocessing import PolynomialFeatures"
   ]
  },
  {
   "cell_type": "code",
   "execution_count": 7,
   "metadata": {},
   "outputs": [],
   "source": [
    "# create an instance of the PolynomialFeatures\n",
    "polynomial_converter = PolynomialFeatures(degree=2, include_bias=False)"
   ]
  },
  {
   "cell_type": "code",
   "execution_count": 12,
   "metadata": {},
   "outputs": [],
   "source": [
    "# Fit and transform the data\n",
    "polynomial_features = polynomial_converter.fit_transform(X)"
   ]
  },
  {
   "cell_type": "code",
   "execution_count": 9,
   "metadata": {},
   "outputs": [
    {
     "data": {
      "text/plain": [
       "array([[ 230.1 ,   37.8 ,   69.2 , ..., 1428.84, 2615.76, 4788.64],\n",
       "       [  44.5 ,   39.3 ,   45.1 , ..., 1544.49, 1772.43, 2034.01],\n",
       "       [  17.2 ,   45.9 ,   69.3 , ..., 2106.81, 3180.87, 4802.49],\n",
       "       ...,\n",
       "       [ 177.  ,    9.3 ,    6.4 , ...,   86.49,   59.52,   40.96],\n",
       "       [ 283.6 ,   42.  ,   66.2 , ..., 1764.  , 2780.4 , 4382.44],\n",
       "       [ 232.1 ,    8.6 ,    8.7 , ...,   73.96,   74.82,   75.69]])"
      ]
     },
     "execution_count": 9,
     "metadata": {},
     "output_type": "execute_result"
    }
   ],
   "source": [
    "polynomial_features"
   ]
  },
  {
   "cell_type": "code",
   "execution_count": 10,
   "metadata": {},
   "outputs": [],
   "source": [
    "# importing the methods needed from sklearn to create a model, train the model and evaluate the model\n",
    "from sklearn.model_selection import train_test_split\n",
    "from sklearn.linear_model import LinearRegression\n",
    "from sklearn.metrics import mean_absolute_error, mean_squared_error"
   ]
  },
  {
   "cell_type": "code",
   "execution_count": 11,
   "metadata": {},
   "outputs": [],
   "source": [
    "# creating an instance of the model\n",
    "model = LinearRegression()"
   ]
  },
  {
   "cell_type": "code",
   "execution_count": 13,
   "metadata": {},
   "outputs": [],
   "source": [
    "# split the data into train set and test set\n",
    "X_train, X_test, y_train, y_test = train_test_split(polynomial_features, y, test_size=0.3, random_state=101)"
   ]
  },
  {
   "cell_type": "code",
   "execution_count": 14,
   "metadata": {},
   "outputs": [
    {
     "data": {
      "text/plain": [
       "LinearRegression()"
      ]
     },
     "execution_count": 14,
     "metadata": {},
     "output_type": "execute_result"
    }
   ],
   "source": [
    "# train the model\n",
    "model.fit(X_train, y_train)"
   ]
  },
  {
   "cell_type": "code",
   "execution_count": 15,
   "metadata": {},
   "outputs": [],
   "source": [
    "# making predictions\n",
    "y_pred = model.predict(X_test)"
   ]
  },
  {
   "cell_type": "code",
   "execution_count": 16,
   "metadata": {},
   "outputs": [],
   "source": [
    "# evaluating the model\n",
    "MAE = mean_absolute_error(y_test, y_pred)\n",
    "MSE = mean_squared_error(y_test, y_pred)\n",
    "RMSE = np.sqrt(MSE)"
   ]
  },
  {
   "cell_type": "code",
   "execution_count": 17,
   "metadata": {},
   "outputs": [
    {
     "name": "stdout",
     "output_type": "stream",
     "text": [
      "MAE = 0.48967980448037\n",
      "MSE = 0.4417505510403648\n",
      "RMSE = 0.6646431757269196\n"
     ]
    }
   ],
   "source": [
    "# printing the errors metrics\n",
    "print(f'MAE = {MAE}')\n",
    "print(f'MSE = {MSE}')\n",
    "print(f'RMSE = {RMSE}')"
   ]
  },
  {
   "cell_type": "markdown",
   "metadata": {},
   "source": [
    "Întrebarea este dacă avem cum să îmbunătățim performanța acestui model dacă se crește gradul ecuației pentru PolynomialFeatures"
   ]
  },
  {
   "cell_type": "markdown",
   "metadata": {},
   "source": [
    "Putem să creem o buclă pentru fiecare grad al ecuație pe care îl dorim, să antrenăm datele respective, să calculăm eroarile pentru setul de date de antrenare și test și să vedem unde anume începe partea de Overfit la date. Care sunt pașii pentru această buclă?\n",
    "\n",
    "- crearea a diferite graduri pentru ecuația respectivă\n",
    "\n",
    "- împărțirea datelor rezultate după transformare în train-test\n",
    "\n",
    "- antrenarea modelului pe datele de antrenare\n",
    "\n",
    "- salvăm erorile pentru train set și test set\n",
    "\n",
    "- afișăm rezultatele"
   ]
  },
  {
   "cell_type": "code",
   "execution_count": 18,
   "metadata": {},
   "outputs": [],
   "source": [
    "train_rmse_errors = []\n",
    "test_rmse_errors = []\n",
    "\n",
    "for degree in range(1, 10):\n",
    "\n",
    "    poly_converter = PolynomialFeatures(degree=degree, include_bias=False)\n",
    "    poly_features = poly_converter.fit_transform(X)\n",
    "\n",
    "    X_train, X_test, y_train, y_test = train_test_split(poly_features, y, test_size=0.3, random_state=101)\n",
    "\n",
    "    model = LinearRegression()\n",
    "    model.fit(X_train, y_train)\n",
    "\n",
    "    y_pred_train = model.predict(X_train)\n",
    "    y_pred_test = model.predict(X_test)\n",
    "\n",
    "    train_rmse = np.sqrt(mean_squared_error(y_train, y_pred_train))\n",
    "    test_rmse = np.sqrt(mean_squared_error(y_test, y_pred_test))\n",
    "    \n",
    "    train_rmse_errors.append(train_rmse)\n",
    "    test_rmse_errors.append(test_rmse)"
   ]
  },
  {
   "cell_type": "markdown",
   "metadata": {},
   "source": [
    "Ce anume am făcut în bucla de mai sus, am creat features cu o ecuație polynomială de un anumit grad, am împărțit datele în train_test, creat un model, am făcut predicții atât pentru datele de antrenare cât și pentru cele de test și am salvat erorile (RMSE) pentru acele predicții. Acum putem să vizualizăm erorile pentru fiecare grad de ecuație în parte"
   ]
  },
  {
   "cell_type": "code",
   "execution_count": 19,
   "metadata": {},
   "outputs": [
    {
     "data": {
      "text/plain": [
       "[1.734594124329376,\n",
       " 0.5879574085292233,\n",
       " 0.4339344356902067,\n",
       " 0.35170836883993495,\n",
       " 0.2509342951990972,\n",
       " 0.1971254009841768,\n",
       " 5.421422348088462,\n",
       " 0.1426544837726474,\n",
       " 0.16675345956185658]"
      ]
     },
     "execution_count": 19,
     "metadata": {},
     "output_type": "execute_result"
    }
   ],
   "source": [
    "train_rmse_errors"
   ]
  },
  {
   "cell_type": "markdown",
   "metadata": {},
   "source": [
    "Se poate observa că eroare de RMSE pentru datele de antrenare tot scade pe măsură ce crește gradul ecuației (cu excepție pentru acea valoare extrem de mare). În teorie, cu cât complexitatea crește, eroarea scade. valoarea aceea extrem de mare ne indică faptul că după acea valoare de obicei există un Overfit la date. Acest lucru se obseră și mai bine în cazul erorilor pentru setul de testare."
   ]
  },
  {
   "cell_type": "code",
   "execution_count": 20,
   "metadata": {},
   "outputs": [
    {
     "data": {
      "text/plain": [
       "[1.5161519375993873,\n",
       " 0.6646431757269196,\n",
       " 0.5803286825231453,\n",
       " 0.5077742623872589,\n",
       " 2.5758247707699113,\n",
       " 4.492670773896812,\n",
       " 1381.404068580479,\n",
       " 4449.568027403435,\n",
       " 95893.02658330933]"
      ]
     },
     "execution_count": 20,
     "metadata": {},
     "output_type": "execute_result"
    }
   ],
   "source": [
    "test_rmse_errors"
   ]
  },
  {
   "cell_type": "markdown",
   "metadata": {},
   "source": [
    "În cazul acestor erori (care sunt pentru datele de testare) se poate observa că de la un anumit punct eroarea (RMSE) este extrem de mare, iar eroarea pentru datele de antrenare a fost super mică, ceea ce înseamnă că modelul a făcut un Overfit la date (este prea complex pentru datele pe care le avem)"
   ]
  },
  {
   "cell_type": "code",
   "execution_count": 21,
   "metadata": {},
   "outputs": [
    {
     "data": {
      "text/plain": [
       "<matplotlib.legend.Legend at 0x7fd98478e970>"
      ]
     },
     "execution_count": 21,
     "metadata": {},
     "output_type": "execute_result"
    },
    {
     "data": {
      "image/png": "[encoded data removed]",
      "text/plain": [
       "<Figure size 432x288 with 1 Axes>"
      ]
     },
     "metadata": {
      "needs_background": "light"
     },
     "output_type": "display_data"
    }
   ],
   "source": [
    "plt.plot(train_rmse_errors, label='TRAIN RMSE')\n",
    "plt.legend()"
   ]
  },
  {
   "cell_type": "markdown",
   "metadata": {},
   "source": [
    "Putem să facem un graph doar pentru primele 6 valori din acea listăm deoarece vedem că există acea diferență extremă între acele valori. Din acel moment știm că acele date nu ne sunt de folos"
   ]
  },
  {
   "cell_type": "code",
   "execution_count": 24,
   "metadata": {},
   "outputs": [
    {
     "data": {
      "text/plain": [
       "<matplotlib.legend.Legend at 0x7fd986a7cfd0>"
      ]
     },
     "execution_count": 24,
     "metadata": {},
     "output_type": "execute_result"
    },
    {
     "data": {
      "image/png": "[encoded data removed]",
      "text/plain": [
       "<Figure size 432x288 with 1 Axes>"
      ]
     },
     "metadata": {
      "needs_background": "light"
     },
     "output_type": "display_data"
    }
   ],
   "source": [
    "plt.plot(train_rmse_errors[:5], label='TRAIN RMSE')\n",
    "plt.ylabel('RMSE')\n",
    "plt.xlabel('Degree of Polynomial Regression')\n",
    "plt.legend()"
   ]
  },
  {
   "cell_type": "markdown",
   "metadata": {},
   "source": [
    "Peste acest plot putem să mai adăugăm și datele pentru eroarea rezultată din predicțiile de pe datele de test"
   ]
  },
  {
   "cell_type": "code",
   "execution_count": 25,
   "metadata": {},
   "outputs": [
    {
     "data": {
      "text/plain": [
       "<matplotlib.legend.Legend at 0x7fd986df94f0>"
      ]
     },
     "execution_count": 25,
     "metadata": {},
     "output_type": "execute_result"
    },
    {
     "data": {
      "image/png": "[encoded data removed]",
      "text/plain": [
       "<Figure size 432x288 with 1 Axes>"
      ]
     },
     "metadata": {
      "needs_background": "light"
     },
     "output_type": "display_data"
    }
   ],
   "source": [
    "plt.plot(train_rmse_errors[:5], label='TRAIN SET')\n",
    "plt.plot(test_rmse_errors[:5], label='TEST SET')\n",
    "plt.xlabel('Degree of Polynomial Regression')\n",
    "plt.ylabel('RMSE')\n",
    "\n",
    "plt.legend()"
   ]
  },
  {
   "cell_type": "markdown",
   "metadata": {},
   "source": [
    "Ceea ce nu este corect la acel grafic este faptul că începe de la 0, pe când gradul unei ecuații începe de la valoarea 1. Unde este valoarea 1.0 la Degree of Polynomial Regression acolo defapt este o ecuațue de gradul 2. Să modificăm acest lucru."
   ]
  },
  {
   "cell_type": "code",
   "execution_count": 29,
   "metadata": {},
   "outputs": [
    {
     "data": {
      "text/plain": [
       "<matplotlib.legend.Legend at 0x7fd986d175e0>"
      ]
     },
     "execution_count": 29,
     "metadata": {},
     "output_type": "execute_result"
    },
    {
     "data": {
      "image/png": "[encoded data removed]",
      "text/plain": [
       "<Figure size 432x288 with 1 Axes>"
      ]
     },
     "metadata": {
      "needs_background": "light"
     },
     "output_type": "display_data"
    }
   ],
   "source": [
    "plt.plot(range(1, 6), train_rmse_errors[:5], label='TRAIN SET')\n",
    "plt.plot(range(1, 6), test_rmse_errors[:5], label='TEST SET')\n",
    "plt.xlabel('Degree of Polynomial Regression')\n",
    "plt.ylabel('RMSE')\n",
    "\n",
    "plt.legend()"
   ]
  },
  {
   "cell_type": "markdown",
   "metadata": {},
   "source": [
    "Se poate observa că atunci când se ajunge la o ecuație de gradul 4, RMSE începe să explodeze, ceea ce înseamnă un Overfit de date. Deoarece ecuația de gradul 4 se găsește chiar la limita aceea unde se face acea diferență între un model bun și unul care face overfit, s-ar recomanda să nu meargă până acolo cu complexitatea, ecuației, mai ales dacă diferența este așa de mare. În cazul de față se poate merge cu o ecuație de gradul 2 sau 3 (ecuația de gradul 3 are valori mai bune la partea de evaluare, dar complexitatea unei astfel de ecuații este mult mai mare față de o ecuație de gradul 2). Alegerea complexității ține foarte mult și de cunoștințele din domeniu de unde vin datele pe care se creează acest model. "
   ]
  },
  {
   "cell_type": "markdown",
   "metadata": {},
   "source": [
    "## Recapitulare"
   ]
  },
  {
   "cell_type": "markdown",
   "metadata": {},
   "source": [
    "În cadrul acestei părți am aflat următoarele lucruri:\n",
    "\n",
    "    1. Ce reprezintă conceptul de Bias-Variance Tradeoff\n",
    "    \n",
    "        High bias/ low variance = Underfitting\n",
    "\n",
    "        Low bias/ high variance = Overfitting\n",
    "\n",
    "    2. Ce reprezintă Overfitting the data\n",
    "\n",
    "        Atunci când un model performează bine pe datele de antrenare, dar prost pe cele de testare. Apare atunci când se alege un model prea complex pentru datele cu care se lucrează \n",
    "\n",
    "    3. Ce reprezintă Underfitting the data\n",
    "\n",
    "        Acest comportament apare atunci când modelul performează slab atât pe datele de antrenare cât și pe cele de testare. Apare atunci când complexitatea unui model este prea scăzută\n",
    "\n",
    "    4. Cum se poate afla dacă un model face Underfit sau Overfit la date?\n",
    "\n",
    "        Trebuie să verificăm RMSE atât pentru datele de antrenare cât și pentru datele de testare. Pentru asta trebuie făcute predicții pentru ambele seturi de date și calculate RMSE pentru fiecare set de predicții\n",
    "\n",
    "        Overfit apare atunci când eroarea pentru datele de antrenare este foarte mică, dar pentru datele de testare este mare"
   ]
  },
  {
   "cell_type": "markdown",
   "metadata": {},
   "source": []
  }
 ],
 "metadata": {
  "kernelspec": {
   "display_name": "Python 3.9.12 ('base')",
   "language": "python",
   "name": "python3"
  },
  "language_info": {
   "codemirror_mode": {
    "name": "ipython",
    "version": 3
   },
   "file_extension": ".py",
   "mimetype": "text/x-python",
   "name": "python",
   "nbconvert_exporter": "python",
   "pygments_lexer": "ipython3",
   "version": "3.9.12"
  },
  "orig_nbformat": 4,
  "vscode": {
   "interpreter": {
    "hash": "40d3a090f54c6569ab1632332b64b2c03c39dcf918b08424e98f38b5ae0af88f"
   }
  }
 },
 "nbformat": 4,
 "nbformat_minor": 2
}
