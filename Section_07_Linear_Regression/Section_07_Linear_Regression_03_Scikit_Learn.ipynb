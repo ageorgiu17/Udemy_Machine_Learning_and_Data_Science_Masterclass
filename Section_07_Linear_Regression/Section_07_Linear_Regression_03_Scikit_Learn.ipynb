{
 "cells": [
  {
   "cell_type": "markdown",
   "metadata": {},
   "source": [
    "Cea mai utilizată librărie de Machine Learning din Python este Scikit-Learn. Aceasta conține extrem de mulți algoritmi de Machine Learning, iar partea bună a acestei librării este faptul că se comportă în mare parte la fel pentru fiecare algoritm. "
   ]
  },
  {
   "cell_type": "markdown",
   "metadata": {},
   "source": [
    "După cum am spus anterior, pentru a pregăti un set de date trebuie să îl împărțim în două părți, în partea de train și în partea de test. Partea de train o să fie partea pe care se va face antrenarea unui model, iar predicțiile o să se facă pe test. Aceste două categorii de asemenea o să fie împărțite în două subcategorii, în categoria de features(X) și labels(y). Prin urmare, la final o să avem:\n",
    "\n",
    "X_train = Features utilizate pentru partea de antrenare\n",
    "\n",
    "y_train = labels utilizate pentru partea de antrenare\n",
    "\n",
    "X_test = Date utilizate pentru a face predicții\n",
    "\n",
    "y_test = labels utilizate pentru comparația dintre predicții și valorile reale."
   ]
  },
  {
   "cell_type": "markdown",
   "metadata": {},
   "source": [
    "Pentru a face împărțirea aceasta, Scikit-Learn ne oferă o metodă denumită train_test_split() la caree trebuie să îi ofeirm ca și argument două variabile, și anume variabila care deține Features(X) și variabila care deține labels(y)"
   ]
  },
  {
   "cell_type": "markdown",
   "metadata": {},
   "source": [
    "Care este regula de bază a librăriei Scikit-Learn. Se importă un anumit algoritm dintr-o familie de algoritmi (linear_model, ensemble, tree etc.) După ce se importă algorimul respectiv, acesta se instanțează. Insatnțiere se poate face utilizând și o serie de parametrii (o să vedem ce anume reprezintă acești parametrii)"
   ]
  },
  {
   "cell_type": "markdown",
   "metadata": {},
   "source": [
    "from sklera.model_family import ModelAlgorithm\n",
    "\n",
    "model = ModelAlgorithm(param1, param2)"
   ]
  },
  {
   "cell_type": "markdown",
   "metadata": {},
   "source": [
    "După ce s-a importat modelul, acesta poate fi antrenat. Antrenare se va face cu metoda fit(). Ce anume face această metodă fit()? În primul rând, acestei metode trebuie să îi oferim datele de antrenare (X_train și y_train). Pentru fiecare element din X_train o să îi atribue valoare din y_test. Astfel el știe că un anumit element care are anumite features (X) are valoarea respectivă ca și label (y)"
   ]
  },
  {
   "cell_type": "markdown",
   "metadata": {},
   "source": [
    "model.fit(X_train, y_train)"
   ]
  },
  {
   "cell_type": "markdown",
   "metadata": {},
   "source": [
    "După ce s-a antrenat modelul, se pot realiza predicții pe setul de test. Pentru a realiza predicții se va utiliza metoda .predict()"
   ]
  },
  {
   "cell_type": "markdown",
   "metadata": {},
   "source": [
    "predictions = model.predict(X_test)"
   ]
  },
  {
   "cell_type": "markdown",
   "metadata": {},
   "source": [
    "Valorile care sunt returnate de către metoda respectivă trebuie comparate cu valorile adevărate ce au fost salvete în y_test. Pentru a face această comparație trebuie să alegem o metrică de eroare din categoria de sklearn.metrics"
   ]
  },
  {
   "cell_type": "markdown",
   "metadata": {},
   "source": [
    "from sklearn.metrics import error_metric\n",
    "\n",
    "performance = error_metric(y_test, predictions)"
   ]
  },
  {
   "cell_type": "markdown",
   "metadata": {},
   "source": []
  }
 ],
 "metadata": {
  "kernelspec": {
   "display_name": "Python 3.9.12 ('base')",
   "language": "python",
   "name": "python3"
  },
  "language_info": {
   "name": "python",
   "version": "3.9.12"
  },
  "orig_nbformat": 4,
  "vscode": {
   "interpreter": {
    "hash": "40d3a090f54c6569ab1632332b64b2c03c39dcf918b08424e98f38b5ae0af88f"
   }
  }
 },
 "nbformat": 4,
 "nbformat_minor": 2
}
